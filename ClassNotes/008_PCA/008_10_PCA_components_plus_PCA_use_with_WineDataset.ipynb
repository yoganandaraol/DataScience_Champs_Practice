{
  "nbformat": 4,
  "nbformat_minor": 0,
  "metadata": {
    "colab": {
      "name": "PCA_components_plus_PCA_use_with_WineDataset.ipynb",
      "provenance": []
    },
    "kernelspec": {
      "name": "python3",
      "display_name": "Python 3"
    }
  },
  "cells": [
    {
      "cell_type": "code",
      "metadata": {
        "id": "vv1esg0uuwPG",
        "colab_type": "code",
        "colab": {
          "base_uri": "https://localhost:8080/",
          "height": 120
        },
        "outputId": "9eda010f-df9e-4036-e512-929785f9e1fb"
      },
      "source": [
        "from google.colab import drive\n",
        "drive.mount(\"/content/drive\")\n"
      ],
      "execution_count": 3,
      "outputs": [
        {
          "output_type": "stream",
          "text": [
            "Go to this URL in a browser: https://accounts.google.com/o/oauth2/auth?client_id=947318989803-6bn6qk8qdgf4n4g3pfee6491hc0brc4i.apps.googleusercontent.com&redirect_uri=urn%3aietf%3awg%3aoauth%3a2.0%3aoob&response_type=code&scope=email%20https%3a%2f%2fwww.googleapis.com%2fauth%2fdocs.test%20https%3a%2f%2fwww.googleapis.com%2fauth%2fdrive%20https%3a%2f%2fwww.googleapis.com%2fauth%2fdrive.photos.readonly%20https%3a%2f%2fwww.googleapis.com%2fauth%2fpeopleapi.readonly\n",
            "\n",
            "Enter your authorization code:\n",
            "··········\n",
            "Mounted at /content/drive\n"
          ],
          "name": "stdout"
        }
      ]
    },
    {
      "cell_type": "code",
      "metadata": {
        "id": "Kc0aibU_u2cb",
        "colab_type": "code",
        "colab": {}
      },
      "source": [
        "# importing required libraries \n",
        "import numpy as np \n",
        "import matplotlib.pyplot as plt \n",
        "%matplotlib inline\n",
        "\n",
        "import pandas as pd\n",
        "import seaborn as sns\n",
        "import warnings\n",
        "warnings.filterwarnings('ignore')"
      ],
      "execution_count": 4,
      "outputs": []
    },
    {
      "cell_type": "code",
      "metadata": {
        "id": "H5QdOuUkvBwN",
        "colab_type": "code",
        "colab": {
          "base_uri": "https://localhost:8080/",
          "height": 216
        },
        "outputId": "ba2768b3-15f8-46db-c9a5-188c0ae91b29"
      },
      "source": [
        "# reading the dataset from Google drive into our DataFrame\n",
        "df=pd.read_csv('/content/drive/My Drive/INSAID/wine.csv')\n",
        "df.head()"
      ],
      "execution_count": 5,
      "outputs": [
        {
          "output_type": "execute_result",
          "data": {
            "text/html": [
              "<div>\n",
              "<style scoped>\n",
              "    .dataframe tbody tr th:only-of-type {\n",
              "        vertical-align: middle;\n",
              "    }\n",
              "\n",
              "    .dataframe tbody tr th {\n",
              "        vertical-align: top;\n",
              "    }\n",
              "\n",
              "    .dataframe thead th {\n",
              "        text-align: right;\n",
              "    }\n",
              "</style>\n",
              "<table border=\"1\" class=\"dataframe\">\n",
              "  <thead>\n",
              "    <tr style=\"text-align: right;\">\n",
              "      <th></th>\n",
              "      <th>name</th>\n",
              "      <th>alcohol</th>\n",
              "      <th>malicAcid</th>\n",
              "      <th>ash</th>\n",
              "      <th>ashalcalinity</th>\n",
              "      <th>magnesium</th>\n",
              "      <th>totalPhenols</th>\n",
              "      <th>flavanoids</th>\n",
              "      <th>nonFlavanoidPhenols</th>\n",
              "      <th>proanthocyanins</th>\n",
              "      <th>colorIntensity</th>\n",
              "      <th>hue</th>\n",
              "      <th>od280_od315</th>\n",
              "      <th>proline</th>\n",
              "    </tr>\n",
              "  </thead>\n",
              "  <tbody>\n",
              "    <tr>\n",
              "      <th>0</th>\n",
              "      <td>1</td>\n",
              "      <td>13.20</td>\n",
              "      <td>1.78</td>\n",
              "      <td>2.14</td>\n",
              "      <td>11.2</td>\n",
              "      <td>100</td>\n",
              "      <td>2.65</td>\n",
              "      <td>2.76</td>\n",
              "      <td>0.26</td>\n",
              "      <td>1.28</td>\n",
              "      <td>4.38</td>\n",
              "      <td>1.05</td>\n",
              "      <td>3.40</td>\n",
              "      <td>1050</td>\n",
              "    </tr>\n",
              "    <tr>\n",
              "      <th>1</th>\n",
              "      <td>1</td>\n",
              "      <td>13.16</td>\n",
              "      <td>2.36</td>\n",
              "      <td>2.67</td>\n",
              "      <td>18.6</td>\n",
              "      <td>101</td>\n",
              "      <td>2.80</td>\n",
              "      <td>3.24</td>\n",
              "      <td>0.30</td>\n",
              "      <td>2.81</td>\n",
              "      <td>5.68</td>\n",
              "      <td>1.03</td>\n",
              "      <td>3.17</td>\n",
              "      <td>1185</td>\n",
              "    </tr>\n",
              "    <tr>\n",
              "      <th>2</th>\n",
              "      <td>1</td>\n",
              "      <td>14.37</td>\n",
              "      <td>1.95</td>\n",
              "      <td>2.50</td>\n",
              "      <td>16.8</td>\n",
              "      <td>113</td>\n",
              "      <td>3.85</td>\n",
              "      <td>3.49</td>\n",
              "      <td>0.24</td>\n",
              "      <td>2.18</td>\n",
              "      <td>7.80</td>\n",
              "      <td>0.86</td>\n",
              "      <td>3.45</td>\n",
              "      <td>1480</td>\n",
              "    </tr>\n",
              "    <tr>\n",
              "      <th>3</th>\n",
              "      <td>1</td>\n",
              "      <td>13.24</td>\n",
              "      <td>2.59</td>\n",
              "      <td>2.87</td>\n",
              "      <td>21.0</td>\n",
              "      <td>118</td>\n",
              "      <td>2.80</td>\n",
              "      <td>2.69</td>\n",
              "      <td>0.39</td>\n",
              "      <td>1.82</td>\n",
              "      <td>4.32</td>\n",
              "      <td>1.04</td>\n",
              "      <td>2.93</td>\n",
              "      <td>735</td>\n",
              "    </tr>\n",
              "    <tr>\n",
              "      <th>4</th>\n",
              "      <td>1</td>\n",
              "      <td>14.20</td>\n",
              "      <td>1.76</td>\n",
              "      <td>2.45</td>\n",
              "      <td>15.2</td>\n",
              "      <td>112</td>\n",
              "      <td>3.27</td>\n",
              "      <td>3.39</td>\n",
              "      <td>0.34</td>\n",
              "      <td>1.97</td>\n",
              "      <td>6.75</td>\n",
              "      <td>1.05</td>\n",
              "      <td>2.85</td>\n",
              "      <td>1450</td>\n",
              "    </tr>\n",
              "  </tbody>\n",
              "</table>\n",
              "</div>"
            ],
            "text/plain": [
              "   name  alcohol  malicAcid   ash  ...  colorIntensity   hue  od280_od315  proline\n",
              "0     1    13.20       1.78  2.14  ...            4.38  1.05         3.40     1050\n",
              "1     1    13.16       2.36  2.67  ...            5.68  1.03         3.17     1185\n",
              "2     1    14.37       1.95  2.50  ...            7.80  0.86         3.45     1480\n",
              "3     1    13.24       2.59  2.87  ...            4.32  1.04         2.93      735\n",
              "4     1    14.20       1.76  2.45  ...            6.75  1.05         2.85     1450\n",
              "\n",
              "[5 rows x 14 columns]"
            ]
          },
          "metadata": {
            "tags": []
          },
          "execution_count": 5
        }
      ]
    },
    {
      "cell_type": "code",
      "metadata": {
        "id": "9e60vDG2vEDs",
        "colab_type": "code",
        "colab": {}
      },
      "source": [
        "#  Putting feature variables  to X\n",
        "X = df.drop(['name'],axis=1)\n",
        "\n",
        "y= df['name']#class variable"
      ],
      "execution_count": 6,
      "outputs": []
    },
    {
      "cell_type": "code",
      "metadata": {
        "id": "gW-bhlTmvH6w",
        "colab_type": "code",
        "colab": {}
      },
      "source": [
        "# Train Test split\n",
        "from sklearn.model_selection import train_test_split \n",
        "X_train, X_test, y_train, y_test = train_test_split(X, y, test_size = 0.2, random_state = 90) \n"
      ],
      "execution_count": 8,
      "outputs": []
    },
    {
      "cell_type": "code",
      "metadata": {
        "id": "8qeEL_2OvfWQ",
        "colab_type": "code",
        "colab": {}
      },
      "source": [
        "# Importing Standard Scaler from sklearn for normalizing the data\n",
        "# if normalization is not done,\n",
        "# importance of columns like \"proline\" where values are in the range like 500, 1000 etc will have much much higher impact in overall calculations\n",
        "# \n",
        "\n",
        "from sklearn.preprocessing import StandardScaler \n",
        "sc = StandardScaler() \n",
        "\n",
        "X_train = sc.fit_transform(X_train) \n",
        "X_test = sc.transform(X_test) "
      ],
      "execution_count": 9,
      "outputs": []
    },
    {
      "cell_type": "code",
      "metadata": {
        "id": "GAyf3q-uvkdc",
        "colab_type": "code",
        "colab": {}
      },
      "source": [
        "# importing PCA from sklearn\n",
        "# when creating object using PCA () if n_components is not set and also expected % variance is also not provided\n",
        "# then all \"Principal Components\" will be considered\n",
        "from sklearn.decomposition import PCA\n",
        "pca = PCA()"
      ],
      "execution_count": 10,
      "outputs": []
    },
    {
      "cell_type": "code",
      "metadata": {
        "id": "8g-uh5oBvum0",
        "colab_type": "code",
        "colab": {
          "base_uri": "https://localhost:8080/",
          "height": 234
        },
        "outputId": "cc29d15d-a918-42c2-b1aa-478d0925b01f"
      },
      "source": [
        "# providing X_train to pca object created above to learn about the properties of dataset\n",
        "pca.fit_transform(X_train)"
      ],
      "execution_count": 11,
      "outputs": [
        {
          "output_type": "execute_result",
          "data": {
            "text/plain": [
              "array([[-0.13197353, -2.81299567,  0.023459  , ...,  0.68460107,\n",
              "         0.38684865,  0.22443437],\n",
              "       [-3.56830448,  1.63504827,  0.02029035, ...,  0.48926736,\n",
              "        -0.08465599,  0.0719787 ],\n",
              "       [ 3.31970678,  0.1556735 ,  1.63830766, ..., -0.12206032,\n",
              "         0.31249146, -0.07180105],\n",
              "       ...,\n",
              "       [ 0.65928291, -3.6370995 , -1.33617325, ...,  0.33824748,\n",
              "         0.37494051,  0.11462182],\n",
              "       [-1.07410495,  3.65774742, -0.91346393, ..., -0.21987919,\n",
              "         0.25264567,  0.60847847],\n",
              "       [-1.81915381, -1.50097839,  0.19877512, ..., -0.2385404 ,\n",
              "        -0.46117597, -0.31332876]])"
            ]
          },
          "metadata": {
            "tags": []
          },
          "execution_count": 11
        }
      ]
    },
    {
      "cell_type": "code",
      "metadata": {
        "id": "aQAegZpaG2ho",
        "colab_type": "code",
        "colab": {
          "base_uri": "https://localhost:8080/",
          "height": 234
        },
        "outputId": "29a16b7c-5abb-41ed-f742-09122bcd76a4"
      },
      "source": [
        "#  X_train, is the data that was taken into consideration for PCA transformation \n",
        "X_train"
      ],
      "execution_count": 12,
      "outputs": [
        {
          "output_type": "execute_result",
          "data": {
            "text/plain": [
              "array([[-1.4531345 , -0.7988835 , -1.26808933, ..., -0.03710378,\n",
              "         1.07818693, -0.77583604],\n",
              "       [ 0.25736053,  2.52886725, -0.1015374 , ..., -1.58100902,\n",
              "        -1.56683386, -0.05589891],\n",
              "       [ 0.10531653, -0.56629877, -1.09133904, ...,  0.71279305,\n",
              "         0.47769572,  1.2744197 ],\n",
              "       ...,\n",
              "       [-2.45409085, -0.76310124, -0.5257381 , ...,  3.31537616,\n",
              "         0.42050608, -1.05129025],\n",
              "       [ 1.73978956, -0.61102661,  1.24176482, ..., -1.71334375,\n",
              "        -0.88055819, -0.25935941],\n",
              "       [-0.35081548, -0.7452101 , -0.31363775, ...,  0.0070078 ,\n",
              "        -0.7375841 , -0.77583604]])"
            ]
          },
          "metadata": {
            "tags": []
          },
          "execution_count": 12
        }
      ]
    },
    {
      "cell_type": "code",
      "metadata": {
        "id": "BoBxCUoSvw3q",
        "colab_type": "code",
        "colab": {
          "base_uri": "https://localhost:8080/",
          "height": 196
        },
        "outputId": "8785039c-f981-4c6d-956c-7a46969e0daf"
      },
      "source": [
        "# pca.components_ tells us composition of pca components, \n",
        "# coef's that were used in creating them\n",
        "# are converting those coef's into a dataframe with pd.DataFrame\n",
        "pca_components_df = pd.DataFrame(pca.components_)\n",
        "pca_components_df.head()"
      ],
      "execution_count": 13,
      "outputs": [
        {
          "output_type": "execute_result",
          "data": {
            "text/html": [
              "<div>\n",
              "<style scoped>\n",
              "    .dataframe tbody tr th:only-of-type {\n",
              "        vertical-align: middle;\n",
              "    }\n",
              "\n",
              "    .dataframe tbody tr th {\n",
              "        vertical-align: top;\n",
              "    }\n",
              "\n",
              "    .dataframe thead th {\n",
              "        text-align: right;\n",
              "    }\n",
              "</style>\n",
              "<table border=\"1\" class=\"dataframe\">\n",
              "  <thead>\n",
              "    <tr style=\"text-align: right;\">\n",
              "      <th></th>\n",
              "      <th>0</th>\n",
              "      <th>1</th>\n",
              "      <th>2</th>\n",
              "      <th>3</th>\n",
              "      <th>4</th>\n",
              "      <th>5</th>\n",
              "      <th>6</th>\n",
              "      <th>7</th>\n",
              "      <th>8</th>\n",
              "      <th>9</th>\n",
              "      <th>10</th>\n",
              "      <th>11</th>\n",
              "      <th>12</th>\n",
              "    </tr>\n",
              "  </thead>\n",
              "  <tbody>\n",
              "    <tr>\n",
              "      <th>0</th>\n",
              "      <td>0.127584</td>\n",
              "      <td>-0.247716</td>\n",
              "      <td>-0.035983</td>\n",
              "      <td>-0.251695</td>\n",
              "      <td>0.101423</td>\n",
              "      <td>0.391634</td>\n",
              "      <td>0.430127</td>\n",
              "      <td>-0.296061</td>\n",
              "      <td>0.314232</td>\n",
              "      <td>-0.073368</td>\n",
              "      <td>0.310106</td>\n",
              "      <td>0.379213</td>\n",
              "      <td>0.278021</td>\n",
              "    </tr>\n",
              "    <tr>\n",
              "      <th>1</th>\n",
              "      <td>0.492494</td>\n",
              "      <td>0.165419</td>\n",
              "      <td>0.361425</td>\n",
              "      <td>0.037780</td>\n",
              "      <td>0.304752</td>\n",
              "      <td>0.070756</td>\n",
              "      <td>0.002768</td>\n",
              "      <td>0.040729</td>\n",
              "      <td>0.038803</td>\n",
              "      <td>0.525837</td>\n",
              "      <td>-0.218816</td>\n",
              "      <td>-0.157512</td>\n",
              "      <td>0.384426</td>\n",
              "    </tr>\n",
              "    <tr>\n",
              "      <th>2</th>\n",
              "      <td>0.201221</td>\n",
              "      <td>-0.207996</td>\n",
              "      <td>-0.559820</td>\n",
              "      <td>-0.605158</td>\n",
              "      <td>-0.068425</td>\n",
              "      <td>-0.170959</td>\n",
              "      <td>-0.143469</td>\n",
              "      <td>-0.098568</td>\n",
              "      <td>-0.229563</td>\n",
              "      <td>0.180377</td>\n",
              "      <td>-0.044902</td>\n",
              "      <td>-0.238838</td>\n",
              "      <td>0.167721</td>\n",
              "    </tr>\n",
              "    <tr>\n",
              "      <th>3</th>\n",
              "      <td>-0.132652</td>\n",
              "      <td>-0.437526</td>\n",
              "      <td>0.204483</td>\n",
              "      <td>0.061730</td>\n",
              "      <td>0.642908</td>\n",
              "      <td>-0.195651</td>\n",
              "      <td>-0.160585</td>\n",
              "      <td>-0.036714</td>\n",
              "      <td>-0.310120</td>\n",
              "      <td>-0.170260</td>\n",
              "      <td>0.340970</td>\n",
              "      <td>-0.124316</td>\n",
              "      <td>0.098628</td>\n",
              "    </tr>\n",
              "    <tr>\n",
              "      <th>4</th>\n",
              "      <td>-0.181104</td>\n",
              "      <td>0.249014</td>\n",
              "      <td>-0.228534</td>\n",
              "      <td>0.048413</td>\n",
              "      <td>0.457792</td>\n",
              "      <td>-0.061145</td>\n",
              "      <td>-0.042564</td>\n",
              "      <td>-0.643398</td>\n",
              "      <td>0.215315</td>\n",
              "      <td>-0.014874</td>\n",
              "      <td>-0.379404</td>\n",
              "      <td>-0.022252</td>\n",
              "      <td>-0.174681</td>\n",
              "    </tr>\n",
              "  </tbody>\n",
              "</table>\n",
              "</div>"
            ],
            "text/plain": [
              "         0         1         2   ...        10        11        12\n",
              "0  0.127584 -0.247716 -0.035983  ...  0.310106  0.379213  0.278021\n",
              "1  0.492494  0.165419  0.361425  ... -0.218816 -0.157512  0.384426\n",
              "2  0.201221 -0.207996 -0.559820  ... -0.044902 -0.238838  0.167721\n",
              "3 -0.132652 -0.437526  0.204483  ...  0.340970 -0.124316  0.098628\n",
              "4 -0.181104  0.249014 -0.228534  ... -0.379404 -0.022252 -0.174681\n",
              "\n",
              "[5 rows x 13 columns]"
            ]
          },
          "metadata": {
            "tags": []
          },
          "execution_count": 13
        }
      ]
    },
    {
      "cell_type": "code",
      "metadata": {
        "id": "VQlF4wb4v-m4",
        "colab_type": "code",
        "colab": {
          "base_uri": "https://localhost:8080/",
          "height": 196
        },
        "outputId": "c00cf22b-89d1-471b-9885-d1b7c0651093"
      },
      "source": [
        "pca_components_df = pd.DataFrame({'PC1_coef':pca.components_[0],'PC2_coef':pca.components_[1],'PC3_coef':pca.components_[2], 'PC4_coef':pca.components_[3], \n",
        "                       'PC5_coef':pca.components_[4],'PC6_coef':pca.components_[5],'PC7_coef':pca.components_[6], 'PC8_coef':pca.components_[7], \n",
        "                       'PC9_coef':pca.components_[8],'PC10_coef':pca.components_[9],'PC11_coef':pca.components_[10], 'PC12_coef':pca.components_[11],\n",
        "                       'PC13_coef':pca.components_[12]})\n",
        "\n",
        "pca_components_df.head()"
      ],
      "execution_count": 14,
      "outputs": [
        {
          "output_type": "execute_result",
          "data": {
            "text/html": [
              "<div>\n",
              "<style scoped>\n",
              "    .dataframe tbody tr th:only-of-type {\n",
              "        vertical-align: middle;\n",
              "    }\n",
              "\n",
              "    .dataframe tbody tr th {\n",
              "        vertical-align: top;\n",
              "    }\n",
              "\n",
              "    .dataframe thead th {\n",
              "        text-align: right;\n",
              "    }\n",
              "</style>\n",
              "<table border=\"1\" class=\"dataframe\">\n",
              "  <thead>\n",
              "    <tr style=\"text-align: right;\">\n",
              "      <th></th>\n",
              "      <th>PC1_coef</th>\n",
              "      <th>PC2_coef</th>\n",
              "      <th>PC3_coef</th>\n",
              "      <th>PC4_coef</th>\n",
              "      <th>PC5_coef</th>\n",
              "      <th>PC6_coef</th>\n",
              "      <th>PC7_coef</th>\n",
              "      <th>PC8_coef</th>\n",
              "      <th>PC9_coef</th>\n",
              "      <th>PC10_coef</th>\n",
              "      <th>PC11_coef</th>\n",
              "      <th>PC12_coef</th>\n",
              "      <th>PC13_coef</th>\n",
              "    </tr>\n",
              "  </thead>\n",
              "  <tbody>\n",
              "    <tr>\n",
              "      <th>0</th>\n",
              "      <td>0.127584</td>\n",
              "      <td>0.492494</td>\n",
              "      <td>0.201221</td>\n",
              "      <td>-0.132652</td>\n",
              "      <td>-0.181104</td>\n",
              "      <td>-0.213307</td>\n",
              "      <td>-0.204372</td>\n",
              "      <td>-0.423273</td>\n",
              "      <td>-0.398335</td>\n",
              "      <td>-0.306394</td>\n",
              "      <td>-0.246077</td>\n",
              "      <td>-0.253044</td>\n",
              "      <td>0.082010</td>\n",
              "    </tr>\n",
              "    <tr>\n",
              "      <th>1</th>\n",
              "      <td>-0.247716</td>\n",
              "      <td>0.165419</td>\n",
              "      <td>-0.207996</td>\n",
              "      <td>-0.437526</td>\n",
              "      <td>0.249014</td>\n",
              "      <td>-0.634188</td>\n",
              "      <td>0.337158</td>\n",
              "      <td>-0.073113</td>\n",
              "      <td>0.001985</td>\n",
              "      <td>0.295799</td>\n",
              "      <td>0.036209</td>\n",
              "      <td>0.064205</td>\n",
              "      <td>-0.020615</td>\n",
              "    </tr>\n",
              "    <tr>\n",
              "      <th>2</th>\n",
              "      <td>-0.035983</td>\n",
              "      <td>0.361425</td>\n",
              "      <td>-0.559820</td>\n",
              "      <td>0.204483</td>\n",
              "      <td>-0.228534</td>\n",
              "      <td>-0.081250</td>\n",
              "      <td>-0.179561</td>\n",
              "      <td>0.179083</td>\n",
              "      <td>0.404402</td>\n",
              "      <td>-0.009705</td>\n",
              "      <td>-0.457261</td>\n",
              "      <td>0.066597</td>\n",
              "      <td>0.112092</td>\n",
              "    </tr>\n",
              "    <tr>\n",
              "      <th>3</th>\n",
              "      <td>-0.251695</td>\n",
              "      <td>0.037780</td>\n",
              "      <td>-0.605158</td>\n",
              "      <td>0.061730</td>\n",
              "      <td>0.048413</td>\n",
              "      <td>0.178476</td>\n",
              "      <td>-0.288314</td>\n",
              "      <td>-0.310948</td>\n",
              "      <td>-0.218354</td>\n",
              "      <td>-0.000407</td>\n",
              "      <td>0.512624</td>\n",
              "      <td>-0.181766</td>\n",
              "      <td>-0.087657</td>\n",
              "    </tr>\n",
              "    <tr>\n",
              "      <th>4</th>\n",
              "      <td>0.101423</td>\n",
              "      <td>0.304752</td>\n",
              "      <td>-0.068425</td>\n",
              "      <td>0.642908</td>\n",
              "      <td>0.457792</td>\n",
              "      <td>-0.033154</td>\n",
              "      <td>0.376544</td>\n",
              "      <td>0.094943</td>\n",
              "      <td>-0.319121</td>\n",
              "      <td>-0.058569</td>\n",
              "      <td>-0.024170</td>\n",
              "      <td>0.057671</td>\n",
              "      <td>-0.090423</td>\n",
              "    </tr>\n",
              "  </tbody>\n",
              "</table>\n",
              "</div>"
            ],
            "text/plain": [
              "   PC1_coef  PC2_coef  PC3_coef  ...  PC11_coef  PC12_coef  PC13_coef\n",
              "0  0.127584  0.492494  0.201221  ...  -0.246077  -0.253044   0.082010\n",
              "1 -0.247716  0.165419 -0.207996  ...   0.036209   0.064205  -0.020615\n",
              "2 -0.035983  0.361425 -0.559820  ...  -0.457261   0.066597   0.112092\n",
              "3 -0.251695  0.037780 -0.605158  ...   0.512624  -0.181766  -0.087657\n",
              "4  0.101423  0.304752 -0.068425  ...  -0.024170   0.057671  -0.090423\n",
              "\n",
              "[5 rows x 13 columns]"
            ]
          },
          "metadata": {
            "tags": []
          },
          "execution_count": 14
        }
      ]
    },
    {
      "cell_type": "code",
      "metadata": {
        "id": "XbCeO5mbwBtu",
        "colab_type": "code",
        "colab": {
          "base_uri": "https://localhost:8080/",
          "height": 196
        },
        "outputId": "b35867b3-ef2a-4ca6-a21e-a3d200ca15a2"
      },
      "source": [
        "# We need to source actual column labels, we decide to use X (please remember X over here is obtained after we removed the \"Target column \"name\"..\")\n",
        "X.head()"
      ],
      "execution_count": 15,
      "outputs": [
        {
          "output_type": "execute_result",
          "data": {
            "text/html": [
              "<div>\n",
              "<style scoped>\n",
              "    .dataframe tbody tr th:only-of-type {\n",
              "        vertical-align: middle;\n",
              "    }\n",
              "\n",
              "    .dataframe tbody tr th {\n",
              "        vertical-align: top;\n",
              "    }\n",
              "\n",
              "    .dataframe thead th {\n",
              "        text-align: right;\n",
              "    }\n",
              "</style>\n",
              "<table border=\"1\" class=\"dataframe\">\n",
              "  <thead>\n",
              "    <tr style=\"text-align: right;\">\n",
              "      <th></th>\n",
              "      <th>alcohol</th>\n",
              "      <th>malicAcid</th>\n",
              "      <th>ash</th>\n",
              "      <th>ashalcalinity</th>\n",
              "      <th>magnesium</th>\n",
              "      <th>totalPhenols</th>\n",
              "      <th>flavanoids</th>\n",
              "      <th>nonFlavanoidPhenols</th>\n",
              "      <th>proanthocyanins</th>\n",
              "      <th>colorIntensity</th>\n",
              "      <th>hue</th>\n",
              "      <th>od280_od315</th>\n",
              "      <th>proline</th>\n",
              "    </tr>\n",
              "  </thead>\n",
              "  <tbody>\n",
              "    <tr>\n",
              "      <th>0</th>\n",
              "      <td>13.20</td>\n",
              "      <td>1.78</td>\n",
              "      <td>2.14</td>\n",
              "      <td>11.2</td>\n",
              "      <td>100</td>\n",
              "      <td>2.65</td>\n",
              "      <td>2.76</td>\n",
              "      <td>0.26</td>\n",
              "      <td>1.28</td>\n",
              "      <td>4.38</td>\n",
              "      <td>1.05</td>\n",
              "      <td>3.40</td>\n",
              "      <td>1050</td>\n",
              "    </tr>\n",
              "    <tr>\n",
              "      <th>1</th>\n",
              "      <td>13.16</td>\n",
              "      <td>2.36</td>\n",
              "      <td>2.67</td>\n",
              "      <td>18.6</td>\n",
              "      <td>101</td>\n",
              "      <td>2.80</td>\n",
              "      <td>3.24</td>\n",
              "      <td>0.30</td>\n",
              "      <td>2.81</td>\n",
              "      <td>5.68</td>\n",
              "      <td>1.03</td>\n",
              "      <td>3.17</td>\n",
              "      <td>1185</td>\n",
              "    </tr>\n",
              "    <tr>\n",
              "      <th>2</th>\n",
              "      <td>14.37</td>\n",
              "      <td>1.95</td>\n",
              "      <td>2.50</td>\n",
              "      <td>16.8</td>\n",
              "      <td>113</td>\n",
              "      <td>3.85</td>\n",
              "      <td>3.49</td>\n",
              "      <td>0.24</td>\n",
              "      <td>2.18</td>\n",
              "      <td>7.80</td>\n",
              "      <td>0.86</td>\n",
              "      <td>3.45</td>\n",
              "      <td>1480</td>\n",
              "    </tr>\n",
              "    <tr>\n",
              "      <th>3</th>\n",
              "      <td>13.24</td>\n",
              "      <td>2.59</td>\n",
              "      <td>2.87</td>\n",
              "      <td>21.0</td>\n",
              "      <td>118</td>\n",
              "      <td>2.80</td>\n",
              "      <td>2.69</td>\n",
              "      <td>0.39</td>\n",
              "      <td>1.82</td>\n",
              "      <td>4.32</td>\n",
              "      <td>1.04</td>\n",
              "      <td>2.93</td>\n",
              "      <td>735</td>\n",
              "    </tr>\n",
              "    <tr>\n",
              "      <th>4</th>\n",
              "      <td>14.20</td>\n",
              "      <td>1.76</td>\n",
              "      <td>2.45</td>\n",
              "      <td>15.2</td>\n",
              "      <td>112</td>\n",
              "      <td>3.27</td>\n",
              "      <td>3.39</td>\n",
              "      <td>0.34</td>\n",
              "      <td>1.97</td>\n",
              "      <td>6.75</td>\n",
              "      <td>1.05</td>\n",
              "      <td>2.85</td>\n",
              "      <td>1450</td>\n",
              "    </tr>\n",
              "  </tbody>\n",
              "</table>\n",
              "</div>"
            ],
            "text/plain": [
              "   alcohol  malicAcid   ash  ...   hue  od280_od315  proline\n",
              "0    13.20       1.78  2.14  ...  1.05         3.40     1050\n",
              "1    13.16       2.36  2.67  ...  1.03         3.17     1185\n",
              "2    14.37       1.95  2.50  ...  0.86         3.45     1480\n",
              "3    13.24       2.59  2.87  ...  1.04         2.93      735\n",
              "4    14.20       1.76  2.45  ...  1.05         2.85     1450\n",
              "\n",
              "[5 rows x 13 columns]"
            ]
          },
          "metadata": {
            "tags": []
          },
          "execution_count": 15
        }
      ]
    },
    {
      "cell_type": "code",
      "metadata": {
        "id": "PVMgJXvuwQjp",
        "colab_type": "code",
        "colab": {}
      },
      "source": [
        "# creating list colnames that will hold labels of original columns \n",
        "colnames=list(X.columns)"
      ],
      "execution_count": 16,
      "outputs": []
    },
    {
      "cell_type": "code",
      "metadata": {
        "id": "GmeoJ_Ztwd-1",
        "colab_type": "code",
        "colab": {
          "base_uri": "https://localhost:8080/",
          "height": 435
        },
        "outputId": "a8ee7da9-0836-4cf3-8d4e-da614c3de4ee"
      },
      "source": [
        "# to find out details \"1st Principal component\" which columns from original dataframe  \n",
        "# pca.components_[0]contains data for 1st column\n",
        "\n",
        "pc1_df = pd.DataFrame({'PC1_coef':pca.components_[0],\n",
        "                       'Feature': colnames})\n",
        "\n",
        "pc1_df.head(15)"
      ],
      "execution_count": 17,
      "outputs": [
        {
          "output_type": "execute_result",
          "data": {
            "text/html": [
              "<div>\n",
              "<style scoped>\n",
              "    .dataframe tbody tr th:only-of-type {\n",
              "        vertical-align: middle;\n",
              "    }\n",
              "\n",
              "    .dataframe tbody tr th {\n",
              "        vertical-align: top;\n",
              "    }\n",
              "\n",
              "    .dataframe thead th {\n",
              "        text-align: right;\n",
              "    }\n",
              "</style>\n",
              "<table border=\"1\" class=\"dataframe\">\n",
              "  <thead>\n",
              "    <tr style=\"text-align: right;\">\n",
              "      <th></th>\n",
              "      <th>PC1_coef</th>\n",
              "      <th>Feature</th>\n",
              "    </tr>\n",
              "  </thead>\n",
              "  <tbody>\n",
              "    <tr>\n",
              "      <th>0</th>\n",
              "      <td>0.127584</td>\n",
              "      <td>alcohol</td>\n",
              "    </tr>\n",
              "    <tr>\n",
              "      <th>1</th>\n",
              "      <td>-0.247716</td>\n",
              "      <td>malicAcid</td>\n",
              "    </tr>\n",
              "    <tr>\n",
              "      <th>2</th>\n",
              "      <td>-0.035983</td>\n",
              "      <td>ash</td>\n",
              "    </tr>\n",
              "    <tr>\n",
              "      <th>3</th>\n",
              "      <td>-0.251695</td>\n",
              "      <td>ashalcalinity</td>\n",
              "    </tr>\n",
              "    <tr>\n",
              "      <th>4</th>\n",
              "      <td>0.101423</td>\n",
              "      <td>magnesium</td>\n",
              "    </tr>\n",
              "    <tr>\n",
              "      <th>5</th>\n",
              "      <td>0.391634</td>\n",
              "      <td>totalPhenols</td>\n",
              "    </tr>\n",
              "    <tr>\n",
              "      <th>6</th>\n",
              "      <td>0.430127</td>\n",
              "      <td>flavanoids</td>\n",
              "    </tr>\n",
              "    <tr>\n",
              "      <th>7</th>\n",
              "      <td>-0.296061</td>\n",
              "      <td>nonFlavanoidPhenols</td>\n",
              "    </tr>\n",
              "    <tr>\n",
              "      <th>8</th>\n",
              "      <td>0.314232</td>\n",
              "      <td>proanthocyanins</td>\n",
              "    </tr>\n",
              "    <tr>\n",
              "      <th>9</th>\n",
              "      <td>-0.073368</td>\n",
              "      <td>colorIntensity</td>\n",
              "    </tr>\n",
              "    <tr>\n",
              "      <th>10</th>\n",
              "      <td>0.310106</td>\n",
              "      <td>hue</td>\n",
              "    </tr>\n",
              "    <tr>\n",
              "      <th>11</th>\n",
              "      <td>0.379213</td>\n",
              "      <td>od280_od315</td>\n",
              "    </tr>\n",
              "    <tr>\n",
              "      <th>12</th>\n",
              "      <td>0.278021</td>\n",
              "      <td>proline</td>\n",
              "    </tr>\n",
              "  </tbody>\n",
              "</table>\n",
              "</div>"
            ],
            "text/plain": [
              "    PC1_coef              Feature\n",
              "0   0.127584              alcohol\n",
              "1  -0.247716            malicAcid\n",
              "2  -0.035983                  ash\n",
              "3  -0.251695        ashalcalinity\n",
              "4   0.101423            magnesium\n",
              "5   0.391634         totalPhenols\n",
              "6   0.430127           flavanoids\n",
              "7  -0.296061  nonFlavanoidPhenols\n",
              "8   0.314232      proanthocyanins\n",
              "9  -0.073368       colorIntensity\n",
              "10  0.310106                  hue\n",
              "11  0.379213          od280_od315\n",
              "12  0.278021              proline"
            ]
          },
          "metadata": {
            "tags": []
          },
          "execution_count": 17
        }
      ]
    },
    {
      "cell_type": "code",
      "metadata": {
        "id": "8M_xxOyeD7nT",
        "colab_type": "code",
        "colab": {}
      },
      "source": [
        "# to see details of linear combinations using which any principal component is created \n",
        "# we are utilizing the component details and column names stored in colnames \n",
        "\n",
        "pc_component_breakup_df = pd.DataFrame({'PC1_coef':pca.components_[0],'PC2_coef':pca.components_[1],'PC3_coef':pca.components_[2], 'PC4_coef':pca.components_[3], \n",
        "                       'PC5_coef':pca.components_[4],'PC6_coef':pca.components_[5],'PC7_coef':pca.components_[6], 'PC8_coef':pca.components_[7], \n",
        "                       'PC9_coef':pca.components_[8],'PC10_coef':pca.components_[9],'PC11_coef':pca.components_[10], 'PC12_coef':pca.components_[11],\n",
        "                       'PC13_coef':pca.components_[12], 'Feature': colnames})\n"
      ],
      "execution_count": 18,
      "outputs": []
    },
    {
      "cell_type": "code",
      "metadata": {
        "id": "_2Y5DuA3xNKX",
        "colab_type": "code",
        "colab": {
          "base_uri": "https://localhost:8080/",
          "height": 435
        },
        "outputId": "fa41d59d-9b76-4316-d85c-9571cd99ba57"
      },
      "source": [
        "# full details of nxn matrix that contains coef's using which Principal components get created\n",
        "pc_component_breakup_df.head(15)"
      ],
      "execution_count": 19,
      "outputs": [
        {
          "output_type": "execute_result",
          "data": {
            "text/html": [
              "<div>\n",
              "<style scoped>\n",
              "    .dataframe tbody tr th:only-of-type {\n",
              "        vertical-align: middle;\n",
              "    }\n",
              "\n",
              "    .dataframe tbody tr th {\n",
              "        vertical-align: top;\n",
              "    }\n",
              "\n",
              "    .dataframe thead th {\n",
              "        text-align: right;\n",
              "    }\n",
              "</style>\n",
              "<table border=\"1\" class=\"dataframe\">\n",
              "  <thead>\n",
              "    <tr style=\"text-align: right;\">\n",
              "      <th></th>\n",
              "      <th>PC1_coef</th>\n",
              "      <th>PC2_coef</th>\n",
              "      <th>PC3_coef</th>\n",
              "      <th>PC4_coef</th>\n",
              "      <th>PC5_coef</th>\n",
              "      <th>PC6_coef</th>\n",
              "      <th>PC7_coef</th>\n",
              "      <th>PC8_coef</th>\n",
              "      <th>PC9_coef</th>\n",
              "      <th>PC10_coef</th>\n",
              "      <th>PC11_coef</th>\n",
              "      <th>PC12_coef</th>\n",
              "      <th>PC13_coef</th>\n",
              "      <th>Feature</th>\n",
              "    </tr>\n",
              "  </thead>\n",
              "  <tbody>\n",
              "    <tr>\n",
              "      <th>0</th>\n",
              "      <td>0.127584</td>\n",
              "      <td>0.492494</td>\n",
              "      <td>0.201221</td>\n",
              "      <td>-0.132652</td>\n",
              "      <td>-0.181104</td>\n",
              "      <td>-0.213307</td>\n",
              "      <td>-0.204372</td>\n",
              "      <td>-0.423273</td>\n",
              "      <td>-0.398335</td>\n",
              "      <td>-0.306394</td>\n",
              "      <td>-0.246077</td>\n",
              "      <td>-0.253044</td>\n",
              "      <td>0.082010</td>\n",
              "      <td>alcohol</td>\n",
              "    </tr>\n",
              "    <tr>\n",
              "      <th>1</th>\n",
              "      <td>-0.247716</td>\n",
              "      <td>0.165419</td>\n",
              "      <td>-0.207996</td>\n",
              "      <td>-0.437526</td>\n",
              "      <td>0.249014</td>\n",
              "      <td>-0.634188</td>\n",
              "      <td>0.337158</td>\n",
              "      <td>-0.073113</td>\n",
              "      <td>0.001985</td>\n",
              "      <td>0.295799</td>\n",
              "      <td>0.036209</td>\n",
              "      <td>0.064205</td>\n",
              "      <td>-0.020615</td>\n",
              "      <td>malicAcid</td>\n",
              "    </tr>\n",
              "    <tr>\n",
              "      <th>2</th>\n",
              "      <td>-0.035983</td>\n",
              "      <td>0.361425</td>\n",
              "      <td>-0.559820</td>\n",
              "      <td>0.204483</td>\n",
              "      <td>-0.228534</td>\n",
              "      <td>-0.081250</td>\n",
              "      <td>-0.179561</td>\n",
              "      <td>0.179083</td>\n",
              "      <td>0.404402</td>\n",
              "      <td>-0.009705</td>\n",
              "      <td>-0.457261</td>\n",
              "      <td>0.066597</td>\n",
              "      <td>0.112092</td>\n",
              "      <td>ash</td>\n",
              "    </tr>\n",
              "    <tr>\n",
              "      <th>3</th>\n",
              "      <td>-0.251695</td>\n",
              "      <td>0.037780</td>\n",
              "      <td>-0.605158</td>\n",
              "      <td>0.061730</td>\n",
              "      <td>0.048413</td>\n",
              "      <td>0.178476</td>\n",
              "      <td>-0.288314</td>\n",
              "      <td>-0.310948</td>\n",
              "      <td>-0.218354</td>\n",
              "      <td>-0.000407</td>\n",
              "      <td>0.512624</td>\n",
              "      <td>-0.181766</td>\n",
              "      <td>-0.087657</td>\n",
              "      <td>ashalcalinity</td>\n",
              "    </tr>\n",
              "    <tr>\n",
              "      <th>4</th>\n",
              "      <td>0.101423</td>\n",
              "      <td>0.304752</td>\n",
              "      <td>-0.068425</td>\n",
              "      <td>0.642908</td>\n",
              "      <td>0.457792</td>\n",
              "      <td>-0.033154</td>\n",
              "      <td>0.376544</td>\n",
              "      <td>0.094943</td>\n",
              "      <td>-0.319121</td>\n",
              "      <td>-0.058569</td>\n",
              "      <td>-0.024170</td>\n",
              "      <td>0.057671</td>\n",
              "      <td>-0.090423</td>\n",
              "      <td>magnesium</td>\n",
              "    </tr>\n",
              "    <tr>\n",
              "      <th>5</th>\n",
              "      <td>0.391634</td>\n",
              "      <td>0.070756</td>\n",
              "      <td>-0.170959</td>\n",
              "      <td>-0.195651</td>\n",
              "      <td>-0.061145</td>\n",
              "      <td>0.089235</td>\n",
              "      <td>-0.030380</td>\n",
              "      <td>0.479383</td>\n",
              "      <td>-0.393055</td>\n",
              "      <td>0.352046</td>\n",
              "      <td>0.075688</td>\n",
              "      <td>-0.248449</td>\n",
              "      <td>0.431037</td>\n",
              "      <td>totalPhenols</td>\n",
              "    </tr>\n",
              "    <tr>\n",
              "      <th>6</th>\n",
              "      <td>0.430127</td>\n",
              "      <td>0.002768</td>\n",
              "      <td>-0.143469</td>\n",
              "      <td>-0.160585</td>\n",
              "      <td>-0.042564</td>\n",
              "      <td>-0.025223</td>\n",
              "      <td>-0.052761</td>\n",
              "      <td>0.128881</td>\n",
              "      <td>-0.033931</td>\n",
              "      <td>0.080905</td>\n",
              "      <td>-0.091437</td>\n",
              "      <td>-0.156860</td>\n",
              "      <td>-0.840302</td>\n",
              "      <td>flavanoids</td>\n",
              "    </tr>\n",
              "    <tr>\n",
              "      <th>7</th>\n",
              "      <td>-0.296061</td>\n",
              "      <td>0.040729</td>\n",
              "      <td>-0.098568</td>\n",
              "      <td>-0.036714</td>\n",
              "      <td>-0.643398</td>\n",
              "      <td>0.129300</td>\n",
              "      <td>0.561923</td>\n",
              "      <td>0.169855</td>\n",
              "      <td>-0.257331</td>\n",
              "      <td>-0.194527</td>\n",
              "      <td>0.053872</td>\n",
              "      <td>0.031105</td>\n",
              "      <td>-0.128095</td>\n",
              "      <td>nonFlavanoidPhenols</td>\n",
              "    </tr>\n",
              "    <tr>\n",
              "      <th>8</th>\n",
              "      <td>0.314232</td>\n",
              "      <td>0.038803</td>\n",
              "      <td>-0.229563</td>\n",
              "      <td>-0.310120</td>\n",
              "      <td>0.215315</td>\n",
              "      <td>0.463905</td>\n",
              "      <td>0.468402</td>\n",
              "      <td>-0.373544</td>\n",
              "      <td>0.237098</td>\n",
              "      <td>-0.143593</td>\n",
              "      <td>-0.135215</td>\n",
              "      <td>-0.101275</td>\n",
              "      <td>0.158120</td>\n",
              "      <td>proanthocyanins</td>\n",
              "    </tr>\n",
              "    <tr>\n",
              "      <th>9</th>\n",
              "      <td>-0.073368</td>\n",
              "      <td>0.525837</td>\n",
              "      <td>0.180377</td>\n",
              "      <td>-0.170260</td>\n",
              "      <td>-0.014874</td>\n",
              "      <td>0.402431</td>\n",
              "      <td>-0.114729</td>\n",
              "      <td>-0.041475</td>\n",
              "      <td>-0.053718</td>\n",
              "      <td>0.375170</td>\n",
              "      <td>0.085843</td>\n",
              "      <td>0.560420</td>\n",
              "      <td>-0.120230</td>\n",
              "      <td>colorIntensity</td>\n",
              "    </tr>\n",
              "    <tr>\n",
              "      <th>10</th>\n",
              "      <td>0.310106</td>\n",
              "      <td>-0.218816</td>\n",
              "      <td>-0.044902</td>\n",
              "      <td>0.340970</td>\n",
              "      <td>-0.379404</td>\n",
              "      <td>-0.169167</td>\n",
              "      <td>0.127441</td>\n",
              "      <td>-0.504768</td>\n",
              "      <td>-0.030249</td>\n",
              "      <td>0.520629</td>\n",
              "      <td>-0.019957</td>\n",
              "      <td>0.130428</td>\n",
              "      <td>0.068567</td>\n",
              "      <td>hue</td>\n",
              "    </tr>\n",
              "    <tr>\n",
              "      <th>11</th>\n",
              "      <td>0.379213</td>\n",
              "      <td>-0.157512</td>\n",
              "      <td>-0.238838</td>\n",
              "      <td>-0.124316</td>\n",
              "      <td>-0.022252</td>\n",
              "      <td>-0.220000</td>\n",
              "      <td>-0.084837</td>\n",
              "      <td>0.031573</td>\n",
              "      <td>-0.167166</td>\n",
              "      <td>-0.449605</td>\n",
              "      <td>0.160462</td>\n",
              "      <td>0.660465</td>\n",
              "      <td>0.098737</td>\n",
              "      <td>od280_od315</td>\n",
              "    </tr>\n",
              "    <tr>\n",
              "      <th>12</th>\n",
              "      <td>0.278021</td>\n",
              "      <td>0.384426</td>\n",
              "      <td>0.167721</td>\n",
              "      <td>0.098628</td>\n",
              "      <td>-0.174681</td>\n",
              "      <td>-0.182368</td>\n",
              "      <td>0.109264</td>\n",
              "      <td>0.073546</td>\n",
              "      <td>0.467380</td>\n",
              "      <td>-0.110489</td>\n",
              "      <td>0.629992</td>\n",
              "      <td>-0.161847</td>\n",
              "      <td>0.046985</td>\n",
              "      <td>proline</td>\n",
              "    </tr>\n",
              "  </tbody>\n",
              "</table>\n",
              "</div>"
            ],
            "text/plain": [
              "    PC1_coef  PC2_coef  PC3_coef  ...  PC12_coef  PC13_coef              Feature\n",
              "0   0.127584  0.492494  0.201221  ...  -0.253044   0.082010              alcohol\n",
              "1  -0.247716  0.165419 -0.207996  ...   0.064205  -0.020615            malicAcid\n",
              "2  -0.035983  0.361425 -0.559820  ...   0.066597   0.112092                  ash\n",
              "3  -0.251695  0.037780 -0.605158  ...  -0.181766  -0.087657        ashalcalinity\n",
              "4   0.101423  0.304752 -0.068425  ...   0.057671  -0.090423            magnesium\n",
              "5   0.391634  0.070756 -0.170959  ...  -0.248449   0.431037         totalPhenols\n",
              "6   0.430127  0.002768 -0.143469  ...  -0.156860  -0.840302           flavanoids\n",
              "7  -0.296061  0.040729 -0.098568  ...   0.031105  -0.128095  nonFlavanoidPhenols\n",
              "8   0.314232  0.038803 -0.229563  ...  -0.101275   0.158120      proanthocyanins\n",
              "9  -0.073368  0.525837  0.180377  ...   0.560420  -0.120230       colorIntensity\n",
              "10  0.310106 -0.218816 -0.044902  ...   0.130428   0.068567                  hue\n",
              "11  0.379213 -0.157512 -0.238838  ...   0.660465   0.098737          od280_od315\n",
              "12  0.278021  0.384426  0.167721  ...  -0.161847   0.046985              proline\n",
              "\n",
              "[13 rows x 14 columns]"
            ]
          },
          "metadata": {
            "tags": []
          },
          "execution_count": 19
        }
      ]
    },
    {
      "cell_type": "code",
      "metadata": {
        "id": "xvlOYuEpD6ob",
        "colab_type": "code",
        "colab": {
          "base_uri": "https://localhost:8080/",
          "height": 17
        },
        "outputId": "381cbaa2-5e48-4c84-c481-6f4cf595fb7f"
      },
      "source": [
        "# The code in this cell was used to download X_train which contains scaled values of original dataframe (minus the target column) \n",
        "# you can ignore this as the output from here was used to showcase how we obtain values inside PCA dataframe \n",
        "# dataframename.T creates a \"Transpose\" \n",
        "pc_component_breakup_df=pc_component_breakup_df.T\n",
        "\n",
        "# code to download coef details for all PCs and the related origianl column names\n",
        "pc_component_breakup_df.to_csv('pc_component_breakup_df.csv')\n",
        "from google.colab import files\n",
        "files.download('pc_component_breakup_df.csv')\n",
        "\n",
        "\n",
        "# X_train is the numpy array that stored scaled values X_train\n",
        "# 1st we are converting that to a dataframe\n",
        "df1=pd.DataFrame(data=X_train, columns=colnames)\n",
        "\n",
        "# now we are downloading the dataframe into csv\n",
        "df1.to_csv('X_train.csv')\n",
        "from google.colab import files\n",
        "files.download('X_train.csv')\n"
      ],
      "execution_count": 20,
      "outputs": [
        {
          "output_type": "display_data",
          "data": {
            "application/javascript": [
              "\n",
              "    async function download(id, filename, size) {\n",
              "      if (!google.colab.kernel.accessAllowed) {\n",
              "        return;\n",
              "      }\n",
              "      const div = document.createElement('div');\n",
              "      const label = document.createElement('label');\n",
              "      label.textContent = `Downloading \"${filename}\": `;\n",
              "      div.appendChild(label);\n",
              "      const progress = document.createElement('progress');\n",
              "      progress.max = size;\n",
              "      div.appendChild(progress);\n",
              "      document.body.appendChild(div);\n",
              "\n",
              "      const buffers = [];\n",
              "      let downloaded = 0;\n",
              "\n",
              "      const channel = await google.colab.kernel.comms.open(id);\n",
              "      // Send a message to notify the kernel that we're ready.\n",
              "      channel.send({})\n",
              "\n",
              "      for await (const message of channel.messages) {\n",
              "        // Send a message to notify the kernel that we're ready.\n",
              "        channel.send({})\n",
              "        if (message.buffers) {\n",
              "          for (const buffer of message.buffers) {\n",
              "            buffers.push(buffer);\n",
              "            downloaded += buffer.byteLength;\n",
              "            progress.value = downloaded;\n",
              "          }\n",
              "        }\n",
              "      }\n",
              "      const blob = new Blob(buffers, {type: 'application/binary'});\n",
              "      const a = document.createElement('a');\n",
              "      a.href = window.URL.createObjectURL(blob);\n",
              "      a.download = filename;\n",
              "      div.appendChild(a);\n",
              "      a.click();\n",
              "      div.remove();\n",
              "    }\n",
              "  "
            ],
            "text/plain": [
              "<IPython.core.display.Javascript object>"
            ]
          },
          "metadata": {
            "tags": []
          }
        },
        {
          "output_type": "display_data",
          "data": {
            "application/javascript": [
              "download(\"download_948050d1-747e-4142-9276-903bee5a12e9\", \"pc_component_breakup_df.csv\", 3739)"
            ],
            "text/plain": [
              "<IPython.core.display.Javascript object>"
            ]
          },
          "metadata": {
            "tags": []
          }
        },
        {
          "output_type": "display_data",
          "data": {
            "application/javascript": [
              "\n",
              "    async function download(id, filename, size) {\n",
              "      if (!google.colab.kernel.accessAllowed) {\n",
              "        return;\n",
              "      }\n",
              "      const div = document.createElement('div');\n",
              "      const label = document.createElement('label');\n",
              "      label.textContent = `Downloading \"${filename}\": `;\n",
              "      div.appendChild(label);\n",
              "      const progress = document.createElement('progress');\n",
              "      progress.max = size;\n",
              "      div.appendChild(progress);\n",
              "      document.body.appendChild(div);\n",
              "\n",
              "      const buffers = [];\n",
              "      let downloaded = 0;\n",
              "\n",
              "      const channel = await google.colab.kernel.comms.open(id);\n",
              "      // Send a message to notify the kernel that we're ready.\n",
              "      channel.send({})\n",
              "\n",
              "      for await (const message of channel.messages) {\n",
              "        // Send a message to notify the kernel that we're ready.\n",
              "        channel.send({})\n",
              "        if (message.buffers) {\n",
              "          for (const buffer of message.buffers) {\n",
              "            buffers.push(buffer);\n",
              "            downloaded += buffer.byteLength;\n",
              "            progress.value = downloaded;\n",
              "          }\n",
              "        }\n",
              "      }\n",
              "      const blob = new Blob(buffers, {type: 'application/binary'});\n",
              "      const a = document.createElement('a');\n",
              "      a.href = window.URL.createObjectURL(blob);\n",
              "      a.download = filename;\n",
              "      div.appendChild(a);\n",
              "      a.click();\n",
              "      div.remove();\n",
              "    }\n",
              "  "
            ],
            "text/plain": [
              "<IPython.core.display.Javascript object>"
            ]
          },
          "metadata": {
            "tags": []
          }
        },
        {
          "output_type": "display_data",
          "data": {
            "application/javascript": [
              "download(\"download_e1be3350-f937-4ee5-886c-ad264007dee7\", \"X_train.csv\", 36539)"
            ],
            "text/plain": [
              "<IPython.core.display.Javascript object>"
            ]
          },
          "metadata": {
            "tags": []
          }
        }
      ]
    },
    {
      "cell_type": "code",
      "metadata": {
        "id": "YfiKzbaY-v_-",
        "colab_type": "code",
        "colab": {
          "base_uri": "https://localhost:8080/",
          "height": 17
        },
        "outputId": "d53576ec-8309-48ed-811b-bc1c6a1b19b3"
      },
      "source": [
        ""
      ],
      "execution_count": 24,
      "outputs": [
        {
          "output_type": "display_data",
          "data": {
            "application/javascript": [
              "\n",
              "    async function download(id, filename, size) {\n",
              "      if (!google.colab.kernel.accessAllowed) {\n",
              "        return;\n",
              "      }\n",
              "      const div = document.createElement('div');\n",
              "      const label = document.createElement('label');\n",
              "      label.textContent = `Downloading \"${filename}\": `;\n",
              "      div.appendChild(label);\n",
              "      const progress = document.createElement('progress');\n",
              "      progress.max = size;\n",
              "      div.appendChild(progress);\n",
              "      document.body.appendChild(div);\n",
              "\n",
              "      const buffers = [];\n",
              "      let downloaded = 0;\n",
              "\n",
              "      const channel = await google.colab.kernel.comms.open(id);\n",
              "      // Send a message to notify the kernel that we're ready.\n",
              "      channel.send({})\n",
              "\n",
              "      for await (const message of channel.messages) {\n",
              "        // Send a message to notify the kernel that we're ready.\n",
              "        channel.send({})\n",
              "        if (message.buffers) {\n",
              "          for (const buffer of message.buffers) {\n",
              "            buffers.push(buffer);\n",
              "            downloaded += buffer.byteLength;\n",
              "            progress.value = downloaded;\n",
              "          }\n",
              "        }\n",
              "      }\n",
              "      const blob = new Blob(buffers, {type: 'application/binary'});\n",
              "      const a = document.createElement('a');\n",
              "      a.href = window.URL.createObjectURL(blob);\n",
              "      a.download = filename;\n",
              "      div.appendChild(a);\n",
              "      a.click();\n",
              "      div.remove();\n",
              "    }\n",
              "  "
            ],
            "text/plain": [
              "<IPython.core.display.Javascript object>"
            ]
          },
          "metadata": {
            "tags": []
          }
        },
        {
          "output_type": "display_data",
          "data": {
            "application/javascript": [
              "download(\"download_d2cac537-711a-4c52-9294-66bd7e4e816b\", \"pc_component_breakup_df.csv\", 3674)"
            ],
            "text/plain": [
              "<IPython.core.display.Javascript object>"
            ]
          },
          "metadata": {
            "tags": []
          }
        }
      ]
    },
    {
      "cell_type": "code",
      "metadata": {
        "id": "vsmDYhxs-xmG",
        "colab_type": "code",
        "colab": {
          "base_uri": "https://localhost:8080/",
          "height": 196
        },
        "outputId": "4eff36ff-129f-4572-df89-7839692e4918"
      },
      "source": [
        "# function pca.fit_transform takes X_train as input we are saving the output in X_train_pc\n",
        "X_train_pc = pca.fit_transform(X_train) \n",
        "# we are converting X_train_pc into a dataframe to view details of PCA transfored columns\n",
        "df2=pd.DataFrame(X_train_pc)\n",
        "df2.head()"
      ],
      "execution_count": 21,
      "outputs": [
        {
          "output_type": "execute_result",
          "data": {
            "text/html": [
              "<div>\n",
              "<style scoped>\n",
              "    .dataframe tbody tr th:only-of-type {\n",
              "        vertical-align: middle;\n",
              "    }\n",
              "\n",
              "    .dataframe tbody tr th {\n",
              "        vertical-align: top;\n",
              "    }\n",
              "\n",
              "    .dataframe thead th {\n",
              "        text-align: right;\n",
              "    }\n",
              "</style>\n",
              "<table border=\"1\" class=\"dataframe\">\n",
              "  <thead>\n",
              "    <tr style=\"text-align: right;\">\n",
              "      <th></th>\n",
              "      <th>0</th>\n",
              "      <th>1</th>\n",
              "      <th>2</th>\n",
              "      <th>3</th>\n",
              "      <th>4</th>\n",
              "      <th>5</th>\n",
              "      <th>6</th>\n",
              "      <th>7</th>\n",
              "      <th>8</th>\n",
              "      <th>9</th>\n",
              "      <th>10</th>\n",
              "      <th>11</th>\n",
              "      <th>12</th>\n",
              "    </tr>\n",
              "  </thead>\n",
              "  <tbody>\n",
              "    <tr>\n",
              "      <th>0</th>\n",
              "      <td>-0.131974</td>\n",
              "      <td>-2.812996</td>\n",
              "      <td>0.023459</td>\n",
              "      <td>-0.122554</td>\n",
              "      <td>0.382039</td>\n",
              "      <td>0.251459</td>\n",
              "      <td>-0.538667</td>\n",
              "      <td>-0.043800</td>\n",
              "      <td>0.138200</td>\n",
              "      <td>-0.735349</td>\n",
              "      <td>0.684601</td>\n",
              "      <td>0.386849</td>\n",
              "      <td>0.224434</td>\n",
              "    </tr>\n",
              "    <tr>\n",
              "      <th>1</th>\n",
              "      <td>-3.568304</td>\n",
              "      <td>1.635048</td>\n",
              "      <td>0.020290</td>\n",
              "      <td>-1.636233</td>\n",
              "      <td>-0.108469</td>\n",
              "      <td>-0.202435</td>\n",
              "      <td>1.370062</td>\n",
              "      <td>-0.132957</td>\n",
              "      <td>-0.055571</td>\n",
              "      <td>0.267393</td>\n",
              "      <td>0.489267</td>\n",
              "      <td>-0.084656</td>\n",
              "      <td>0.071979</td>\n",
              "    </tr>\n",
              "    <tr>\n",
              "      <th>2</th>\n",
              "      <td>3.319707</td>\n",
              "      <td>0.155673</td>\n",
              "      <td>1.638308</td>\n",
              "      <td>-1.311516</td>\n",
              "      <td>0.558239</td>\n",
              "      <td>0.873133</td>\n",
              "      <td>0.597013</td>\n",
              "      <td>-0.487266</td>\n",
              "      <td>1.203496</td>\n",
              "      <td>0.525790</td>\n",
              "      <td>-0.122060</td>\n",
              "      <td>0.312491</td>\n",
              "      <td>-0.071801</td>\n",
              "    </tr>\n",
              "    <tr>\n",
              "      <th>3</th>\n",
              "      <td>-1.270529</td>\n",
              "      <td>-0.588045</td>\n",
              "      <td>-1.613610</td>\n",
              "      <td>1.533937</td>\n",
              "      <td>-1.703344</td>\n",
              "      <td>-0.581876</td>\n",
              "      <td>0.925645</td>\n",
              "      <td>0.611977</td>\n",
              "      <td>0.754457</td>\n",
              "      <td>0.510394</td>\n",
              "      <td>-0.669100</td>\n",
              "      <td>0.759365</td>\n",
              "      <td>-0.600608</td>\n",
              "    </tr>\n",
              "    <tr>\n",
              "      <th>4</th>\n",
              "      <td>2.448869</td>\n",
              "      <td>-1.899795</td>\n",
              "      <td>1.607752</td>\n",
              "      <td>-1.783220</td>\n",
              "      <td>-0.135755</td>\n",
              "      <td>1.117979</td>\n",
              "      <td>-0.318440</td>\n",
              "      <td>-0.422469</td>\n",
              "      <td>-0.707486</td>\n",
              "      <td>0.282339</td>\n",
              "      <td>-0.258116</td>\n",
              "      <td>0.135641</td>\n",
              "      <td>-0.122399</td>\n",
              "    </tr>\n",
              "  </tbody>\n",
              "</table>\n",
              "</div>"
            ],
            "text/plain": [
              "         0         1         2   ...        10        11        12\n",
              "0 -0.131974 -2.812996  0.023459  ...  0.684601  0.386849  0.224434\n",
              "1 -3.568304  1.635048  0.020290  ...  0.489267 -0.084656  0.071979\n",
              "2  3.319707  0.155673  1.638308  ... -0.122060  0.312491 -0.071801\n",
              "3 -1.270529 -0.588045 -1.613610  ... -0.669100  0.759365 -0.600608\n",
              "4  2.448869 -1.899795  1.607752  ... -0.258116  0.135641 -0.122399\n",
              "\n",
              "[5 rows x 13 columns]"
            ]
          },
          "metadata": {
            "tags": []
          },
          "execution_count": 21
        }
      ]
    },
    {
      "cell_type": "code",
      "metadata": {
        "id": "jiXY1J8_HfY3",
        "colab_type": "code",
        "colab": {}
      },
      "source": [
        ""
      ],
      "execution_count": 31,
      "outputs": []
    },
    {
      "cell_type": "markdown",
      "metadata": {
        "id": "W6YMmd5KwQFQ",
        "colab_type": "text"
      },
      "source": [
        "Confirming the claim: PCA gives us output where Multicollinearity is eliminated"
      ]
    },
    {
      "cell_type": "code",
      "metadata": {
        "id": "2UxNug5fKRhW",
        "colab_type": "code",
        "colab": {
          "base_uri": "https://localhost:8080/",
          "height": 432
        },
        "outputId": "444ca6b3-83b4-4240-cada-f0ed08b9d893"
      },
      "source": [
        "# checking correlation inside the dataset\n",
        "plt.figure(figsize = (18, 7))\n",
        "sns.heatmap(df2.corr(), annot = True, cmap=\"YlGnBu\")\n",
        "plt.show()"
      ],
      "execution_count": 22,
      "outputs": [
        {
          "output_type": "display_data",
          "data": {
            "image/png": "[encoded data removed]",
            "text/plain": [
              "<Figure size 1296x504 with 2 Axes>"
            ]
          },
          "metadata": {
            "tags": [],
            "needs_background": "light"
          }
        }
      ]
    },
    {
      "cell_type": "markdown",
      "metadata": {
        "id": "b2yrXWoSwtU5",
        "colab_type": "text"
      },
      "source": [
        " \n",
        "\n",
        "*   The above output has numbers that show correlation coef's as close to 0\n",
        "*   2.5e-16 = 2.5 / 1000000000000000 i.e. 2.5 divided by 10000000000000000\n",
        "\n",
        "\n"
      ]
    },
    {
      "cell_type": "code",
      "metadata": {
        "id": "85yrbCw9O7UW",
        "colab_type": "code",
        "colab": {
          "base_uri": "https://localhost:8080/",
          "height": 529
        },
        "outputId": "9068adf9-f356-4150-ba3c-8b53766a19da"
      },
      "source": [
        "# checking correlation inside the dataset\n",
        "plt.figure(figsize = (8, 7))\n",
        "sns.heatmap(df1.corr(), annot = True, cmap=\"YlGnBu\")\n",
        "plt.show()\n"
      ],
      "execution_count": 19,
      "outputs": [
        {
          "output_type": "display_data",
          "data": {
            "image/png": "[encoded data removed]",
            "text/plain": [
              "<Figure size 576x504 with 2 Axes>"
            ]
          },
          "metadata": {
            "tags": [],
            "needs_background": "light"
          }
        }
      ]
    },
    {
      "cell_type": "markdown",
      "metadata": {
        "id": "pZVjtXN1xh9u",
        "colab_type": "text"
      },
      "source": [
        "\n",
        "\n",
        "*   So original dataset has corrleation coef that were not 0 (output for df1.corr()), infact we can see numbers like 0.86, 0.69, 0.67, 0.61, 0.57 \n",
        "*   PCA transformed dataset has corrleation coef that are  close to 0 (output for df1.corr())\n",
        "\n"
      ]
    },
    {
      "cell_type": "markdown",
      "metadata": {
        "id": "D58DdJn8yV1U",
        "colab_type": "text"
      },
      "source": [
        "Moving to actual use of PCA : We are going to use PCA for logistics regression"
      ]
    },
    {
      "cell_type": "code",
      "metadata": {
        "id": "5799m8oZzyPH",
        "colab_type": "code",
        "colab": {
          "base_uri": "https://localhost:8080/",
          "height": 216
        },
        "outputId": "affb7fee-5b81-4635-b8d4-772008875e3c"
      },
      "source": [
        "df=pd.read_csv('/content/drive/My Drive/INSAID/wine.csv')\n",
        "df.head()"
      ],
      "execution_count": 23,
      "outputs": [
        {
          "output_type": "execute_result",
          "data": {
            "text/html": [
              "<div>\n",
              "<style scoped>\n",
              "    .dataframe tbody tr th:only-of-type {\n",
              "        vertical-align: middle;\n",
              "    }\n",
              "\n",
              "    .dataframe tbody tr th {\n",
              "        vertical-align: top;\n",
              "    }\n",
              "\n",
              "    .dataframe thead th {\n",
              "        text-align: right;\n",
              "    }\n",
              "</style>\n",
              "<table border=\"1\" class=\"dataframe\">\n",
              "  <thead>\n",
              "    <tr style=\"text-align: right;\">\n",
              "      <th></th>\n",
              "      <th>name</th>\n",
              "      <th>alcohol</th>\n",
              "      <th>malicAcid</th>\n",
              "      <th>ash</th>\n",
              "      <th>ashalcalinity</th>\n",
              "      <th>magnesium</th>\n",
              "      <th>totalPhenols</th>\n",
              "      <th>flavanoids</th>\n",
              "      <th>nonFlavanoidPhenols</th>\n",
              "      <th>proanthocyanins</th>\n",
              "      <th>colorIntensity</th>\n",
              "      <th>hue</th>\n",
              "      <th>od280_od315</th>\n",
              "      <th>proline</th>\n",
              "    </tr>\n",
              "  </thead>\n",
              "  <tbody>\n",
              "    <tr>\n",
              "      <th>0</th>\n",
              "      <td>1</td>\n",
              "      <td>13.20</td>\n",
              "      <td>1.78</td>\n",
              "      <td>2.14</td>\n",
              "      <td>11.2</td>\n",
              "      <td>100</td>\n",
              "      <td>2.65</td>\n",
              "      <td>2.76</td>\n",
              "      <td>0.26</td>\n",
              "      <td>1.28</td>\n",
              "      <td>4.38</td>\n",
              "      <td>1.05</td>\n",
              "      <td>3.40</td>\n",
              "      <td>1050</td>\n",
              "    </tr>\n",
              "    <tr>\n",
              "      <th>1</th>\n",
              "      <td>1</td>\n",
              "      <td>13.16</td>\n",
              "      <td>2.36</td>\n",
              "      <td>2.67</td>\n",
              "      <td>18.6</td>\n",
              "      <td>101</td>\n",
              "      <td>2.80</td>\n",
              "      <td>3.24</td>\n",
              "      <td>0.30</td>\n",
              "      <td>2.81</td>\n",
              "      <td>5.68</td>\n",
              "      <td>1.03</td>\n",
              "      <td>3.17</td>\n",
              "      <td>1185</td>\n",
              "    </tr>\n",
              "    <tr>\n",
              "      <th>2</th>\n",
              "      <td>1</td>\n",
              "      <td>14.37</td>\n",
              "      <td>1.95</td>\n",
              "      <td>2.50</td>\n",
              "      <td>16.8</td>\n",
              "      <td>113</td>\n",
              "      <td>3.85</td>\n",
              "      <td>3.49</td>\n",
              "      <td>0.24</td>\n",
              "      <td>2.18</td>\n",
              "      <td>7.80</td>\n",
              "      <td>0.86</td>\n",
              "      <td>3.45</td>\n",
              "      <td>1480</td>\n",
              "    </tr>\n",
              "    <tr>\n",
              "      <th>3</th>\n",
              "      <td>1</td>\n",
              "      <td>13.24</td>\n",
              "      <td>2.59</td>\n",
              "      <td>2.87</td>\n",
              "      <td>21.0</td>\n",
              "      <td>118</td>\n",
              "      <td>2.80</td>\n",
              "      <td>2.69</td>\n",
              "      <td>0.39</td>\n",
              "      <td>1.82</td>\n",
              "      <td>4.32</td>\n",
              "      <td>1.04</td>\n",
              "      <td>2.93</td>\n",
              "      <td>735</td>\n",
              "    </tr>\n",
              "    <tr>\n",
              "      <th>4</th>\n",
              "      <td>1</td>\n",
              "      <td>14.20</td>\n",
              "      <td>1.76</td>\n",
              "      <td>2.45</td>\n",
              "      <td>15.2</td>\n",
              "      <td>112</td>\n",
              "      <td>3.27</td>\n",
              "      <td>3.39</td>\n",
              "      <td>0.34</td>\n",
              "      <td>1.97</td>\n",
              "      <td>6.75</td>\n",
              "      <td>1.05</td>\n",
              "      <td>2.85</td>\n",
              "      <td>1450</td>\n",
              "    </tr>\n",
              "  </tbody>\n",
              "</table>\n",
              "</div>"
            ],
            "text/plain": [
              "   name  alcohol  malicAcid   ash  ...  colorIntensity   hue  od280_od315  proline\n",
              "0     1    13.20       1.78  2.14  ...            4.38  1.05         3.40     1050\n",
              "1     1    13.16       2.36  2.67  ...            5.68  1.03         3.17     1185\n",
              "2     1    14.37       1.95  2.50  ...            7.80  0.86         3.45     1480\n",
              "3     1    13.24       2.59  2.87  ...            4.32  1.04         2.93      735\n",
              "4     1    14.20       1.76  2.45  ...            6.75  1.05         2.85     1450\n",
              "\n",
              "[5 rows x 14 columns]"
            ]
          },
          "metadata": {
            "tags": []
          },
          "execution_count": 23
        }
      ]
    },
    {
      "cell_type": "code",
      "metadata": {
        "id": "2vD86FkuHmn5",
        "colab_type": "code",
        "colab": {}
      },
      "source": [
        "#  Putting feature variables to X\n",
        "X = df.drop(['name'],axis=1)\n",
        "\n",
        "y= df['name']#class variable\n",
        "\n",
        "# performing preprocessing part \n",
        "\n",
        "from sklearn.model_selection import train_test_split \n",
        "\n",
        "X_train, X_test, y_train, y_test = train_test_split(X, y, test_size = 0.2, random_state = 90) \n",
        "\n",
        "from sklearn.preprocessing import StandardScaler \n",
        "sc = StandardScaler() \n",
        "\n",
        "X_train = sc.fit_transform(X_train) \n",
        "X_test = sc.transform(X_test) "
      ],
      "execution_count": 24,
      "outputs": []
    },
    {
      "cell_type": "code",
      "metadata": {
        "id": "xwNCoX5bH5bC",
        "colab_type": "code",
        "colab": {}
      },
      "source": [
        "# Getting the PCA funtion from sklearn\n",
        "from sklearn.decomposition import PCA\n",
        "\n",
        "pca = PCA().fit(X_train)"
      ],
      "execution_count": 27,
      "outputs": []
    },
    {
      "cell_type": "code",
      "metadata": {
        "id": "zu_Urfw4ITqz",
        "colab_type": "code",
        "colab": {
          "base_uri": "https://localhost:8080/",
          "height": 67
        },
        "outputId": "bb907338-5802-4725-b48f-d0e50f8d5895"
      },
      "source": [
        "# details on variance or information on how it gets distributed between each component\n",
        "pca.explained_variance_ratio_"
      ],
      "execution_count": 28,
      "outputs": [
        {
          "output_type": "execute_result",
          "data": {
            "text/plain": [
              "array([0.35842778, 0.19489886, 0.10971699, 0.07805652, 0.06727507,\n",
              "       0.04838466, 0.03858855, 0.02621587, 0.02281445, 0.0191108 ,\n",
              "       0.0170037 , 0.01236233, 0.00714444])"
            ]
          },
          "metadata": {
            "tags": []
          },
          "execution_count": 28
        }
      ]
    },
    {
      "cell_type": "code",
      "metadata": {
        "id": "PYE3JXMIIWq4",
        "colab_type": "code",
        "colab": {
          "base_uri": "https://localhost:8080/",
          "height": 279
        },
        "outputId": "e8487104-713f-4714-cf78-92b972d13dee"
      },
      "source": [
        "# details on variance or information on how it gets distributed between each component, viewing it with help of bar plots\n",
        "df = pd.DataFrame({'variance explained':pca.explained_variance_ratio_,\n",
        "             'Principal Component':['PC1','PC2','PC3','PC4','PC5','PC6','PC7','PC8','PC9','PC10','PC11','PC12','PC13']})\n",
        "sns.barplot(x='Principal Component',y=\"variance explained\", \n",
        "           data=df, color=\"c\");"
      ],
      "execution_count": 29,
      "outputs": [
        {
          "output_type": "display_data",
          "data": {
            "image/png": "[encoded data removed]",
            "text/plain": [
              "<Figure size 432x288 with 1 Axes>"
            ]
          },
          "metadata": {
            "tags": [],
            "needs_background": "light"
          }
        }
      ]
    },
    {
      "cell_type": "code",
      "metadata": {
        "id": "e4lPxRBsIgLp",
        "colab_type": "code",
        "colab": {
          "base_uri": "https://localhost:8080/",
          "height": 312
        },
        "outputId": "a248642a-0b02-4fbb-b88a-2a011963c1cc"
      },
      "source": [
        "# Scree plot to see cumlative variance, how it progresses with a total set of PCs\n",
        "plt.plot(np.cumsum(pca.explained_variance_ratio_))\n",
        "plt.xlabel('number of components')\n",
        "plt.ylabel('cumulative explained variance');\n",
        "plt.title('Scree Plot')"
      ],
      "execution_count": 30,
      "outputs": [
        {
          "output_type": "execute_result",
          "data": {
            "text/plain": [
              "Text(0.5, 1.0, 'Scree Plot')"
            ]
          },
          "metadata": {
            "tags": []
          },
          "execution_count": 30
        },
        {
          "output_type": "display_data",
          "data": {
            "image/png": "[encoded data removed]",
            "text/plain": [
              "<Figure size 432x288 with 1 Axes>"
            ]
          },
          "metadata": {
            "tags": [],
            "needs_background": "light"
          }
        }
      ]
    },
    {
      "cell_type": "code",
      "metadata": {
        "id": "OT-olYfPIkUy",
        "colab_type": "code",
        "colab": {}
      },
      "source": [
        "# after getting satisfied with views above we are creating PCA object to include 95% of information into use\n",
        "# using option  to set % of variance expected in output\n",
        "pca = PCA(.95)\n",
        "\n",
        "# other option to use number of components by viewing the scree plot\n",
        "#pca = PCA(n_components = 2) "
      ],
      "execution_count": 31,
      "outputs": []
    },
    {
      "cell_type": "code",
      "metadata": {
        "id": "AKJ16mVUJdZP",
        "colab_type": "code",
        "colab": {}
      },
      "source": [
        "# the pca object fits and tranforms X_train and only transforms X_test\n",
        "X_train = pca.fit_transform(X_train) \n",
        "X_test = pca.transform(X_test) \n"
      ],
      "execution_count": 32,
      "outputs": []
    },
    {
      "cell_type": "code",
      "metadata": {
        "id": "vBnqH5_OJhef",
        "colab_type": "code",
        "colab": {
          "base_uri": "https://localhost:8080/",
          "height": 100
        },
        "outputId": "57ce0676-1692-4335-ced3-113e63a1ede8"
      },
      "source": [
        "# Fitting Logistic Regression To the training set \n",
        "from sklearn.linear_model import LogisticRegression \n",
        "\n",
        "classifier = LogisticRegression(random_state = 0) \n",
        "classifier.fit(X_train, y_train) "
      ],
      "execution_count": 33,
      "outputs": [
        {
          "output_type": "execute_result",
          "data": {
            "text/plain": [
              "LogisticRegression(C=1.0, class_weight=None, dual=False, fit_intercept=True,\n",
              "                   intercept_scaling=1, l1_ratio=None, max_iter=100,\n",
              "                   multi_class='auto', n_jobs=None, penalty='l2',\n",
              "                   random_state=0, solver='lbfgs', tol=0.0001, verbose=0,\n",
              "                   warm_start=False)"
            ]
          },
          "metadata": {
            "tags": []
          },
          "execution_count": 33
        }
      ]
    },
    {
      "cell_type": "code",
      "metadata": {
        "id": "tOCwiw92Jx05",
        "colab_type": "code",
        "colab": {}
      },
      "source": [
        "# Predicting the test set result using model we created \"classfier\"\n",
        "# predict function under LogisticRegression \n",
        "y_pred = classifier.predict(X_test)"
      ],
      "execution_count": 34,
      "outputs": []
    },
    {
      "cell_type": "code",
      "metadata": {
        "id": "dLqO_Ku2J3aa",
        "colab_type": "code",
        "colab": {
          "base_uri": "https://localhost:8080/",
          "height": 67
        },
        "outputId": "fd249e10-db9d-44ab-8e2e-2420a717083b"
      },
      "source": [
        "# making confusion matrix between \n",
        "# test set of Y and predicted value. \n",
        "from sklearn.metrics import confusion_matrix \n",
        "\n",
        "cm = confusion_matrix(y_test, y_pred) \n",
        "cm"
      ],
      "execution_count": 35,
      "outputs": [
        {
          "output_type": "execute_result",
          "data": {
            "text/plain": [
              "array([[14,  0,  0],\n",
              "       [ 0, 12,  0],\n",
              "       [ 0,  0, 10]])"
            ]
          },
          "metadata": {
            "tags": []
          },
          "execution_count": 35
        }
      ]
    },
    {
      "cell_type": "code",
      "metadata": {
        "id": "BDMRTTsBJ6pc",
        "colab_type": "code",
        "colab": {
          "base_uri": "https://localhost:8080/",
          "height": 184
        },
        "outputId": "8b6d353a-e51f-461d-b534-d4b0f329ed9a"
      },
      "source": [
        "from sklearn.metrics import classification_report\n",
        "print(classification_report(y_test, y_pred))"
      ],
      "execution_count": 36,
      "outputs": [
        {
          "output_type": "stream",
          "text": [
            "              precision    recall  f1-score   support\n",
            "\n",
            "           1       1.00      1.00      1.00        14\n",
            "           2       1.00      1.00      1.00        12\n",
            "           3       1.00      1.00      1.00        10\n",
            "\n",
            "    accuracy                           1.00        36\n",
            "   macro avg       1.00      1.00      1.00        36\n",
            "weighted avg       1.00      1.00      1.00        36\n",
            "\n"
          ],
          "name": "stdout"
        }
      ]
    },
    {
      "cell_type": "code",
      "metadata": {
        "id": "Muu3OLXiKYun",
        "colab_type": "code",
        "colab": {}
      },
      "source": [
        ""
      ],
      "execution_count": null,
      "outputs": []
    }
  ]
}