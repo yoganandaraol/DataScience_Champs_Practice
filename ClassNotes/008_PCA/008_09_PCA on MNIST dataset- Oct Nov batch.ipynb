{
 "cells": [
  {
   "cell_type": "code",
   "execution_count": null,
   "metadata": {
    "collapsed": true
   },
   "outputs": [],
   "source": [
    "#keep the file safe, we will try to use this same dataset to do image analysis after we study SVM.\n",
    "\n",
    "# ---- Regards, Deepesh"
   ]
  },
  {
   "cell_type": "code",
   "execution_count": 1,
   "metadata": {
    "collapsed": true
   },
   "outputs": [],
   "source": [
    "import sklearn\n",
    "import numpy as np\n",
    "import pandas as pd\n",
    "import matplotlib.pyplot as plt\n",
    "%matplotlib inline"
   ]
  },
  {
   "cell_type": "code",
   "execution_count": 4,
   "metadata": {
    "collapsed": true
   },
   "outputs": [],
   "source": [
    "from mlxtend.data import loadlocal_mnist\n",
    "\n",
    "X, y = loadlocal_mnist(\n",
    "        images_path='train-images.idx3-ubyte', \n",
    "        labels_path='train-labels.idx1-ubyte')\n",
    "\n",
    "\n",
    "np.savetxt(fname='images.csv', \n",
    "           X=X, delimiter=',', fmt='%d')\n",
    "np.savetxt(fname='labels.csv', \n",
    "           X=y, delimiter=',', fmt='%d')"
   ]
  },
  {
   "cell_type": "code",
   "execution_count": null,
   "metadata": {
    "collapsed": true
   },
   "outputs": [],
   "source": [
    "#create the read_data file just by entering column names as X1 to X784 in excel and save it as image_data.csv\n",
    "# also upload the file in the jupyter notebook."
   ]
  },
  {
   "cell_type": "code",
   "execution_count": 66,
   "metadata": {
    "scrolled": true
   },
   "outputs": [
    {
     "data": {
      "text/html": [
       "<div>\n",
       "<style scoped>\n",
       "    .dataframe tbody tr th:only-of-type {\n",
       "        vertical-align: middle;\n",
       "    }\n",
       "\n",
       "    .dataframe tbody tr th {\n",
       "        vertical-align: top;\n",
       "    }\n",
       "\n",
       "    .dataframe thead th {\n",
       "        text-align: right;\n",
       "    }\n",
       "</style>\n",
       "<table border=\"1\" class=\"dataframe\">\n",
       "  <thead>\n",
       "    <tr style=\"text-align: right;\">\n",
       "      <th></th>\n",
       "      <th>0</th>\n",
       "    </tr>\n",
       "  </thead>\n",
       "  <tbody>\n",
       "    <tr>\n",
       "      <td>0</td>\n",
       "      <td>5</td>\n",
       "    </tr>\n",
       "    <tr>\n",
       "      <td>1</td>\n",
       "      <td>0</td>\n",
       "    </tr>\n",
       "    <tr>\n",
       "      <td>2</td>\n",
       "      <td>4</td>\n",
       "    </tr>\n",
       "    <tr>\n",
       "      <td>3</td>\n",
       "      <td>1</td>\n",
       "    </tr>\n",
       "    <tr>\n",
       "      <td>4</td>\n",
       "      <td>9</td>\n",
       "    </tr>\n",
       "  </tbody>\n",
       "</table>\n",
       "</div>"
      ],
      "text/plain": [
       "   0\n",
       "0  5\n",
       "1  0\n",
       "2  4\n",
       "3  1\n",
       "4  9"
      ]
     },
     "execution_count": 66,
     "metadata": {},
     "output_type": "execute_result"
    }
   ],
   "source": [
    "data = pd.read_csv(\"images.csv\")\n",
    "data.head()\n",
    "\n",
    "labels = pd.read_csv(\"labels.csv\", header = None)\n",
    "labels.head()"
   ]
  },
  {
   "cell_type": "code",
   "execution_count": 62,
   "metadata": {},
   "outputs": [
    {
     "name": "stderr",
     "output_type": "stream",
     "text": [
      "C:\\ProgramData\\Anaconda3\\lib\\site-packages\\ipykernel_launcher.py:1: FutureWarning: Method .as_matrix will be removed in a future version. Use .values instead.\n",
      "  \"\"\"Entry point for launching an IPython kernel.\n"
     ]
    },
    {
     "data": {
      "text/plain": [
       "<matplotlib.image.AxesImage at 0x248cd944448>"
      ]
     },
     "execution_count": 62,
     "metadata": {},
     "output_type": "execute_result"
    },
    {
     "data": {
      "image/png": "[encoded data removed]",
      "text/plain": [
       "<Figure size 432x288 with 1 Axes>"
      ]
     },
     "metadata": {
      "needs_background": "light"
     },
     "output_type": "display_data"
    }
   ],
   "source": [
    "im = data.iloc[[1]].as_matrix().reshape(28,28)\n",
    "plt.imshow(im, cmap = 'gray')"
   ]
  },
  {
   "cell_type": "code",
   "execution_count": 67,
   "metadata": {
    "collapsed": true
   },
   "outputs": [],
   "source": [
    "data = data/255"
   ]
  },
  {
   "cell_type": "code",
   "execution_count": null,
   "metadata": {
    "collapsed": true
   },
   "outputs": [],
   "source": []
  },
  {
   "cell_type": "code",
   "execution_count": 68,
   "metadata": {},
   "outputs": [
    {
     "data": {
      "text/plain": [
       "1000000"
      ]
     },
     "execution_count": 68,
     "metadata": {},
     "output_type": "execute_result"
    }
   ],
   "source": [
    "1000*1000"
   ]
  },
  {
   "cell_type": "code",
   "execution_count": 69,
   "metadata": {},
   "outputs": [
    {
     "name": "stdout",
     "output_type": "stream",
     "text": [
      "<class 'pandas.core.frame.DataFrame'>\n",
      "RangeIndex: 60000 entries, 0 to 59999\n",
      "Columns: 784 entries, X1 to X784\n",
      "dtypes: float64(784)\n",
      "memory usage: 358.9 MB\n"
     ]
    }
   ],
   "source": [
    "data.info()"
   ]
  },
  {
   "cell_type": "code",
   "execution_count": 70,
   "metadata": {
    "collapsed": true
   },
   "outputs": [],
   "source": [
    "#why were we doing PCA at all?\n",
    "# save time\n",
    "\n",
    "# will we save time is we have to do PCA first on all the data points?\n",
    "\n",
    "# Reg only = 10s\n",
    "# PCA + Reg = 10s + 3s = 13s\n",
    "\n",
    "\n",
    "#divide the data - only a small sample for PCA\n",
    "#use the complete data for regression only"
   ]
  },
  {
   "cell_type": "code",
   "execution_count": 75,
   "metadata": {
    "collapsed": true
   },
   "outputs": [],
   "source": [
    "# train test split: PCA data and non PCA data\n",
    "\n",
    "from sklearn.model_selection import train_test_split\n",
    "X_data, X_pca, y_data, y_pca = train_test_split(data, labels, test_size=0.20)"
   ]
  },
  {
   "cell_type": "code",
   "execution_count": 76,
   "metadata": {},
   "outputs": [
    {
     "data": {
      "text/html": [
       "<div>\n",
       "<style scoped>\n",
       "    .dataframe tbody tr th:only-of-type {\n",
       "        vertical-align: middle;\n",
       "    }\n",
       "\n",
       "    .dataframe tbody tr th {\n",
       "        vertical-align: top;\n",
       "    }\n",
       "\n",
       "    .dataframe thead th {\n",
       "        text-align: right;\n",
       "    }\n",
       "</style>\n",
       "<table border=\"1\" class=\"dataframe\">\n",
       "  <thead>\n",
       "    <tr style=\"text-align: right;\">\n",
       "      <th></th>\n",
       "      <th>X1</th>\n",
       "      <th>X2</th>\n",
       "      <th>X3</th>\n",
       "      <th>X4</th>\n",
       "      <th>X5</th>\n",
       "      <th>X6</th>\n",
       "      <th>X7</th>\n",
       "      <th>X8</th>\n",
       "      <th>X9</th>\n",
       "      <th>X10</th>\n",
       "      <th>...</th>\n",
       "      <th>X775</th>\n",
       "      <th>X776</th>\n",
       "      <th>X777</th>\n",
       "      <th>X778</th>\n",
       "      <th>X779</th>\n",
       "      <th>X780</th>\n",
       "      <th>X781</th>\n",
       "      <th>X782</th>\n",
       "      <th>X783</th>\n",
       "      <th>X784</th>\n",
       "    </tr>\n",
       "  </thead>\n",
       "  <tbody>\n",
       "    <tr>\n",
       "      <td>55525</td>\n",
       "      <td>0.0</td>\n",
       "      <td>0.0</td>\n",
       "      <td>0.0</td>\n",
       "      <td>0.0</td>\n",
       "      <td>0.0</td>\n",
       "      <td>0.0</td>\n",
       "      <td>0.0</td>\n",
       "      <td>0.0</td>\n",
       "      <td>0.0</td>\n",
       "      <td>0.0</td>\n",
       "      <td>...</td>\n",
       "      <td>0.0</td>\n",
       "      <td>0.0</td>\n",
       "      <td>0.0</td>\n",
       "      <td>0.0</td>\n",
       "      <td>0.0</td>\n",
       "      <td>0.0</td>\n",
       "      <td>0.0</td>\n",
       "      <td>0.0</td>\n",
       "      <td>0.0</td>\n",
       "      <td>0.0</td>\n",
       "    </tr>\n",
       "    <tr>\n",
       "      <td>45195</td>\n",
       "      <td>0.0</td>\n",
       "      <td>0.0</td>\n",
       "      <td>0.0</td>\n",
       "      <td>0.0</td>\n",
       "      <td>0.0</td>\n",
       "      <td>0.0</td>\n",
       "      <td>0.0</td>\n",
       "      <td>0.0</td>\n",
       "      <td>0.0</td>\n",
       "      <td>0.0</td>\n",
       "      <td>...</td>\n",
       "      <td>0.0</td>\n",
       "      <td>0.0</td>\n",
       "      <td>0.0</td>\n",
       "      <td>0.0</td>\n",
       "      <td>0.0</td>\n",
       "      <td>0.0</td>\n",
       "      <td>0.0</td>\n",
       "      <td>0.0</td>\n",
       "      <td>0.0</td>\n",
       "      <td>0.0</td>\n",
       "    </tr>\n",
       "    <tr>\n",
       "      <td>28434</td>\n",
       "      <td>0.0</td>\n",
       "      <td>0.0</td>\n",
       "      <td>0.0</td>\n",
       "      <td>0.0</td>\n",
       "      <td>0.0</td>\n",
       "      <td>0.0</td>\n",
       "      <td>0.0</td>\n",
       "      <td>0.0</td>\n",
       "      <td>0.0</td>\n",
       "      <td>0.0</td>\n",
       "      <td>...</td>\n",
       "      <td>0.0</td>\n",
       "      <td>0.0</td>\n",
       "      <td>0.0</td>\n",
       "      <td>0.0</td>\n",
       "      <td>0.0</td>\n",
       "      <td>0.0</td>\n",
       "      <td>0.0</td>\n",
       "      <td>0.0</td>\n",
       "      <td>0.0</td>\n",
       "      <td>0.0</td>\n",
       "    </tr>\n",
       "    <tr>\n",
       "      <td>6285</td>\n",
       "      <td>0.0</td>\n",
       "      <td>0.0</td>\n",
       "      <td>0.0</td>\n",
       "      <td>0.0</td>\n",
       "      <td>0.0</td>\n",
       "      <td>0.0</td>\n",
       "      <td>0.0</td>\n",
       "      <td>0.0</td>\n",
       "      <td>0.0</td>\n",
       "      <td>0.0</td>\n",
       "      <td>...</td>\n",
       "      <td>0.0</td>\n",
       "      <td>0.0</td>\n",
       "      <td>0.0</td>\n",
       "      <td>0.0</td>\n",
       "      <td>0.0</td>\n",
       "      <td>0.0</td>\n",
       "      <td>0.0</td>\n",
       "      <td>0.0</td>\n",
       "      <td>0.0</td>\n",
       "      <td>0.0</td>\n",
       "    </tr>\n",
       "    <tr>\n",
       "      <td>38775</td>\n",
       "      <td>0.0</td>\n",
       "      <td>0.0</td>\n",
       "      <td>0.0</td>\n",
       "      <td>0.0</td>\n",
       "      <td>0.0</td>\n",
       "      <td>0.0</td>\n",
       "      <td>0.0</td>\n",
       "      <td>0.0</td>\n",
       "      <td>0.0</td>\n",
       "      <td>0.0</td>\n",
       "      <td>...</td>\n",
       "      <td>0.0</td>\n",
       "      <td>0.0</td>\n",
       "      <td>0.0</td>\n",
       "      <td>0.0</td>\n",
       "      <td>0.0</td>\n",
       "      <td>0.0</td>\n",
       "      <td>0.0</td>\n",
       "      <td>0.0</td>\n",
       "      <td>0.0</td>\n",
       "      <td>0.0</td>\n",
       "    </tr>\n",
       "    <tr>\n",
       "      <td>...</td>\n",
       "      <td>...</td>\n",
       "      <td>...</td>\n",
       "      <td>...</td>\n",
       "      <td>...</td>\n",
       "      <td>...</td>\n",
       "      <td>...</td>\n",
       "      <td>...</td>\n",
       "      <td>...</td>\n",
       "      <td>...</td>\n",
       "      <td>...</td>\n",
       "      <td>...</td>\n",
       "      <td>...</td>\n",
       "      <td>...</td>\n",
       "      <td>...</td>\n",
       "      <td>...</td>\n",
       "      <td>...</td>\n",
       "      <td>...</td>\n",
       "      <td>...</td>\n",
       "      <td>...</td>\n",
       "      <td>...</td>\n",
       "      <td>...</td>\n",
       "    </tr>\n",
       "    <tr>\n",
       "      <td>4576</td>\n",
       "      <td>0.0</td>\n",
       "      <td>0.0</td>\n",
       "      <td>0.0</td>\n",
       "      <td>0.0</td>\n",
       "      <td>0.0</td>\n",
       "      <td>0.0</td>\n",
       "      <td>0.0</td>\n",
       "      <td>0.0</td>\n",
       "      <td>0.0</td>\n",
       "      <td>0.0</td>\n",
       "      <td>...</td>\n",
       "      <td>0.0</td>\n",
       "      <td>0.0</td>\n",
       "      <td>0.0</td>\n",
       "      <td>0.0</td>\n",
       "      <td>0.0</td>\n",
       "      <td>0.0</td>\n",
       "      <td>0.0</td>\n",
       "      <td>0.0</td>\n",
       "      <td>0.0</td>\n",
       "      <td>0.0</td>\n",
       "    </tr>\n",
       "    <tr>\n",
       "      <td>40934</td>\n",
       "      <td>0.0</td>\n",
       "      <td>0.0</td>\n",
       "      <td>0.0</td>\n",
       "      <td>0.0</td>\n",
       "      <td>0.0</td>\n",
       "      <td>0.0</td>\n",
       "      <td>0.0</td>\n",
       "      <td>0.0</td>\n",
       "      <td>0.0</td>\n",
       "      <td>0.0</td>\n",
       "      <td>...</td>\n",
       "      <td>0.0</td>\n",
       "      <td>0.0</td>\n",
       "      <td>0.0</td>\n",
       "      <td>0.0</td>\n",
       "      <td>0.0</td>\n",
       "      <td>0.0</td>\n",
       "      <td>0.0</td>\n",
       "      <td>0.0</td>\n",
       "      <td>0.0</td>\n",
       "      <td>0.0</td>\n",
       "    </tr>\n",
       "    <tr>\n",
       "      <td>51678</td>\n",
       "      <td>0.0</td>\n",
       "      <td>0.0</td>\n",
       "      <td>0.0</td>\n",
       "      <td>0.0</td>\n",
       "      <td>0.0</td>\n",
       "      <td>0.0</td>\n",
       "      <td>0.0</td>\n",
       "      <td>0.0</td>\n",
       "      <td>0.0</td>\n",
       "      <td>0.0</td>\n",
       "      <td>...</td>\n",
       "      <td>0.0</td>\n",
       "      <td>0.0</td>\n",
       "      <td>0.0</td>\n",
       "      <td>0.0</td>\n",
       "      <td>0.0</td>\n",
       "      <td>0.0</td>\n",
       "      <td>0.0</td>\n",
       "      <td>0.0</td>\n",
       "      <td>0.0</td>\n",
       "      <td>0.0</td>\n",
       "    </tr>\n",
       "    <tr>\n",
       "      <td>7967</td>\n",
       "      <td>0.0</td>\n",
       "      <td>0.0</td>\n",
       "      <td>0.0</td>\n",
       "      <td>0.0</td>\n",
       "      <td>0.0</td>\n",
       "      <td>0.0</td>\n",
       "      <td>0.0</td>\n",
       "      <td>0.0</td>\n",
       "      <td>0.0</td>\n",
       "      <td>0.0</td>\n",
       "      <td>...</td>\n",
       "      <td>0.0</td>\n",
       "      <td>0.0</td>\n",
       "      <td>0.0</td>\n",
       "      <td>0.0</td>\n",
       "      <td>0.0</td>\n",
       "      <td>0.0</td>\n",
       "      <td>0.0</td>\n",
       "      <td>0.0</td>\n",
       "      <td>0.0</td>\n",
       "      <td>0.0</td>\n",
       "    </tr>\n",
       "    <tr>\n",
       "      <td>44324</td>\n",
       "      <td>0.0</td>\n",
       "      <td>0.0</td>\n",
       "      <td>0.0</td>\n",
       "      <td>0.0</td>\n",
       "      <td>0.0</td>\n",
       "      <td>0.0</td>\n",
       "      <td>0.0</td>\n",
       "      <td>0.0</td>\n",
       "      <td>0.0</td>\n",
       "      <td>0.0</td>\n",
       "      <td>...</td>\n",
       "      <td>0.0</td>\n",
       "      <td>0.0</td>\n",
       "      <td>0.0</td>\n",
       "      <td>0.0</td>\n",
       "      <td>0.0</td>\n",
       "      <td>0.0</td>\n",
       "      <td>0.0</td>\n",
       "      <td>0.0</td>\n",
       "      <td>0.0</td>\n",
       "      <td>0.0</td>\n",
       "    </tr>\n",
       "  </tbody>\n",
       "</table>\n",
       "<p>12000 rows × 784 columns</p>\n",
       "</div>"
      ],
      "text/plain": [
       "        X1   X2   X3   X4   X5   X6   X7   X8   X9  X10  ...  X775  X776  \\\n",
       "55525  0.0  0.0  0.0  0.0  0.0  0.0  0.0  0.0  0.0  0.0  ...   0.0   0.0   \n",
       "45195  0.0  0.0  0.0  0.0  0.0  0.0  0.0  0.0  0.0  0.0  ...   0.0   0.0   \n",
       "28434  0.0  0.0  0.0  0.0  0.0  0.0  0.0  0.0  0.0  0.0  ...   0.0   0.0   \n",
       "6285   0.0  0.0  0.0  0.0  0.0  0.0  0.0  0.0  0.0  0.0  ...   0.0   0.0   \n",
       "38775  0.0  0.0  0.0  0.0  0.0  0.0  0.0  0.0  0.0  0.0  ...   0.0   0.0   \n",
       "...    ...  ...  ...  ...  ...  ...  ...  ...  ...  ...  ...   ...   ...   \n",
       "4576   0.0  0.0  0.0  0.0  0.0  0.0  0.0  0.0  0.0  0.0  ...   0.0   0.0   \n",
       "40934  0.0  0.0  0.0  0.0  0.0  0.0  0.0  0.0  0.0  0.0  ...   0.0   0.0   \n",
       "51678  0.0  0.0  0.0  0.0  0.0  0.0  0.0  0.0  0.0  0.0  ...   0.0   0.0   \n",
       "7967   0.0  0.0  0.0  0.0  0.0  0.0  0.0  0.0  0.0  0.0  ...   0.0   0.0   \n",
       "44324  0.0  0.0  0.0  0.0  0.0  0.0  0.0  0.0  0.0  0.0  ...   0.0   0.0   \n",
       "\n",
       "       X777  X778  X779  X780  X781  X782  X783  X784  \n",
       "55525   0.0   0.0   0.0   0.0   0.0   0.0   0.0   0.0  \n",
       "45195   0.0   0.0   0.0   0.0   0.0   0.0   0.0   0.0  \n",
       "28434   0.0   0.0   0.0   0.0   0.0   0.0   0.0   0.0  \n",
       "6285    0.0   0.0   0.0   0.0   0.0   0.0   0.0   0.0  \n",
       "38775   0.0   0.0   0.0   0.0   0.0   0.0   0.0   0.0  \n",
       "...     ...   ...   ...   ...   ...   ...   ...   ...  \n",
       "4576    0.0   0.0   0.0   0.0   0.0   0.0   0.0   0.0  \n",
       "40934   0.0   0.0   0.0   0.0   0.0   0.0   0.0   0.0  \n",
       "51678   0.0   0.0   0.0   0.0   0.0   0.0   0.0   0.0  \n",
       "7967    0.0   0.0   0.0   0.0   0.0   0.0   0.0   0.0  \n",
       "44324   0.0   0.0   0.0   0.0   0.0   0.0   0.0   0.0  \n",
       "\n",
       "[12000 rows x 784 columns]"
      ]
     },
     "execution_count": 76,
     "metadata": {},
     "output_type": "execute_result"
    }
   ],
   "source": [
    "X_pca"
   ]
  },
  {
   "cell_type": "code",
   "execution_count": 77,
   "metadata": {},
   "outputs": [
    {
     "name": "stderr",
     "output_type": "stream",
     "text": [
      "C:\\ProgramData\\Anaconda3\\lib\\site-packages\\ipykernel_launcher.py:1: FutureWarning: Method .as_matrix will be removed in a future version. Use .values instead.\n",
      "  \"\"\"Entry point for launching an IPython kernel.\n"
     ]
    },
    {
     "data": {
      "text/plain": [
       "(28, 28)"
      ]
     },
     "execution_count": 77,
     "metadata": {},
     "output_type": "execute_result"
    }
   ],
   "source": [
    "im = X_data.iloc[[6279]].as_matrix().reshape(28,28)\n",
    "im.shape"
   ]
  },
  {
   "cell_type": "code",
   "execution_count": null,
   "metadata": {
    "collapsed": true
   },
   "outputs": [],
   "source": []
  },
  {
   "cell_type": "code",
   "execution_count": 78,
   "metadata": {
    "scrolled": true
   },
   "outputs": [
    {
     "data": {
      "text/plain": [
       "<matplotlib.image.AxesImage at 0x248cc114fc8>"
      ]
     },
     "execution_count": 78,
     "metadata": {},
     "output_type": "execute_result"
    },
    {
     "data": {
      "image/png": "[encoded data removed]",
      "text/plain": [
       "<Figure size 432x288 with 1 Axes>"
      ]
     },
     "metadata": {
      "needs_background": "light"
     },
     "output_type": "display_data"
    }
   ],
   "source": [
    "import matplotlib.pyplot as plt\n",
    "plt.imshow(1 - im, cmap = 'gray')"
   ]
  },
  {
   "cell_type": "code",
   "execution_count": 79,
   "metadata": {},
   "outputs": [
    {
     "name": "stderr",
     "output_type": "stream",
     "text": [
      "C:\\ProgramData\\Anaconda3\\lib\\site-packages\\ipykernel_launcher.py:1: FutureWarning: Method .as_matrix will be removed in a future version. Use .values instead.\n",
      "  \"\"\"Entry point for launching an IPython kernel.\n"
     ]
    },
    {
     "data": {
      "text/plain": [
       "<matplotlib.image.AxesImage at 0x248cc296b88>"
      ]
     },
     "execution_count": 79,
     "metadata": {},
     "output_type": "execute_result"
    },
    {
     "data": {
      "image/png": "[encoded data removed]",
      "text/plain": [
       "<Figure size 432x288 with 1 Axes>"
      ]
     },
     "metadata": {
      "needs_background": "light"
     },
     "output_type": "display_data"
    }
   ],
   "source": [
    "im = X_pca.iloc[[0]].as_matrix().reshape(28,28)\n",
    "plt.imshow(1-im, cmap = 'gray')"
   ]
  },
  {
   "cell_type": "code",
   "execution_count": 80,
   "metadata": {
    "collapsed": true
   },
   "outputs": [],
   "source": [
    "from sklearn.decomposition import PCA\n",
    "pca = PCA(0.95).fit(X_pca)"
   ]
  },
  {
   "cell_type": "code",
   "execution_count": 81,
   "metadata": {},
   "outputs": [
    {
     "data": {
      "text/plain": [
       "[<matplotlib.lines.Line2D at 0x248cc1e1748>]"
      ]
     },
     "execution_count": 81,
     "metadata": {},
     "output_type": "execute_result"
    },
    {
     "data": {
      "image/png": "[encoded data removed]",
      "text/plain": [
       "<Figure size 432x288 with 1 Axes>"
      ]
     },
     "metadata": {
      "needs_background": "light"
     },
     "output_type": "display_data"
    }
   ],
   "source": [
    "var=np.cumsum(np.round(pca.explained_variance_ratio_, decimals=4)*100)\n",
    "plt.ylabel('% Variance Explained')\n",
    "plt.xlabel('Number of Features')\n",
    "plt.title('PCA Analysis')\n",
    "plt.ylim(30,100.5)\n",
    "plt.style.context('seaborn-whitegrid')\n",
    "plt.plot(var)"
   ]
  },
  {
   "cell_type": "code",
   "execution_count": 82,
   "metadata": {},
   "outputs": [
    {
     "name": "stdout",
     "output_type": "stream",
     "text": [
      "153 components explain 95% of the variation in data\n"
     ]
    }
   ],
   "source": [
    "print('%d components explain 95%% of the variation in data' % pca.n_components_)"
   ]
  },
  {
   "cell_type": "code",
   "execution_count": 83,
   "metadata": {},
   "outputs": [
    {
     "name": "stdout",
     "output_type": "stream",
     "text": [
      "(12000, 152)\n"
     ]
    }
   ],
   "source": [
    "pca = PCA(n_components=152, random_state = 0)\n",
    "pca.fit(X_pca)\n",
    "X_pca_t = pca.transform(X_pca)\n",
    "print(X_pca_t.shape)\n",
    "\n"
   ]
  },
  {
   "cell_type": "code",
   "execution_count": 84,
   "metadata": {},
   "outputs": [
    {
     "name": "stdout",
     "output_type": "stream",
     "text": [
      "(48000, 152)\n"
     ]
    }
   ],
   "source": [
    "X_data_t = pca.transform(X_data)\n",
    "print(X_data_t.shape)"
   ]
  },
  {
   "cell_type": "code",
   "execution_count": 85,
   "metadata": {
    "collapsed": true
   },
   "outputs": [],
   "source": [
    "X_data_t = pd.DataFrame(data = X_data_t)"
   ]
  },
  {
   "cell_type": "code",
   "execution_count": 86,
   "metadata": {},
   "outputs": [
    {
     "data": {
      "text/html": [
       "<div>\n",
       "<style scoped>\n",
       "    .dataframe tbody tr th:only-of-type {\n",
       "        vertical-align: middle;\n",
       "    }\n",
       "\n",
       "    .dataframe tbody tr th {\n",
       "        vertical-align: top;\n",
       "    }\n",
       "\n",
       "    .dataframe thead th {\n",
       "        text-align: right;\n",
       "    }\n",
       "</style>\n",
       "<table border=\"1\" class=\"dataframe\">\n",
       "  <thead>\n",
       "    <tr style=\"text-align: right;\">\n",
       "      <th></th>\n",
       "      <th>0</th>\n",
       "      <th>1</th>\n",
       "      <th>2</th>\n",
       "      <th>3</th>\n",
       "      <th>4</th>\n",
       "      <th>5</th>\n",
       "      <th>6</th>\n",
       "      <th>7</th>\n",
       "      <th>8</th>\n",
       "      <th>9</th>\n",
       "      <th>...</th>\n",
       "      <th>142</th>\n",
       "      <th>143</th>\n",
       "      <th>144</th>\n",
       "      <th>145</th>\n",
       "      <th>146</th>\n",
       "      <th>147</th>\n",
       "      <th>148</th>\n",
       "      <th>149</th>\n",
       "      <th>150</th>\n",
       "      <th>151</th>\n",
       "    </tr>\n",
       "  </thead>\n",
       "  <tbody>\n",
       "    <tr>\n",
       "      <td>0</td>\n",
       "      <td>1.004025</td>\n",
       "      <td>2.530969</td>\n",
       "      <td>1.548904</td>\n",
       "      <td>-1.150349</td>\n",
       "      <td>1.991833</td>\n",
       "      <td>2.183228</td>\n",
       "      <td>0.743532</td>\n",
       "      <td>-1.501079</td>\n",
       "      <td>-2.279331</td>\n",
       "      <td>-1.984041</td>\n",
       "      <td>...</td>\n",
       "      <td>0.204947</td>\n",
       "      <td>-0.121384</td>\n",
       "      <td>-0.017778</td>\n",
       "      <td>0.156913</td>\n",
       "      <td>-0.136280</td>\n",
       "      <td>-0.197159</td>\n",
       "      <td>-0.142406</td>\n",
       "      <td>-0.135829</td>\n",
       "      <td>0.012665</td>\n",
       "      <td>-0.103663</td>\n",
       "    </tr>\n",
       "    <tr>\n",
       "      <td>1</td>\n",
       "      <td>0.349046</td>\n",
       "      <td>-2.969226</td>\n",
       "      <td>-2.443416</td>\n",
       "      <td>1.218331</td>\n",
       "      <td>2.881222</td>\n",
       "      <td>-2.039818</td>\n",
       "      <td>0.390936</td>\n",
       "      <td>1.418803</td>\n",
       "      <td>2.911390</td>\n",
       "      <td>-1.599673</td>\n",
       "      <td>...</td>\n",
       "      <td>0.080577</td>\n",
       "      <td>-0.050727</td>\n",
       "      <td>-0.033318</td>\n",
       "      <td>0.101766</td>\n",
       "      <td>0.271707</td>\n",
       "      <td>-0.075387</td>\n",
       "      <td>-0.161587</td>\n",
       "      <td>-0.110444</td>\n",
       "      <td>-0.000138</td>\n",
       "      <td>0.093283</td>\n",
       "    </tr>\n",
       "    <tr>\n",
       "      <td>2</td>\n",
       "      <td>-3.551672</td>\n",
       "      <td>0.775460</td>\n",
       "      <td>-0.337567</td>\n",
       "      <td>-1.107442</td>\n",
       "      <td>-2.770669</td>\n",
       "      <td>-0.490297</td>\n",
       "      <td>-0.503613</td>\n",
       "      <td>-0.676992</td>\n",
       "      <td>-0.098407</td>\n",
       "      <td>0.076275</td>\n",
       "      <td>...</td>\n",
       "      <td>-0.000416</td>\n",
       "      <td>0.108403</td>\n",
       "      <td>0.022782</td>\n",
       "      <td>-0.065942</td>\n",
       "      <td>-0.180649</td>\n",
       "      <td>0.081540</td>\n",
       "      <td>-0.037028</td>\n",
       "      <td>-0.074856</td>\n",
       "      <td>-0.256051</td>\n",
       "      <td>-0.042501</td>\n",
       "    </tr>\n",
       "    <tr>\n",
       "      <td>3</td>\n",
       "      <td>2.478107</td>\n",
       "      <td>3.141339</td>\n",
       "      <td>-3.402535</td>\n",
       "      <td>2.963771</td>\n",
       "      <td>0.822033</td>\n",
       "      <td>0.813809</td>\n",
       "      <td>0.100196</td>\n",
       "      <td>1.490956</td>\n",
       "      <td>-0.404037</td>\n",
       "      <td>1.563323</td>\n",
       "      <td>...</td>\n",
       "      <td>0.017489</td>\n",
       "      <td>0.154611</td>\n",
       "      <td>0.098342</td>\n",
       "      <td>0.075993</td>\n",
       "      <td>-0.046159</td>\n",
       "      <td>0.022881</td>\n",
       "      <td>-0.028325</td>\n",
       "      <td>0.105008</td>\n",
       "      <td>-0.193981</td>\n",
       "      <td>-0.293643</td>\n",
       "    </tr>\n",
       "    <tr>\n",
       "      <td>4</td>\n",
       "      <td>-2.715003</td>\n",
       "      <td>0.543754</td>\n",
       "      <td>-0.811213</td>\n",
       "      <td>-0.032119</td>\n",
       "      <td>-0.158478</td>\n",
       "      <td>-2.024182</td>\n",
       "      <td>1.669452</td>\n",
       "      <td>-0.866848</td>\n",
       "      <td>0.293294</td>\n",
       "      <td>-1.278794</td>\n",
       "      <td>...</td>\n",
       "      <td>-0.150334</td>\n",
       "      <td>-0.103390</td>\n",
       "      <td>-0.187323</td>\n",
       "      <td>0.265633</td>\n",
       "      <td>-0.157702</td>\n",
       "      <td>0.237888</td>\n",
       "      <td>0.083203</td>\n",
       "      <td>0.229774</td>\n",
       "      <td>-0.168908</td>\n",
       "      <td>0.015012</td>\n",
       "    </tr>\n",
       "    <tr>\n",
       "      <td>...</td>\n",
       "      <td>...</td>\n",
       "      <td>...</td>\n",
       "      <td>...</td>\n",
       "      <td>...</td>\n",
       "      <td>...</td>\n",
       "      <td>...</td>\n",
       "      <td>...</td>\n",
       "      <td>...</td>\n",
       "      <td>...</td>\n",
       "      <td>...</td>\n",
       "      <td>...</td>\n",
       "      <td>...</td>\n",
       "      <td>...</td>\n",
       "      <td>...</td>\n",
       "      <td>...</td>\n",
       "      <td>...</td>\n",
       "      <td>...</td>\n",
       "      <td>...</td>\n",
       "      <td>...</td>\n",
       "      <td>...</td>\n",
       "      <td>...</td>\n",
       "    </tr>\n",
       "    <tr>\n",
       "      <td>47995</td>\n",
       "      <td>2.403772</td>\n",
       "      <td>4.102888</td>\n",
       "      <td>-2.639517</td>\n",
       "      <td>1.940637</td>\n",
       "      <td>0.453477</td>\n",
       "      <td>0.572410</td>\n",
       "      <td>-1.339536</td>\n",
       "      <td>1.105061</td>\n",
       "      <td>-0.391152</td>\n",
       "      <td>2.617590</td>\n",
       "      <td>...</td>\n",
       "      <td>-0.104597</td>\n",
       "      <td>-0.085689</td>\n",
       "      <td>0.085765</td>\n",
       "      <td>0.283745</td>\n",
       "      <td>0.081505</td>\n",
       "      <td>0.114783</td>\n",
       "      <td>0.186607</td>\n",
       "      <td>-0.255894</td>\n",
       "      <td>-0.052334</td>\n",
       "      <td>-0.266726</td>\n",
       "    </tr>\n",
       "    <tr>\n",
       "      <td>47996</td>\n",
       "      <td>-0.387055</td>\n",
       "      <td>-4.406561</td>\n",
       "      <td>0.492804</td>\n",
       "      <td>2.451024</td>\n",
       "      <td>-0.468948</td>\n",
       "      <td>0.938549</td>\n",
       "      <td>2.168945</td>\n",
       "      <td>-0.365786</td>\n",
       "      <td>-0.905016</td>\n",
       "      <td>1.202403</td>\n",
       "      <td>...</td>\n",
       "      <td>-0.248662</td>\n",
       "      <td>0.089085</td>\n",
       "      <td>0.022519</td>\n",
       "      <td>-0.078036</td>\n",
       "      <td>0.067085</td>\n",
       "      <td>0.254198</td>\n",
       "      <td>-0.109747</td>\n",
       "      <td>-0.150775</td>\n",
       "      <td>-0.104973</td>\n",
       "      <td>0.008694</td>\n",
       "    </tr>\n",
       "    <tr>\n",
       "      <td>47997</td>\n",
       "      <td>-1.846101</td>\n",
       "      <td>-1.093365</td>\n",
       "      <td>1.745208</td>\n",
       "      <td>2.276895</td>\n",
       "      <td>0.322493</td>\n",
       "      <td>1.140561</td>\n",
       "      <td>1.215774</td>\n",
       "      <td>-0.054798</td>\n",
       "      <td>-0.546074</td>\n",
       "      <td>1.951879</td>\n",
       "      <td>...</td>\n",
       "      <td>-0.070748</td>\n",
       "      <td>0.021024</td>\n",
       "      <td>0.175233</td>\n",
       "      <td>-0.063783</td>\n",
       "      <td>0.123865</td>\n",
       "      <td>-0.027724</td>\n",
       "      <td>0.035430</td>\n",
       "      <td>-0.121783</td>\n",
       "      <td>-0.069408</td>\n",
       "      <td>-0.243455</td>\n",
       "    </tr>\n",
       "    <tr>\n",
       "      <td>47998</td>\n",
       "      <td>-3.364163</td>\n",
       "      <td>0.996594</td>\n",
       "      <td>-0.142306</td>\n",
       "      <td>-0.935830</td>\n",
       "      <td>-2.688254</td>\n",
       "      <td>-0.730431</td>\n",
       "      <td>0.288559</td>\n",
       "      <td>-0.932311</td>\n",
       "      <td>-0.552938</td>\n",
       "      <td>0.297020</td>\n",
       "      <td>...</td>\n",
       "      <td>-0.050172</td>\n",
       "      <td>0.074958</td>\n",
       "      <td>0.090898</td>\n",
       "      <td>0.170048</td>\n",
       "      <td>-0.068457</td>\n",
       "      <td>-0.006090</td>\n",
       "      <td>-0.254296</td>\n",
       "      <td>0.005481</td>\n",
       "      <td>-0.179379</td>\n",
       "      <td>-0.135265</td>\n",
       "    </tr>\n",
       "    <tr>\n",
       "      <td>47999</td>\n",
       "      <td>3.137713</td>\n",
       "      <td>2.294367</td>\n",
       "      <td>-0.707260</td>\n",
       "      <td>2.246604</td>\n",
       "      <td>0.680650</td>\n",
       "      <td>1.693960</td>\n",
       "      <td>1.839229</td>\n",
       "      <td>3.417760</td>\n",
       "      <td>-0.340202</td>\n",
       "      <td>-0.310775</td>\n",
       "      <td>...</td>\n",
       "      <td>0.208584</td>\n",
       "      <td>-0.161366</td>\n",
       "      <td>-0.383000</td>\n",
       "      <td>-0.166025</td>\n",
       "      <td>-0.000902</td>\n",
       "      <td>0.029865</td>\n",
       "      <td>0.281404</td>\n",
       "      <td>-0.064591</td>\n",
       "      <td>0.113705</td>\n",
       "      <td>0.204760</td>\n",
       "    </tr>\n",
       "  </tbody>\n",
       "</table>\n",
       "<p>48000 rows × 152 columns</p>\n",
       "</div>"
      ],
      "text/plain": [
       "            0         1         2         3         4         5         6    \\\n",
       "0      1.004025  2.530969  1.548904 -1.150349  1.991833  2.183228  0.743532   \n",
       "1      0.349046 -2.969226 -2.443416  1.218331  2.881222 -2.039818  0.390936   \n",
       "2     -3.551672  0.775460 -0.337567 -1.107442 -2.770669 -0.490297 -0.503613   \n",
       "3      2.478107  3.141339 -3.402535  2.963771  0.822033  0.813809  0.100196   \n",
       "4     -2.715003  0.543754 -0.811213 -0.032119 -0.158478 -2.024182  1.669452   \n",
       "...         ...       ...       ...       ...       ...       ...       ...   \n",
       "47995  2.403772  4.102888 -2.639517  1.940637  0.453477  0.572410 -1.339536   \n",
       "47996 -0.387055 -4.406561  0.492804  2.451024 -0.468948  0.938549  2.168945   \n",
       "47997 -1.846101 -1.093365  1.745208  2.276895  0.322493  1.140561  1.215774   \n",
       "47998 -3.364163  0.996594 -0.142306 -0.935830 -2.688254 -0.730431  0.288559   \n",
       "47999  3.137713  2.294367 -0.707260  2.246604  0.680650  1.693960  1.839229   \n",
       "\n",
       "            7         8         9    ...       142       143       144  \\\n",
       "0     -1.501079 -2.279331 -1.984041  ...  0.204947 -0.121384 -0.017778   \n",
       "1      1.418803  2.911390 -1.599673  ...  0.080577 -0.050727 -0.033318   \n",
       "2     -0.676992 -0.098407  0.076275  ... -0.000416  0.108403  0.022782   \n",
       "3      1.490956 -0.404037  1.563323  ...  0.017489  0.154611  0.098342   \n",
       "4     -0.866848  0.293294 -1.278794  ... -0.150334 -0.103390 -0.187323   \n",
       "...         ...       ...       ...  ...       ...       ...       ...   \n",
       "47995  1.105061 -0.391152  2.617590  ... -0.104597 -0.085689  0.085765   \n",
       "47996 -0.365786 -0.905016  1.202403  ... -0.248662  0.089085  0.022519   \n",
       "47997 -0.054798 -0.546074  1.951879  ... -0.070748  0.021024  0.175233   \n",
       "47998 -0.932311 -0.552938  0.297020  ... -0.050172  0.074958  0.090898   \n",
       "47999  3.417760 -0.340202 -0.310775  ...  0.208584 -0.161366 -0.383000   \n",
       "\n",
       "            145       146       147       148       149       150       151  \n",
       "0      0.156913 -0.136280 -0.197159 -0.142406 -0.135829  0.012665 -0.103663  \n",
       "1      0.101766  0.271707 -0.075387 -0.161587 -0.110444 -0.000138  0.093283  \n",
       "2     -0.065942 -0.180649  0.081540 -0.037028 -0.074856 -0.256051 -0.042501  \n",
       "3      0.075993 -0.046159  0.022881 -0.028325  0.105008 -0.193981 -0.293643  \n",
       "4      0.265633 -0.157702  0.237888  0.083203  0.229774 -0.168908  0.015012  \n",
       "...         ...       ...       ...       ...       ...       ...       ...  \n",
       "47995  0.283745  0.081505  0.114783  0.186607 -0.255894 -0.052334 -0.266726  \n",
       "47996 -0.078036  0.067085  0.254198 -0.109747 -0.150775 -0.104973  0.008694  \n",
       "47997 -0.063783  0.123865 -0.027724  0.035430 -0.121783 -0.069408 -0.243455  \n",
       "47998  0.170048 -0.068457 -0.006090 -0.254296  0.005481 -0.179379 -0.135265  \n",
       "47999 -0.166025 -0.000902  0.029865  0.281404 -0.064591  0.113705  0.204760  \n",
       "\n",
       "[48000 rows x 152 columns]"
      ]
     },
     "execution_count": 86,
     "metadata": {},
     "output_type": "execute_result"
    }
   ],
   "source": [
    "X_data_t"
   ]
  },
  {
   "cell_type": "code",
   "execution_count": 87,
   "metadata": {
    "collapsed": true
   },
   "outputs": [],
   "source": [
    "#convery 152 components -> original format 784 pixels to visualize\n",
    " \n",
    "X_pca_invt=pca.inverse_transform(X_pca_t)"
   ]
  },
  {
   "cell_type": "code",
   "execution_count": 88,
   "metadata": {},
   "outputs": [
    {
     "data": {
      "text/plain": [
       "(12000, 784)"
      ]
     },
     "execution_count": 88,
     "metadata": {},
     "output_type": "execute_result"
    }
   ],
   "source": [
    "X_pca_invt.shape"
   ]
  },
  {
   "cell_type": "code",
   "execution_count": 89,
   "metadata": {
    "collapsed": true
   },
   "outputs": [],
   "source": [
    "X_pca_invt = pd.DataFrame(data = X_pca_invt)"
   ]
  },
  {
   "cell_type": "code",
   "execution_count": 90,
   "metadata": {},
   "outputs": [
    {
     "data": {
      "text/html": [
       "<div>\n",
       "<style scoped>\n",
       "    .dataframe tbody tr th:only-of-type {\n",
       "        vertical-align: middle;\n",
       "    }\n",
       "\n",
       "    .dataframe tbody tr th {\n",
       "        vertical-align: top;\n",
       "    }\n",
       "\n",
       "    .dataframe thead th {\n",
       "        text-align: right;\n",
       "    }\n",
       "</style>\n",
       "<table border=\"1\" class=\"dataframe\">\n",
       "  <thead>\n",
       "    <tr style=\"text-align: right;\">\n",
       "      <th></th>\n",
       "      <th>0</th>\n",
       "      <th>1</th>\n",
       "      <th>2</th>\n",
       "      <th>3</th>\n",
       "      <th>4</th>\n",
       "      <th>5</th>\n",
       "      <th>6</th>\n",
       "      <th>7</th>\n",
       "      <th>8</th>\n",
       "      <th>9</th>\n",
       "      <th>...</th>\n",
       "      <th>774</th>\n",
       "      <th>775</th>\n",
       "      <th>776</th>\n",
       "      <th>777</th>\n",
       "      <th>778</th>\n",
       "      <th>779</th>\n",
       "      <th>780</th>\n",
       "      <th>781</th>\n",
       "      <th>782</th>\n",
       "      <th>783</th>\n",
       "    </tr>\n",
       "  </thead>\n",
       "  <tbody>\n",
       "    <tr>\n",
       "      <td>0</td>\n",
       "      <td>2.039419e-16</td>\n",
       "      <td>5.321825e-16</td>\n",
       "      <td>-5.063074e-16</td>\n",
       "      <td>2.190600e-16</td>\n",
       "      <td>-2.740895e-16</td>\n",
       "      <td>-4.692016e-16</td>\n",
       "      <td>-1.979251e-17</td>\n",
       "      <td>1.298590e-16</td>\n",
       "      <td>-4.719333e-16</td>\n",
       "      <td>3.880259e-16</td>\n",
       "      <td>...</td>\n",
       "      <td>0.000546</td>\n",
       "      <td>0.000864</td>\n",
       "      <td>-0.001049</td>\n",
       "      <td>-0.000280</td>\n",
       "      <td>0.0</td>\n",
       "      <td>0.0</td>\n",
       "      <td>0.0</td>\n",
       "      <td>0.0</td>\n",
       "      <td>0.0</td>\n",
       "      <td>0.0</td>\n",
       "    </tr>\n",
       "    <tr>\n",
       "      <td>1</td>\n",
       "      <td>4.862241e-17</td>\n",
       "      <td>-3.772954e-16</td>\n",
       "      <td>7.585050e-16</td>\n",
       "      <td>-2.564752e-16</td>\n",
       "      <td>4.892309e-17</td>\n",
       "      <td>-9.477164e-17</td>\n",
       "      <td>-5.051682e-17</td>\n",
       "      <td>5.096637e-17</td>\n",
       "      <td>6.335443e-16</td>\n",
       "      <td>3.839514e-16</td>\n",
       "      <td>...</td>\n",
       "      <td>0.003165</td>\n",
       "      <td>0.000314</td>\n",
       "      <td>-0.000169</td>\n",
       "      <td>-0.000004</td>\n",
       "      <td>0.0</td>\n",
       "      <td>0.0</td>\n",
       "      <td>0.0</td>\n",
       "      <td>0.0</td>\n",
       "      <td>0.0</td>\n",
       "      <td>0.0</td>\n",
       "    </tr>\n",
       "    <tr>\n",
       "      <td>2</td>\n",
       "      <td>-9.371509e-18</td>\n",
       "      <td>-3.749986e-16</td>\n",
       "      <td>4.225799e-16</td>\n",
       "      <td>6.681943e-16</td>\n",
       "      <td>8.406125e-18</td>\n",
       "      <td>4.072059e-16</td>\n",
       "      <td>-7.297611e-16</td>\n",
       "      <td>-4.997278e-16</td>\n",
       "      <td>-3.896660e-16</td>\n",
       "      <td>-7.822654e-17</td>\n",
       "      <td>...</td>\n",
       "      <td>-0.000574</td>\n",
       "      <td>-0.001094</td>\n",
       "      <td>-0.001305</td>\n",
       "      <td>-0.000269</td>\n",
       "      <td>0.0</td>\n",
       "      <td>0.0</td>\n",
       "      <td>0.0</td>\n",
       "      <td>0.0</td>\n",
       "      <td>0.0</td>\n",
       "      <td>0.0</td>\n",
       "    </tr>\n",
       "    <tr>\n",
       "      <td>3</td>\n",
       "      <td>9.401399e-16</td>\n",
       "      <td>2.237412e-16</td>\n",
       "      <td>-1.455475e-15</td>\n",
       "      <td>1.957696e-16</td>\n",
       "      <td>-5.192361e-16</td>\n",
       "      <td>4.096583e-16</td>\n",
       "      <td>-1.326602e-17</td>\n",
       "      <td>4.683447e-16</td>\n",
       "      <td>-1.026555e-15</td>\n",
       "      <td>-6.889614e-16</td>\n",
       "      <td>...</td>\n",
       "      <td>-0.008819</td>\n",
       "      <td>-0.000654</td>\n",
       "      <td>0.001182</td>\n",
       "      <td>0.000148</td>\n",
       "      <td>0.0</td>\n",
       "      <td>0.0</td>\n",
       "      <td>0.0</td>\n",
       "      <td>0.0</td>\n",
       "      <td>0.0</td>\n",
       "      <td>0.0</td>\n",
       "    </tr>\n",
       "    <tr>\n",
       "      <td>4</td>\n",
       "      <td>-4.901125e-16</td>\n",
       "      <td>2.519001e-16</td>\n",
       "      <td>-3.691363e-16</td>\n",
       "      <td>1.364699e-16</td>\n",
       "      <td>2.888319e-16</td>\n",
       "      <td>2.054364e-16</td>\n",
       "      <td>-1.553065e-16</td>\n",
       "      <td>-7.400433e-17</td>\n",
       "      <td>6.549307e-17</td>\n",
       "      <td>1.945375e-16</td>\n",
       "      <td>...</td>\n",
       "      <td>-0.003546</td>\n",
       "      <td>-0.000229</td>\n",
       "      <td>-0.000787</td>\n",
       "      <td>-0.000105</td>\n",
       "      <td>0.0</td>\n",
       "      <td>0.0</td>\n",
       "      <td>0.0</td>\n",
       "      <td>0.0</td>\n",
       "      <td>0.0</td>\n",
       "      <td>0.0</td>\n",
       "    </tr>\n",
       "    <tr>\n",
       "      <td>...</td>\n",
       "      <td>...</td>\n",
       "      <td>...</td>\n",
       "      <td>...</td>\n",
       "      <td>...</td>\n",
       "      <td>...</td>\n",
       "      <td>...</td>\n",
       "      <td>...</td>\n",
       "      <td>...</td>\n",
       "      <td>...</td>\n",
       "      <td>...</td>\n",
       "      <td>...</td>\n",
       "      <td>...</td>\n",
       "      <td>...</td>\n",
       "      <td>...</td>\n",
       "      <td>...</td>\n",
       "      <td>...</td>\n",
       "      <td>...</td>\n",
       "      <td>...</td>\n",
       "      <td>...</td>\n",
       "      <td>...</td>\n",
       "      <td>...</td>\n",
       "    </tr>\n",
       "    <tr>\n",
       "      <td>11995</td>\n",
       "      <td>-1.345435e-16</td>\n",
       "      <td>4.138218e-16</td>\n",
       "      <td>-2.124537e-16</td>\n",
       "      <td>-2.367646e-16</td>\n",
       "      <td>9.831815e-16</td>\n",
       "      <td>9.718261e-17</td>\n",
       "      <td>-7.284727e-17</td>\n",
       "      <td>-2.904596e-16</td>\n",
       "      <td>3.463920e-16</td>\n",
       "      <td>-8.851906e-17</td>\n",
       "      <td>...</td>\n",
       "      <td>-0.006075</td>\n",
       "      <td>-0.002932</td>\n",
       "      <td>-0.000808</td>\n",
       "      <td>-0.000053</td>\n",
       "      <td>0.0</td>\n",
       "      <td>0.0</td>\n",
       "      <td>0.0</td>\n",
       "      <td>0.0</td>\n",
       "      <td>0.0</td>\n",
       "      <td>0.0</td>\n",
       "    </tr>\n",
       "    <tr>\n",
       "      <td>11996</td>\n",
       "      <td>-1.339943e-15</td>\n",
       "      <td>-5.055889e-17</td>\n",
       "      <td>-1.550434e-16</td>\n",
       "      <td>4.860459e-16</td>\n",
       "      <td>5.577281e-16</td>\n",
       "      <td>-7.403263e-17</td>\n",
       "      <td>-2.159505e-16</td>\n",
       "      <td>3.114846e-16</td>\n",
       "      <td>3.895357e-17</td>\n",
       "      <td>-3.177371e-16</td>\n",
       "      <td>...</td>\n",
       "      <td>-0.009135</td>\n",
       "      <td>-0.004279</td>\n",
       "      <td>-0.000502</td>\n",
       "      <td>0.000007</td>\n",
       "      <td>0.0</td>\n",
       "      <td>0.0</td>\n",
       "      <td>0.0</td>\n",
       "      <td>0.0</td>\n",
       "      <td>0.0</td>\n",
       "      <td>0.0</td>\n",
       "    </tr>\n",
       "    <tr>\n",
       "      <td>11997</td>\n",
       "      <td>-1.302534e-15</td>\n",
       "      <td>3.877024e-16</td>\n",
       "      <td>-7.909661e-17</td>\n",
       "      <td>1.631850e-16</td>\n",
       "      <td>1.735898e-17</td>\n",
       "      <td>-4.032117e-18</td>\n",
       "      <td>-8.036970e-17</td>\n",
       "      <td>4.426952e-16</td>\n",
       "      <td>-2.182486e-16</td>\n",
       "      <td>-2.693915e-16</td>\n",
       "      <td>...</td>\n",
       "      <td>0.004161</td>\n",
       "      <td>0.002732</td>\n",
       "      <td>0.000772</td>\n",
       "      <td>0.000076</td>\n",
       "      <td>0.0</td>\n",
       "      <td>0.0</td>\n",
       "      <td>0.0</td>\n",
       "      <td>0.0</td>\n",
       "      <td>0.0</td>\n",
       "      <td>0.0</td>\n",
       "    </tr>\n",
       "    <tr>\n",
       "      <td>11998</td>\n",
       "      <td>7.431260e-16</td>\n",
       "      <td>3.909917e-16</td>\n",
       "      <td>-1.690411e-16</td>\n",
       "      <td>-3.093618e-16</td>\n",
       "      <td>5.965957e-16</td>\n",
       "      <td>3.149507e-16</td>\n",
       "      <td>-1.869060e-16</td>\n",
       "      <td>3.810777e-16</td>\n",
       "      <td>-5.004995e-16</td>\n",
       "      <td>-6.224285e-16</td>\n",
       "      <td>...</td>\n",
       "      <td>0.000743</td>\n",
       "      <td>0.000410</td>\n",
       "      <td>0.001380</td>\n",
       "      <td>0.000296</td>\n",
       "      <td>0.0</td>\n",
       "      <td>0.0</td>\n",
       "      <td>0.0</td>\n",
       "      <td>0.0</td>\n",
       "      <td>0.0</td>\n",
       "      <td>0.0</td>\n",
       "    </tr>\n",
       "    <tr>\n",
       "      <td>11999</td>\n",
       "      <td>-9.302447e-16</td>\n",
       "      <td>2.245320e-16</td>\n",
       "      <td>6.600049e-16</td>\n",
       "      <td>1.773291e-16</td>\n",
       "      <td>2.810973e-16</td>\n",
       "      <td>-2.756614e-16</td>\n",
       "      <td>-1.142425e-16</td>\n",
       "      <td>-8.809685e-17</td>\n",
       "      <td>7.537963e-17</td>\n",
       "      <td>2.595272e-16</td>\n",
       "      <td>...</td>\n",
       "      <td>0.004417</td>\n",
       "      <td>0.002879</td>\n",
       "      <td>0.000261</td>\n",
       "      <td>-0.000035</td>\n",
       "      <td>0.0</td>\n",
       "      <td>0.0</td>\n",
       "      <td>0.0</td>\n",
       "      <td>0.0</td>\n",
       "      <td>0.0</td>\n",
       "      <td>0.0</td>\n",
       "    </tr>\n",
       "  </tbody>\n",
       "</table>\n",
       "<p>12000 rows × 784 columns</p>\n",
       "</div>"
      ],
      "text/plain": [
       "                0             1             2             3             4    \\\n",
       "0      2.039419e-16  5.321825e-16 -5.063074e-16  2.190600e-16 -2.740895e-16   \n",
       "1      4.862241e-17 -3.772954e-16  7.585050e-16 -2.564752e-16  4.892309e-17   \n",
       "2     -9.371509e-18 -3.749986e-16  4.225799e-16  6.681943e-16  8.406125e-18   \n",
       "3      9.401399e-16  2.237412e-16 -1.455475e-15  1.957696e-16 -5.192361e-16   \n",
       "4     -4.901125e-16  2.519001e-16 -3.691363e-16  1.364699e-16  2.888319e-16   \n",
       "...             ...           ...           ...           ...           ...   \n",
       "11995 -1.345435e-16  4.138218e-16 -2.124537e-16 -2.367646e-16  9.831815e-16   \n",
       "11996 -1.339943e-15 -5.055889e-17 -1.550434e-16  4.860459e-16  5.577281e-16   \n",
       "11997 -1.302534e-15  3.877024e-16 -7.909661e-17  1.631850e-16  1.735898e-17   \n",
       "11998  7.431260e-16  3.909917e-16 -1.690411e-16 -3.093618e-16  5.965957e-16   \n",
       "11999 -9.302447e-16  2.245320e-16  6.600049e-16  1.773291e-16  2.810973e-16   \n",
       "\n",
       "                5             6             7             8             9    \\\n",
       "0     -4.692016e-16 -1.979251e-17  1.298590e-16 -4.719333e-16  3.880259e-16   \n",
       "1     -9.477164e-17 -5.051682e-17  5.096637e-17  6.335443e-16  3.839514e-16   \n",
       "2      4.072059e-16 -7.297611e-16 -4.997278e-16 -3.896660e-16 -7.822654e-17   \n",
       "3      4.096583e-16 -1.326602e-17  4.683447e-16 -1.026555e-15 -6.889614e-16   \n",
       "4      2.054364e-16 -1.553065e-16 -7.400433e-17  6.549307e-17  1.945375e-16   \n",
       "...             ...           ...           ...           ...           ...   \n",
       "11995  9.718261e-17 -7.284727e-17 -2.904596e-16  3.463920e-16 -8.851906e-17   \n",
       "11996 -7.403263e-17 -2.159505e-16  3.114846e-16  3.895357e-17 -3.177371e-16   \n",
       "11997 -4.032117e-18 -8.036970e-17  4.426952e-16 -2.182486e-16 -2.693915e-16   \n",
       "11998  3.149507e-16 -1.869060e-16  3.810777e-16 -5.004995e-16 -6.224285e-16   \n",
       "11999 -2.756614e-16 -1.142425e-16 -8.809685e-17  7.537963e-17  2.595272e-16   \n",
       "\n",
       "       ...       774       775       776       777  778  779  780  781  782  \\\n",
       "0      ...  0.000546  0.000864 -0.001049 -0.000280  0.0  0.0  0.0  0.0  0.0   \n",
       "1      ...  0.003165  0.000314 -0.000169 -0.000004  0.0  0.0  0.0  0.0  0.0   \n",
       "2      ... -0.000574 -0.001094 -0.001305 -0.000269  0.0  0.0  0.0  0.0  0.0   \n",
       "3      ... -0.008819 -0.000654  0.001182  0.000148  0.0  0.0  0.0  0.0  0.0   \n",
       "4      ... -0.003546 -0.000229 -0.000787 -0.000105  0.0  0.0  0.0  0.0  0.0   \n",
       "...    ...       ...       ...       ...       ...  ...  ...  ...  ...  ...   \n",
       "11995  ... -0.006075 -0.002932 -0.000808 -0.000053  0.0  0.0  0.0  0.0  0.0   \n",
       "11996  ... -0.009135 -0.004279 -0.000502  0.000007  0.0  0.0  0.0  0.0  0.0   \n",
       "11997  ...  0.004161  0.002732  0.000772  0.000076  0.0  0.0  0.0  0.0  0.0   \n",
       "11998  ...  0.000743  0.000410  0.001380  0.000296  0.0  0.0  0.0  0.0  0.0   \n",
       "11999  ...  0.004417  0.002879  0.000261 -0.000035  0.0  0.0  0.0  0.0  0.0   \n",
       "\n",
       "       783  \n",
       "0      0.0  \n",
       "1      0.0  \n",
       "2      0.0  \n",
       "3      0.0  \n",
       "4      0.0  \n",
       "...    ...  \n",
       "11995  0.0  \n",
       "11996  0.0  \n",
       "11997  0.0  \n",
       "11998  0.0  \n",
       "11999  0.0  \n",
       "\n",
       "[12000 rows x 784 columns]"
      ]
     },
     "execution_count": 90,
     "metadata": {},
     "output_type": "execute_result"
    }
   ],
   "source": [
    "X_pca_invt"
   ]
  },
  {
   "cell_type": "code",
   "execution_count": 91,
   "metadata": {},
   "outputs": [
    {
     "name": "stderr",
     "output_type": "stream",
     "text": [
      "C:\\ProgramData\\Anaconda3\\lib\\site-packages\\ipykernel_launcher.py:1: FutureWarning: Method .as_matrix will be removed in a future version. Use .values instead.\n",
      "  \"\"\"Entry point for launching an IPython kernel.\n"
     ]
    },
    {
     "data": {
      "text/plain": [
       "<matplotlib.image.AxesImage at 0x248cd9aaec8>"
      ]
     },
     "execution_count": 91,
     "metadata": {},
     "output_type": "execute_result"
    },
    {
     "data": {
      "image/png": "[encoded data removed]",
      "text/plain": [
       "<Figure size 432x288 with 1 Axes>"
      ]
     },
     "metadata": {
      "needs_background": "light"
     },
     "output_type": "display_data"
    }
   ],
   "source": [
    "im = X_pca.iloc[[500]].as_matrix().reshape(28,28)\n",
    "plt.imshow(1 - im, cmap = 'gray')"
   ]
  },
  {
   "cell_type": "code",
   "execution_count": 92,
   "metadata": {},
   "outputs": [
    {
     "name": "stderr",
     "output_type": "stream",
     "text": [
      "C:\\ProgramData\\Anaconda3\\lib\\site-packages\\ipykernel_launcher.py:1: FutureWarning: Method .as_matrix will be removed in a future version. Use .values instead.\n",
      "  \"\"\"Entry point for launching an IPython kernel.\n"
     ]
    },
    {
     "data": {
      "text/plain": [
       "<matplotlib.image.AxesImage at 0x248cc32fac8>"
      ]
     },
     "execution_count": 92,
     "metadata": {},
     "output_type": "execute_result"
    },
    {
     "data": {
      "image/png": "[encoded data removed]",
      "text/plain": [
       "<Figure size 432x288 with 1 Axes>"
      ]
     },
     "metadata": {
      "needs_background": "light"
     },
     "output_type": "display_data"
    }
   ],
   "source": [
    "im = X_pca_invt.iloc[[500]].as_matrix().reshape(28,28)\n",
    "plt.imshow(255 - im, cmap = 'gray')"
   ]
  }
 ],
 "metadata": {
  "kernelspec": {
   "display_name": "Python 3",
   "language": "python",
   "name": "python3"
  },
  "language_info": {
   "codemirror_mode": {
    "name": "ipython",
    "version": 3
   },
   "file_extension": ".py",
   "mimetype": "text/x-python",
   "name": "python",
   "nbconvert_exporter": "python",
   "pygments_lexer": "ipython3",
   "version": "3.6.3"
  }
 },
 "nbformat": 4,
 "nbformat_minor": 2
}
