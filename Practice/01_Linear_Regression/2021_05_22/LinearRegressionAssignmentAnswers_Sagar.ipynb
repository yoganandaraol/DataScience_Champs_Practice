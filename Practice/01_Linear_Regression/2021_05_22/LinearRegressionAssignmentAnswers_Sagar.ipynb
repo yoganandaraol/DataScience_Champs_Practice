{
 "cells": [
  {
   "cell_type": "markdown",
   "metadata": {},
   "source": [
    "<img src=\"https://github.com/insaid2018/Term-1/blob/master/Images/INSAID_Full%20Logo.png?raw=true\" width=\"240\" height=\"360\" />\n",
    "\n",
    "# ASSIGNMENT\n",
    "\n",
    "###  This is a cars dataset having 156 observation and 16 different variables. You have to create a linear regression model using the provided predictor variables for the prediction of sales value of cars.\n",
    "\n",
    "#### Note: Please run your code step by step as provided in the sheet or else you may face challenges with the code."
   ]
  },
  {
   "cell_type": "markdown",
   "metadata": {},
   "source": [
    "### Import the dataset."
   ]
  },
  {
   "cell_type": "code",
   "execution_count": 1,
   "metadata": {
    "scrolled": true
   },
   "outputs": [
    {
     "data": {
      "text/html": [
       "<div>\n",
       "<style scoped>\n",
       "    .dataframe tbody tr th:only-of-type {\n",
       "        vertical-align: middle;\n",
       "    }\n",
       "\n",
       "    .dataframe tbody tr th {\n",
       "        vertical-align: top;\n",
       "    }\n",
       "\n",
       "    .dataframe thead th {\n",
       "        text-align: right;\n",
       "    }\n",
       "</style>\n",
       "<table border=\"1\" class=\"dataframe\">\n",
       "  <thead>\n",
       "    <tr style=\"text-align: right;\">\n",
       "      <th></th>\n",
       "      <th>Manufacturer</th>\n",
       "      <th>Model</th>\n",
       "      <th>Sales_in_thousands</th>\n",
       "      <th>_year_resale_value</th>\n",
       "      <th>Vehicle_type</th>\n",
       "      <th>Price_in_thousands</th>\n",
       "      <th>Engine_size</th>\n",
       "      <th>Horsepower</th>\n",
       "      <th>Wheelbase</th>\n",
       "      <th>Width</th>\n",
       "      <th>Length</th>\n",
       "      <th>Curb_weight</th>\n",
       "      <th>Fuel_capacity</th>\n",
       "      <th>Fuel_efficiency</th>\n",
       "      <th>Latest_Launch</th>\n",
       "      <th>Power_perf_factor</th>\n",
       "    </tr>\n",
       "  </thead>\n",
       "  <tbody>\n",
       "    <tr>\n",
       "      <th>0</th>\n",
       "      <td>Acura</td>\n",
       "      <td>Integra</td>\n",
       "      <td>16.919</td>\n",
       "      <td>16.360</td>\n",
       "      <td>Passenger</td>\n",
       "      <td>21.50</td>\n",
       "      <td>1.8</td>\n",
       "      <td>140</td>\n",
       "      <td>101.2</td>\n",
       "      <td>67.3</td>\n",
       "      <td>172.4</td>\n",
       "      <td>2.639</td>\n",
       "      <td>13.2</td>\n",
       "      <td>28</td>\n",
       "      <td>2/2/2012</td>\n",
       "      <td>58.280150</td>\n",
       "    </tr>\n",
       "    <tr>\n",
       "      <th>1</th>\n",
       "      <td>Acura</td>\n",
       "      <td>TL</td>\n",
       "      <td>39.384</td>\n",
       "      <td>19.875</td>\n",
       "      <td>Passenger</td>\n",
       "      <td>28.40</td>\n",
       "      <td>3.2</td>\n",
       "      <td>225</td>\n",
       "      <td>108.1</td>\n",
       "      <td>70.3</td>\n",
       "      <td>192.9</td>\n",
       "      <td>3.517</td>\n",
       "      <td>17.2</td>\n",
       "      <td>25</td>\n",
       "      <td>6/3/2011</td>\n",
       "      <td>91.370778</td>\n",
       "    </tr>\n",
       "    <tr>\n",
       "      <th>2</th>\n",
       "      <td>Acura</td>\n",
       "      <td>CL</td>\n",
       "      <td>14.114</td>\n",
       "      <td>18.225</td>\n",
       "      <td>Passenger</td>\n",
       "      <td>29.00</td>\n",
       "      <td>3.2</td>\n",
       "      <td>225</td>\n",
       "      <td>106.9</td>\n",
       "      <td>70.6</td>\n",
       "      <td>192.0</td>\n",
       "      <td>3.470</td>\n",
       "      <td>17.2</td>\n",
       "      <td>26</td>\n",
       "      <td>1/4/2012</td>\n",
       "      <td>90.345000</td>\n",
       "    </tr>\n",
       "    <tr>\n",
       "      <th>3</th>\n",
       "      <td>Acura</td>\n",
       "      <td>RL</td>\n",
       "      <td>8.588</td>\n",
       "      <td>29.725</td>\n",
       "      <td>Passenger</td>\n",
       "      <td>42.00</td>\n",
       "      <td>3.5</td>\n",
       "      <td>210</td>\n",
       "      <td>114.6</td>\n",
       "      <td>71.4</td>\n",
       "      <td>196.6</td>\n",
       "      <td>3.850</td>\n",
       "      <td>18.0</td>\n",
       "      <td>22</td>\n",
       "      <td>3/10/2011</td>\n",
       "      <td>91.389779</td>\n",
       "    </tr>\n",
       "    <tr>\n",
       "      <th>4</th>\n",
       "      <td>Audi</td>\n",
       "      <td>A4</td>\n",
       "      <td>20.397</td>\n",
       "      <td>22.255</td>\n",
       "      <td>Passenger</td>\n",
       "      <td>23.99</td>\n",
       "      <td>1.8</td>\n",
       "      <td>150</td>\n",
       "      <td>102.6</td>\n",
       "      <td>68.2</td>\n",
       "      <td>178.0</td>\n",
       "      <td>2.998</td>\n",
       "      <td>16.4</td>\n",
       "      <td>27</td>\n",
       "      <td>10/8/2011</td>\n",
       "      <td>62.777639</td>\n",
       "    </tr>\n",
       "  </tbody>\n",
       "</table>\n",
       "</div>"
      ],
      "text/plain": [
       "  Manufacturer    Model  Sales_in_thousands  _year_resale_value Vehicle_type  \\\n",
       "0        Acura  Integra              16.919              16.360    Passenger   \n",
       "1        Acura       TL              39.384              19.875    Passenger   \n",
       "2        Acura       CL              14.114              18.225    Passenger   \n",
       "3        Acura       RL               8.588              29.725    Passenger   \n",
       "4         Audi       A4              20.397              22.255    Passenger   \n",
       "\n",
       "   Price_in_thousands  Engine_size  Horsepower  Wheelbase  Width  Length  \\\n",
       "0               21.50          1.8         140      101.2   67.3   172.4   \n",
       "1               28.40          3.2         225      108.1   70.3   192.9   \n",
       "2               29.00          3.2         225      106.9   70.6   192.0   \n",
       "3               42.00          3.5         210      114.6   71.4   196.6   \n",
       "4               23.99          1.8         150      102.6   68.2   178.0   \n",
       "\n",
       "   Curb_weight  Fuel_capacity  Fuel_efficiency Latest_Launch  \\\n",
       "0        2.639           13.2               28      2/2/2012   \n",
       "1        3.517           17.2               25      6/3/2011   \n",
       "2        3.470           17.2               26      1/4/2012   \n",
       "3        3.850           18.0               22     3/10/2011   \n",
       "4        2.998           16.4               27     10/8/2011   \n",
       "\n",
       "   Power_perf_factor  \n",
       "0          58.280150  \n",
       "1          91.370778  \n",
       "2          90.345000  \n",
       "3          91.389779  \n",
       "4          62.777639  "
      ]
     },
     "execution_count": 1,
     "metadata": {},
     "output_type": "execute_result"
    }
   ],
   "source": [
    "import pandas as pd\n",
    "import numpy as np\n",
    "car = pd.read_csv(\"https://raw.githubusercontent.com/insaid2018/Term-2/master/Data/car_sales.csv\")\n",
    "car.head()"
   ]
  },
  {
   "cell_type": "markdown",
   "metadata": {},
   "source": [
    "### Check the shape of the dataset."
   ]
  },
  {
   "cell_type": "code",
   "execution_count": 2,
   "metadata": {},
   "outputs": [
    {
     "data": {
      "text/plain": [
       "(156, 16)"
      ]
     },
     "execution_count": 2,
     "metadata": {},
     "output_type": "execute_result"
    }
   ],
   "source": [
    "def lr():\n",
    "    return car.shape \n",
    "lr()"
   ]
  },
  {
   "cell_type": "markdown",
   "metadata": {},
   "source": [
    "### Check the descriptive stats of the dataset."
   ]
  },
  {
   "cell_type": "code",
   "execution_count": 3,
   "metadata": {},
   "outputs": [
    {
     "data": {
      "text/html": [
       "<div>\n",
       "<style scoped>\n",
       "    .dataframe tbody tr th:only-of-type {\n",
       "        vertical-align: middle;\n",
       "    }\n",
       "\n",
       "    .dataframe tbody tr th {\n",
       "        vertical-align: top;\n",
       "    }\n",
       "\n",
       "    .dataframe thead th {\n",
       "        text-align: right;\n",
       "    }\n",
       "</style>\n",
       "<table border=\"1\" class=\"dataframe\">\n",
       "  <thead>\n",
       "    <tr style=\"text-align: right;\">\n",
       "      <th></th>\n",
       "      <th>Sales_in_thousands</th>\n",
       "      <th>_year_resale_value</th>\n",
       "      <th>Price_in_thousands</th>\n",
       "      <th>Engine_size</th>\n",
       "      <th>Horsepower</th>\n",
       "      <th>Wheelbase</th>\n",
       "      <th>Width</th>\n",
       "      <th>Length</th>\n",
       "      <th>Curb_weight</th>\n",
       "      <th>Fuel_capacity</th>\n",
       "      <th>Fuel_efficiency</th>\n",
       "      <th>Power_perf_factor</th>\n",
       "    </tr>\n",
       "  </thead>\n",
       "  <tbody>\n",
       "    <tr>\n",
       "      <th>count</th>\n",
       "      <td>151.000000</td>\n",
       "      <td>156.000000</td>\n",
       "      <td>156.000000</td>\n",
       "      <td>156.000000</td>\n",
       "      <td>156.000000</td>\n",
       "      <td>156.000000</td>\n",
       "      <td>156.000000</td>\n",
       "      <td>156.000000</td>\n",
       "      <td>156.000000</td>\n",
       "      <td>156.000000</td>\n",
       "      <td>156.000000</td>\n",
       "      <td>156.000000</td>\n",
       "    </tr>\n",
       "    <tr>\n",
       "      <th>mean</th>\n",
       "      <td>52.051742</td>\n",
       "      <td>18.063571</td>\n",
       "      <td>27.401071</td>\n",
       "      <td>3.060897</td>\n",
       "      <td>185.948718</td>\n",
       "      <td>107.487179</td>\n",
       "      <td>71.150000</td>\n",
       "      <td>187.343590</td>\n",
       "      <td>3.380462</td>\n",
       "      <td>17.951923</td>\n",
       "      <td>23.833333</td>\n",
       "      <td>77.128857</td>\n",
       "    </tr>\n",
       "    <tr>\n",
       "      <th>std</th>\n",
       "      <td>68.907116</td>\n",
       "      <td>10.076941</td>\n",
       "      <td>14.305863</td>\n",
       "      <td>1.044653</td>\n",
       "      <td>56.700321</td>\n",
       "      <td>7.641303</td>\n",
       "      <td>3.451872</td>\n",
       "      <td>13.431754</td>\n",
       "      <td>0.629200</td>\n",
       "      <td>3.887921</td>\n",
       "      <td>4.256052</td>\n",
       "      <td>25.084045</td>\n",
       "    </tr>\n",
       "    <tr>\n",
       "      <th>min</th>\n",
       "      <td>0.110000</td>\n",
       "      <td>5.160000</td>\n",
       "      <td>9.235000</td>\n",
       "      <td>1.000000</td>\n",
       "      <td>55.000000</td>\n",
       "      <td>92.600000</td>\n",
       "      <td>62.600000</td>\n",
       "      <td>149.400000</td>\n",
       "      <td>1.895000</td>\n",
       "      <td>10.300000</td>\n",
       "      <td>15.000000</td>\n",
       "      <td>23.276272</td>\n",
       "    </tr>\n",
       "    <tr>\n",
       "      <th>25%</th>\n",
       "      <td>13.630000</td>\n",
       "      <td>12.527500</td>\n",
       "      <td>18.081250</td>\n",
       "      <td>2.300000</td>\n",
       "      <td>149.500000</td>\n",
       "      <td>103.000000</td>\n",
       "      <td>68.400000</td>\n",
       "      <td>177.575000</td>\n",
       "      <td>2.973000</td>\n",
       "      <td>15.800000</td>\n",
       "      <td>21.000000</td>\n",
       "      <td>60.567577</td>\n",
       "    </tr>\n",
       "    <tr>\n",
       "      <th>50%</th>\n",
       "      <td>27.609000</td>\n",
       "      <td>17.617500</td>\n",
       "      <td>23.099500</td>\n",
       "      <td>3.000000</td>\n",
       "      <td>177.500000</td>\n",
       "      <td>107.000000</td>\n",
       "      <td>70.550000</td>\n",
       "      <td>187.900000</td>\n",
       "      <td>3.355000</td>\n",
       "      <td>17.200000</td>\n",
       "      <td>24.000000</td>\n",
       "      <td>72.160636</td>\n",
       "    </tr>\n",
       "    <tr>\n",
       "      <th>75%</th>\n",
       "      <td>65.905500</td>\n",
       "      <td>18.089731</td>\n",
       "      <td>31.938750</td>\n",
       "      <td>3.575000</td>\n",
       "      <td>215.000000</td>\n",
       "      <td>112.200000</td>\n",
       "      <td>73.425000</td>\n",
       "      <td>196.125000</td>\n",
       "      <td>3.788750</td>\n",
       "      <td>19.575000</td>\n",
       "      <td>26.000000</td>\n",
       "      <td>89.623790</td>\n",
       "    </tr>\n",
       "    <tr>\n",
       "      <th>max</th>\n",
       "      <td>540.561000</td>\n",
       "      <td>67.550000</td>\n",
       "      <td>85.500000</td>\n",
       "      <td>8.000000</td>\n",
       "      <td>450.000000</td>\n",
       "      <td>138.700000</td>\n",
       "      <td>79.900000</td>\n",
       "      <td>224.500000</td>\n",
       "      <td>5.572000</td>\n",
       "      <td>32.000000</td>\n",
       "      <td>45.000000</td>\n",
       "      <td>188.144323</td>\n",
       "    </tr>\n",
       "  </tbody>\n",
       "</table>\n",
       "</div>"
      ],
      "text/plain": [
       "       Sales_in_thousands  _year_resale_value  Price_in_thousands  \\\n",
       "count          151.000000          156.000000          156.000000   \n",
       "mean            52.051742           18.063571           27.401071   \n",
       "std             68.907116           10.076941           14.305863   \n",
       "min              0.110000            5.160000            9.235000   \n",
       "25%             13.630000           12.527500           18.081250   \n",
       "50%             27.609000           17.617500           23.099500   \n",
       "75%             65.905500           18.089731           31.938750   \n",
       "max            540.561000           67.550000           85.500000   \n",
       "\n",
       "       Engine_size  Horsepower   Wheelbase       Width      Length  \\\n",
       "count   156.000000  156.000000  156.000000  156.000000  156.000000   \n",
       "mean      3.060897  185.948718  107.487179   71.150000  187.343590   \n",
       "std       1.044653   56.700321    7.641303    3.451872   13.431754   \n",
       "min       1.000000   55.000000   92.600000   62.600000  149.400000   \n",
       "25%       2.300000  149.500000  103.000000   68.400000  177.575000   \n",
       "50%       3.000000  177.500000  107.000000   70.550000  187.900000   \n",
       "75%       3.575000  215.000000  112.200000   73.425000  196.125000   \n",
       "max       8.000000  450.000000  138.700000   79.900000  224.500000   \n",
       "\n",
       "       Curb_weight  Fuel_capacity  Fuel_efficiency  Power_perf_factor  \n",
       "count   156.000000     156.000000       156.000000         156.000000  \n",
       "mean      3.380462      17.951923        23.833333          77.128857  \n",
       "std       0.629200       3.887921         4.256052          25.084045  \n",
       "min       1.895000      10.300000        15.000000          23.276272  \n",
       "25%       2.973000      15.800000        21.000000          60.567577  \n",
       "50%       3.355000      17.200000        24.000000          72.160636  \n",
       "75%       3.788750      19.575000        26.000000          89.623790  \n",
       "max       5.572000      32.000000        45.000000         188.144323  "
      ]
     },
     "execution_count": 3,
     "metadata": {},
     "output_type": "execute_result"
    }
   ],
   "source": [
    "def lr():\n",
    "    return car.describe()\n",
    "lr()"
   ]
  },
  {
   "cell_type": "code",
   "execution_count": 4,
   "metadata": {},
   "outputs": [],
   "source": [
    "car['Sales_in_thousands'].to_csv('Sales.csv')"
   ]
  },
  {
   "cell_type": "code",
   "execution_count": 5,
   "metadata": {},
   "outputs": [
    {
     "data": {
      "text/plain": [
       "array(['Acura', 'Audi', 'BMW', 'Buick', 'Cadillac', 'Chevrolet',\n",
       "       'Chrysler', 'Dodge', 'Ford', 'Honda', 'Hyundai', 'Infiniti',\n",
       "       'Jaguar', 'Jeep', 'Lexus', 'Lincoln', 'Mitsubishi', 'Mercury',\n",
       "       'Mercedes-B', 'Nissan', 'Oldsmobile', 'Plymouth', 'Pontiac',\n",
       "       'Porsche', 'Saab', 'Saturn', 'Subaru', 'Toyota', 'Volkswagen',\n",
       "       'Volvo'], dtype=object)"
      ]
     },
     "execution_count": 5,
     "metadata": {},
     "output_type": "execute_result"
    }
   ],
   "source": [
    "car['Manufacturer'].unique()"
   ]
  },
  {
   "cell_type": "code",
   "execution_count": 6,
   "metadata": {},
   "outputs": [
    {
     "data": {
      "text/plain": [
       "Manufacturer          0\n",
       "Model                 0\n",
       "Sales_in_thousands    5\n",
       "_year_resale_value    0\n",
       "Vehicle_type          0\n",
       "Price_in_thousands    0\n",
       "Engine_size           0\n",
       "Horsepower            0\n",
       "Wheelbase             0\n",
       "Width                 0\n",
       "Length                0\n",
       "Curb_weight           0\n",
       "Fuel_capacity         0\n",
       "Fuel_efficiency       0\n",
       "Latest_Launch         0\n",
       "Power_perf_factor     0\n",
       "dtype: int64"
      ]
     },
     "execution_count": 6,
     "metadata": {},
     "output_type": "execute_result"
    }
   ],
   "source": [
    "car.isnull().sum()"
   ]
  },
  {
   "cell_type": "code",
   "execution_count": 7,
   "metadata": {},
   "outputs": [
    {
     "data": {
      "text/plain": [
       "<AxesSubplot:>"
      ]
     },
     "execution_count": 7,
     "metadata": {},
     "output_type": "execute_result"
    },
    {
     "data": {
      "image/png": "[encoded data removed]",
      "text/plain": [
       "<Figure size 432x288 with 1 Axes>"
      ]
     },
     "metadata": {
      "needs_background": "light"
     },
     "output_type": "display_data"
    }
   ],
   "source": [
    "car['Sales_in_thousands'].hist()"
   ]
  },
  {
   "cell_type": "code",
   "execution_count": 8,
   "metadata": {},
   "outputs": [
    {
     "data": {
      "text/plain": [
       "<AxesSubplot:>"
      ]
     },
     "execution_count": 8,
     "metadata": {},
     "output_type": "execute_result"
    },
    {
     "data": {
      "image/png": "[encoded data removed]",
      "text/plain": [
       "<Figure size 432x288 with 1 Axes>"
      ]
     },
     "metadata": {
      "needs_background": "light"
     },
     "output_type": "display_data"
    }
   ],
   "source": [
    "np.log(car['Sales_in_thousands']).hist()"
   ]
  },
  {
   "cell_type": "code",
   "execution_count": 9,
   "metadata": {},
   "outputs": [],
   "source": [
    "car[car['Manufacturer']=='Toyota'].Sales_in_thousands.to_csv('Sales_Toyota.csv')"
   ]
  },
  {
   "cell_type": "markdown",
   "metadata": {},
   "source": [
    "### Q 1. Write a code to understand the total count and percentage of missing values."
   ]
  },
  {
   "cell_type": "code",
   "execution_count": 10,
   "metadata": {},
   "outputs": [
    {
     "name": "stdout",
     "output_type": "stream",
     "text": [
      "                    Total   Percent\n",
      "Sales_in_thousands      5  3.205128\n",
      "Power_perf_factor       0  0.000000\n",
      "Latest_Launch           0  0.000000\n",
      "Fuel_efficiency         0  0.000000\n",
      "Fuel_capacity           0  0.000000\n",
      "Curb_weight             0  0.000000\n",
      "Length                  0  0.000000\n",
      "Width                   0  0.000000\n",
      "Wheelbase               0  0.000000\n",
      "Horsepower              0  0.000000\n",
      "Engine_size             0  0.000000\n",
      "Price_in_thousands      0  0.000000\n",
      "Vehicle_type            0  0.000000\n",
      "_year_resale_value      0  0.000000\n",
      "Model                   0  0.000000\n",
      "Manufacturer            0  0.000000\n"
     ]
    }
   ],
   "source": [
    "def lr():\n",
    "    total = car.isnull().sum().sort_values(ascending=False)\n",
    "    percent = 100*(car.isnull().sum()/car.isnull().count()).sort_values(ascending=False)\n",
    "    missing_data = pd.concat([total, percent], axis=1, keys=['Total', 'Percent'])\n",
    "    missing_data.head(20)\n",
    "    miss = print(missing_data)\n",
    "    return miss\n",
    "lr()"
   ]
  },
  {
   "cell_type": "markdown",
   "metadata": {},
   "source": [
    "### Q 2. Impute the missing value using \"median\" groupby Manufacturer. "
   ]
  },
  {
   "cell_type": "code",
   "execution_count": 11,
   "metadata": {},
   "outputs": [
    {
     "data": {
      "text/plain": [
       "Manufacturer\n",
       "Acura          15.5165\n",
       "Audi           18.7800\n",
       "BMW            17.5270\n",
       "Buick          61.3035\n",
       "Cadillac       14.7850\n",
       "Chevrolet      32.2990\n",
       "Chrysler       30.9220\n",
       "Dodge          76.0340\n",
       "Ford          233.2325\n",
       "Honda          76.0290\n",
       "Hyundai        41.1840\n",
       "Infiniti       23.7130\n",
       "Jaguar         15.4670\n",
       "Jeep           80.5560\n",
       "Lexus          10.9120\n",
       "Lincoln        22.9250\n",
       "Mercedes-B     11.5920\n",
       "Mercury        27.0690\n",
       "Mitsubishi     26.2320\n",
       "Nissan         54.1580\n",
       "Oldsmobile     22.1890\n",
       "Plymouth       14.6975\n",
       "Pontiac        45.6085\n",
       "Porsche         1.8660\n",
       "Saab           10.6530\n",
       "Saturn         24.5460\n",
       "Subaru         40.0675\n",
       "Toyota         65.1190\n",
       "Volkswagen     29.6120\n",
       "Volvo          16.1010\n",
       "Name: Sales_in_thousands, dtype: float64"
      ]
     },
     "execution_count": 11,
     "metadata": {},
     "output_type": "execute_result"
    }
   ],
   "source": [
    "car.groupby(\"Manufacturer\")[\"Sales_in_thousands\"].median()"
   ]
  },
  {
   "cell_type": "code",
   "execution_count": 12,
   "metadata": {},
   "outputs": [
    {
     "name": "stdout",
     "output_type": "stream",
     "text": [
      "Manufacturer          0\n",
      "Model                 0\n",
      "Sales_in_thousands    0\n",
      "_year_resale_value    0\n",
      "Vehicle_type          0\n",
      "Price_in_thousands    0\n",
      "Engine_size           0\n",
      "Horsepower            0\n",
      "Wheelbase             0\n",
      "Width                 0\n",
      "Length                0\n",
      "Curb_weight           0\n",
      "Fuel_capacity         0\n",
      "Fuel_efficiency       0\n",
      "Latest_Launch         0\n",
      "Power_perf_factor     0\n",
      "dtype: int64\n"
     ]
    }
   ],
   "source": [
    "\n",
    "def lr():\n",
    "    car[\"Sales_in_thousands\"].fillna(car.groupby(\"Manufacturer\")[\"Sales_in_thousands\"].transform(\"median\"), inplace=True)\n",
    "    return\n",
    "lr()\n",
    "print (car.isnull().sum())"
   ]
  },
  {
   "cell_type": "markdown",
   "metadata": {},
   "source": [
    "### Q 3. Create a dummy variable for \"Vehicle_type\"  and  drop the original variable."
   ]
  },
  {
   "cell_type": "code",
   "execution_count": 13,
   "metadata": {},
   "outputs": [
    {
     "data": {
      "text/html": [
       "<div>\n",
       "<style scoped>\n",
       "    .dataframe tbody tr th:only-of-type {\n",
       "        vertical-align: middle;\n",
       "    }\n",
       "\n",
       "    .dataframe tbody tr th {\n",
       "        vertical-align: top;\n",
       "    }\n",
       "\n",
       "    .dataframe thead th {\n",
       "        text-align: right;\n",
       "    }\n",
       "</style>\n",
       "<table border=\"1\" class=\"dataframe\">\n",
       "  <thead>\n",
       "    <tr style=\"text-align: right;\">\n",
       "      <th></th>\n",
       "      <th>Manufacturer</th>\n",
       "      <th>Model</th>\n",
       "      <th>Sales_in_thousands</th>\n",
       "      <th>_year_resale_value</th>\n",
       "      <th>Vehicle_type</th>\n",
       "      <th>Price_in_thousands</th>\n",
       "      <th>Engine_size</th>\n",
       "      <th>Horsepower</th>\n",
       "      <th>Wheelbase</th>\n",
       "      <th>Width</th>\n",
       "      <th>Length</th>\n",
       "      <th>Curb_weight</th>\n",
       "      <th>Fuel_capacity</th>\n",
       "      <th>Fuel_efficiency</th>\n",
       "      <th>Latest_Launch</th>\n",
       "      <th>Power_perf_factor</th>\n",
       "    </tr>\n",
       "  </thead>\n",
       "  <tbody>\n",
       "    <tr>\n",
       "      <th>count</th>\n",
       "      <td>156</td>\n",
       "      <td>156</td>\n",
       "      <td>156.000000</td>\n",
       "      <td>156.000000</td>\n",
       "      <td>156</td>\n",
       "      <td>156.000000</td>\n",
       "      <td>156.000000</td>\n",
       "      <td>156.000000</td>\n",
       "      <td>156.000000</td>\n",
       "      <td>156.000000</td>\n",
       "      <td>156.000000</td>\n",
       "      <td>156.000000</td>\n",
       "      <td>156.000000</td>\n",
       "      <td>156.000000</td>\n",
       "      <td>156</td>\n",
       "      <td>156.000000</td>\n",
       "    </tr>\n",
       "    <tr>\n",
       "      <th>unique</th>\n",
       "      <td>30</td>\n",
       "      <td>155</td>\n",
       "      <td>NaN</td>\n",
       "      <td>NaN</td>\n",
       "      <td>2</td>\n",
       "      <td>NaN</td>\n",
       "      <td>NaN</td>\n",
       "      <td>NaN</td>\n",
       "      <td>NaN</td>\n",
       "      <td>NaN</td>\n",
       "      <td>NaN</td>\n",
       "      <td>NaN</td>\n",
       "      <td>NaN</td>\n",
       "      <td>NaN</td>\n",
       "      <td>129</td>\n",
       "      <td>NaN</td>\n",
       "    </tr>\n",
       "    <tr>\n",
       "      <th>top</th>\n",
       "      <td>Dodge</td>\n",
       "      <td>Neon</td>\n",
       "      <td>NaN</td>\n",
       "      <td>NaN</td>\n",
       "      <td>Passenger</td>\n",
       "      <td>NaN</td>\n",
       "      <td>NaN</td>\n",
       "      <td>NaN</td>\n",
       "      <td>NaN</td>\n",
       "      <td>NaN</td>\n",
       "      <td>NaN</td>\n",
       "      <td>NaN</td>\n",
       "      <td>NaN</td>\n",
       "      <td>NaN</td>\n",
       "      <td>1/24/2011</td>\n",
       "      <td>NaN</td>\n",
       "    </tr>\n",
       "    <tr>\n",
       "      <th>freq</th>\n",
       "      <td>11</td>\n",
       "      <td>2</td>\n",
       "      <td>NaN</td>\n",
       "      <td>NaN</td>\n",
       "      <td>116</td>\n",
       "      <td>NaN</td>\n",
       "      <td>NaN</td>\n",
       "      <td>NaN</td>\n",
       "      <td>NaN</td>\n",
       "      <td>NaN</td>\n",
       "      <td>NaN</td>\n",
       "      <td>NaN</td>\n",
       "      <td>NaN</td>\n",
       "      <td>NaN</td>\n",
       "      <td>2</td>\n",
       "      <td>NaN</td>\n",
       "    </tr>\n",
       "    <tr>\n",
       "      <th>mean</th>\n",
       "      <td>NaN</td>\n",
       "      <td>NaN</td>\n",
       "      <td>57.858817</td>\n",
       "      <td>18.063571</td>\n",
       "      <td>NaN</td>\n",
       "      <td>27.401071</td>\n",
       "      <td>3.060897</td>\n",
       "      <td>185.948718</td>\n",
       "      <td>107.487179</td>\n",
       "      <td>71.150000</td>\n",
       "      <td>187.343590</td>\n",
       "      <td>3.380462</td>\n",
       "      <td>17.951923</td>\n",
       "      <td>23.833333</td>\n",
       "      <td>NaN</td>\n",
       "      <td>77.128857</td>\n",
       "    </tr>\n",
       "    <tr>\n",
       "      <th>std</th>\n",
       "      <td>NaN</td>\n",
       "      <td>NaN</td>\n",
       "      <td>74.966671</td>\n",
       "      <td>10.076941</td>\n",
       "      <td>NaN</td>\n",
       "      <td>14.305863</td>\n",
       "      <td>1.044653</td>\n",
       "      <td>56.700321</td>\n",
       "      <td>7.641303</td>\n",
       "      <td>3.451872</td>\n",
       "      <td>13.431754</td>\n",
       "      <td>0.629200</td>\n",
       "      <td>3.887921</td>\n",
       "      <td>4.256052</td>\n",
       "      <td>NaN</td>\n",
       "      <td>25.084045</td>\n",
       "    </tr>\n",
       "    <tr>\n",
       "      <th>min</th>\n",
       "      <td>NaN</td>\n",
       "      <td>NaN</td>\n",
       "      <td>0.110000</td>\n",
       "      <td>5.160000</td>\n",
       "      <td>NaN</td>\n",
       "      <td>9.235000</td>\n",
       "      <td>1.000000</td>\n",
       "      <td>55.000000</td>\n",
       "      <td>92.600000</td>\n",
       "      <td>62.600000</td>\n",
       "      <td>149.400000</td>\n",
       "      <td>1.895000</td>\n",
       "      <td>10.300000</td>\n",
       "      <td>15.000000</td>\n",
       "      <td>NaN</td>\n",
       "      <td>23.276272</td>\n",
       "    </tr>\n",
       "    <tr>\n",
       "      <th>25%</th>\n",
       "      <td>NaN</td>\n",
       "      <td>NaN</td>\n",
       "      <td>14.035000</td>\n",
       "      <td>12.527500</td>\n",
       "      <td>NaN</td>\n",
       "      <td>18.081250</td>\n",
       "      <td>2.300000</td>\n",
       "      <td>149.500000</td>\n",
       "      <td>103.000000</td>\n",
       "      <td>68.400000</td>\n",
       "      <td>177.575000</td>\n",
       "      <td>2.973000</td>\n",
       "      <td>15.800000</td>\n",
       "      <td>21.000000</td>\n",
       "      <td>NaN</td>\n",
       "      <td>60.567577</td>\n",
       "    </tr>\n",
       "    <tr>\n",
       "      <th>50%</th>\n",
       "      <td>NaN</td>\n",
       "      <td>NaN</td>\n",
       "      <td>29.213000</td>\n",
       "      <td>17.617500</td>\n",
       "      <td>NaN</td>\n",
       "      <td>23.099500</td>\n",
       "      <td>3.000000</td>\n",
       "      <td>177.500000</td>\n",
       "      <td>107.000000</td>\n",
       "      <td>70.550000</td>\n",
       "      <td>187.900000</td>\n",
       "      <td>3.355000</td>\n",
       "      <td>17.200000</td>\n",
       "      <td>24.000000</td>\n",
       "      <td>NaN</td>\n",
       "      <td>72.160636</td>\n",
       "    </tr>\n",
       "    <tr>\n",
       "      <th>75%</th>\n",
       "      <td>NaN</td>\n",
       "      <td>NaN</td>\n",
       "      <td>71.690250</td>\n",
       "      <td>18.089731</td>\n",
       "      <td>NaN</td>\n",
       "      <td>31.938750</td>\n",
       "      <td>3.575000</td>\n",
       "      <td>215.000000</td>\n",
       "      <td>112.200000</td>\n",
       "      <td>73.425000</td>\n",
       "      <td>196.125000</td>\n",
       "      <td>3.788750</td>\n",
       "      <td>19.575000</td>\n",
       "      <td>26.000000</td>\n",
       "      <td>NaN</td>\n",
       "      <td>89.623790</td>\n",
       "    </tr>\n",
       "    <tr>\n",
       "      <th>max</th>\n",
       "      <td>NaN</td>\n",
       "      <td>NaN</td>\n",
       "      <td>540.561000</td>\n",
       "      <td>67.550000</td>\n",
       "      <td>NaN</td>\n",
       "      <td>85.500000</td>\n",
       "      <td>8.000000</td>\n",
       "      <td>450.000000</td>\n",
       "      <td>138.700000</td>\n",
       "      <td>79.900000</td>\n",
       "      <td>224.500000</td>\n",
       "      <td>5.572000</td>\n",
       "      <td>32.000000</td>\n",
       "      <td>45.000000</td>\n",
       "      <td>NaN</td>\n",
       "      <td>188.144323</td>\n",
       "    </tr>\n",
       "  </tbody>\n",
       "</table>\n",
       "</div>"
      ],
      "text/plain": [
       "       Manufacturer Model  Sales_in_thousands  _year_resale_value  \\\n",
       "count           156   156          156.000000          156.000000   \n",
       "unique           30   155                 NaN                 NaN   \n",
       "top           Dodge  Neon                 NaN                 NaN   \n",
       "freq             11     2                 NaN                 NaN   \n",
       "mean            NaN   NaN           57.858817           18.063571   \n",
       "std             NaN   NaN           74.966671           10.076941   \n",
       "min             NaN   NaN            0.110000            5.160000   \n",
       "25%             NaN   NaN           14.035000           12.527500   \n",
       "50%             NaN   NaN           29.213000           17.617500   \n",
       "75%             NaN   NaN           71.690250           18.089731   \n",
       "max             NaN   NaN          540.561000           67.550000   \n",
       "\n",
       "       Vehicle_type  Price_in_thousands  Engine_size  Horsepower   Wheelbase  \\\n",
       "count           156          156.000000   156.000000  156.000000  156.000000   \n",
       "unique            2                 NaN          NaN         NaN         NaN   \n",
       "top       Passenger                 NaN          NaN         NaN         NaN   \n",
       "freq            116                 NaN          NaN         NaN         NaN   \n",
       "mean            NaN           27.401071     3.060897  185.948718  107.487179   \n",
       "std             NaN           14.305863     1.044653   56.700321    7.641303   \n",
       "min             NaN            9.235000     1.000000   55.000000   92.600000   \n",
       "25%             NaN           18.081250     2.300000  149.500000  103.000000   \n",
       "50%             NaN           23.099500     3.000000  177.500000  107.000000   \n",
       "75%             NaN           31.938750     3.575000  215.000000  112.200000   \n",
       "max             NaN           85.500000     8.000000  450.000000  138.700000   \n",
       "\n",
       "             Width      Length  Curb_weight  Fuel_capacity  Fuel_efficiency  \\\n",
       "count   156.000000  156.000000   156.000000     156.000000       156.000000   \n",
       "unique         NaN         NaN          NaN            NaN              NaN   \n",
       "top            NaN         NaN          NaN            NaN              NaN   \n",
       "freq           NaN         NaN          NaN            NaN              NaN   \n",
       "mean     71.150000  187.343590     3.380462      17.951923        23.833333   \n",
       "std       3.451872   13.431754     0.629200       3.887921         4.256052   \n",
       "min      62.600000  149.400000     1.895000      10.300000        15.000000   \n",
       "25%      68.400000  177.575000     2.973000      15.800000        21.000000   \n",
       "50%      70.550000  187.900000     3.355000      17.200000        24.000000   \n",
       "75%      73.425000  196.125000     3.788750      19.575000        26.000000   \n",
       "max      79.900000  224.500000     5.572000      32.000000        45.000000   \n",
       "\n",
       "       Latest_Launch  Power_perf_factor  \n",
       "count            156         156.000000  \n",
       "unique           129                NaN  \n",
       "top        1/24/2011                NaN  \n",
       "freq               2                NaN  \n",
       "mean             NaN          77.128857  \n",
       "std              NaN          25.084045  \n",
       "min              NaN          23.276272  \n",
       "25%              NaN          60.567577  \n",
       "50%              NaN          72.160636  \n",
       "75%              NaN          89.623790  \n",
       "max              NaN         188.144323  "
      ]
     },
     "execution_count": 13,
     "metadata": {},
     "output_type": "execute_result"
    }
   ],
   "source": [
    "car.describe(include='all')"
   ]
  },
  {
   "cell_type": "code",
   "execution_count": 14,
   "metadata": {},
   "outputs": [
    {
     "data": {
      "text/plain": [
       "array(['Passenger', 'Car'], dtype=object)"
      ]
     },
     "execution_count": 14,
     "metadata": {},
     "output_type": "execute_result"
    }
   ],
   "source": [
    "car.Vehicle_type.unique()"
   ]
  },
  {
   "cell_type": "code",
   "execution_count": 15,
   "metadata": {
    "scrolled": true
   },
   "outputs": [
    {
     "name": "stdout",
     "output_type": "stream",
     "text": [
      "    Manufacturer    Model  Sales_in_thousands  _year_resale_value  \\\n",
      "0          Acura  Integra              16.919           16.360000   \n",
      "1          Acura       TL              39.384           19.875000   \n",
      "2          Acura       CL              14.114           18.225000   \n",
      "3          Acura       RL               8.588           29.725000   \n",
      "4           Audi       A4              20.397           22.255000   \n",
      "..           ...      ...                 ...                 ...   \n",
      "151        Volvo      V40               3.545           18.072975   \n",
      "152        Volvo      S70              15.245           18.072975   \n",
      "153        Volvo      V70              17.531           18.072975   \n",
      "154        Volvo      C70               3.493           18.072975   \n",
      "155        Volvo      S80              18.969           18.072975   \n",
      "\n",
      "     Price_in_thousands  Engine_size  Horsepower  Wheelbase  Width  Length  \\\n",
      "0                 21.50          1.8         140      101.2   67.3   172.4   \n",
      "1                 28.40          3.2         225      108.1   70.3   192.9   \n",
      "2                 29.00          3.2         225      106.9   70.6   192.0   \n",
      "3                 42.00          3.5         210      114.6   71.4   196.6   \n",
      "4                 23.99          1.8         150      102.6   68.2   178.0   \n",
      "..                  ...          ...         ...        ...    ...     ...   \n",
      "151               24.40          1.9         160      100.5   67.6   176.6   \n",
      "152               27.50          2.4         168      104.9   69.3   185.9   \n",
      "153               28.80          2.4         168      104.9   69.3   186.2   \n",
      "154               45.50          2.3         236      104.9   71.5   185.7   \n",
      "155               36.00          2.9         201      109.9   72.1   189.8   \n",
      "\n",
      "     Curb_weight  Fuel_capacity  Fuel_efficiency Latest_Launch  \\\n",
      "0          2.639           13.2               28      2/2/2012   \n",
      "1          3.517           17.2               25      6/3/2011   \n",
      "2          3.470           17.2               26      1/4/2012   \n",
      "3          3.850           18.0               22     3/10/2011   \n",
      "4          2.998           16.4               27     10/8/2011   \n",
      "..           ...            ...              ...           ...   \n",
      "151        3.042           15.8               25     9/21/2011   \n",
      "152        3.208           17.9               25    11/24/2012   \n",
      "153        3.259           17.9               25     6/25/2011   \n",
      "154        3.601           18.5               23     4/26/2011   \n",
      "155        3.600           21.1               24    11/14/2011   \n",
      "\n",
      "     Power_perf_factor  Vehicle_type_Passenger  \n",
      "0            58.280150                       1  \n",
      "1            91.370778                       1  \n",
      "2            90.345000                       1  \n",
      "3            91.389779                       1  \n",
      "4            62.777639                       1  \n",
      "..                 ...                     ...  \n",
      "151          66.498812                       1  \n",
      "152          70.654495                       1  \n",
      "153          71.155978                       1  \n",
      "154         101.623357                       1  \n",
      "155          85.735655                       1  \n",
      "\n",
      "[156 rows x 16 columns]\n"
     ]
    }
   ],
   "source": [
    "#OHE\n",
    "car_dummy =pd.DataFrame()                                             # Creating an empty data frame\n",
    "def lr(car):\n",
    "    dummies = pd.get_dummies(car, columns=['Vehicle_type'], drop_first=True)\n",
    "    return dummies\n",
    "car_dummy = lr(car)\n",
    "print(car_dummy)\n"
   ]
  },
  {
   "cell_type": "code",
   "execution_count": 16,
   "metadata": {},
   "outputs": [
    {
     "name": "stdout",
     "output_type": "stream",
     "text": [
      "    Manufacturer    Model  Sales_in_thousands  _year_resale_value  \\\n",
      "0          Acura  Integra              16.919           16.360000   \n",
      "1          Acura       TL              39.384           19.875000   \n",
      "2          Acura       CL              14.114           18.225000   \n",
      "3          Acura       RL               8.588           29.725000   \n",
      "4           Audi       A4              20.397           22.255000   \n",
      "..           ...      ...                 ...                 ...   \n",
      "151        Volvo      V40               3.545           18.072975   \n",
      "152        Volvo      S70              15.245           18.072975   \n",
      "153        Volvo      V70              17.531           18.072975   \n",
      "154        Volvo      C70               3.493           18.072975   \n",
      "155        Volvo      S80              18.969           18.072975   \n",
      "\n",
      "     Price_in_thousands  Engine_size  Horsepower  Wheelbase  Width  Length  \\\n",
      "0                 21.50          1.8         140      101.2   67.3   172.4   \n",
      "1                 28.40          3.2         225      108.1   70.3   192.9   \n",
      "2                 29.00          3.2         225      106.9   70.6   192.0   \n",
      "3                 42.00          3.5         210      114.6   71.4   196.6   \n",
      "4                 23.99          1.8         150      102.6   68.2   178.0   \n",
      "..                  ...          ...         ...        ...    ...     ...   \n",
      "151               24.40          1.9         160      100.5   67.6   176.6   \n",
      "152               27.50          2.4         168      104.9   69.3   185.9   \n",
      "153               28.80          2.4         168      104.9   69.3   186.2   \n",
      "154               45.50          2.3         236      104.9   71.5   185.7   \n",
      "155               36.00          2.9         201      109.9   72.1   189.8   \n",
      "\n",
      "     Curb_weight  Fuel_capacity  Fuel_efficiency Latest_Launch  \\\n",
      "0          2.639           13.2               28      2/2/2012   \n",
      "1          3.517           17.2               25      6/3/2011   \n",
      "2          3.470           17.2               26      1/4/2012   \n",
      "3          3.850           18.0               22     3/10/2011   \n",
      "4          2.998           16.4               27     10/8/2011   \n",
      "..           ...            ...              ...           ...   \n",
      "151        3.042           15.8               25     9/21/2011   \n",
      "152        3.208           17.9               25    11/24/2012   \n",
      "153        3.259           17.9               25     6/25/2011   \n",
      "154        3.601           18.5               23     4/26/2011   \n",
      "155        3.600           21.1               24    11/14/2011   \n",
      "\n",
      "     Power_perf_factor  Vehicle_type_Passenger  \n",
      "0            58.280150                       1  \n",
      "1            91.370778                       1  \n",
      "2            90.345000                       1  \n",
      "3            91.389779                       1  \n",
      "4            62.777639                       1  \n",
      "..                 ...                     ...  \n",
      "151          66.498812                       1  \n",
      "152          70.654495                       1  \n",
      "153          71.155978                       1  \n",
      "154         101.623357                       1  \n",
      "155          85.735655                       1  \n",
      "\n",
      "[156 rows x 16 columns]\n"
     ]
    },
    {
     "data": {
      "text/plain": [
       "pandas.core.frame.DataFrame"
      ]
     },
     "execution_count": 16,
     "metadata": {},
     "output_type": "execute_result"
    }
   ],
   "source": [
    "# Same OHE done without Function. just to check\n",
    "car_OHE = pd.get_dummies(car, columns=['Vehicle_type'], drop_first=True)\n",
    "print(car_OHE)\n",
    "type(car_OHE)"
   ]
  },
  {
   "cell_type": "code",
   "execution_count": 17,
   "metadata": {},
   "outputs": [
    {
     "name": "stdout",
     "output_type": "stream",
     "text": [
      "[1 0]\n"
     ]
    }
   ],
   "source": [
    "print(car_OHE.Vehicle_type_Passenger.unique())"
   ]
  },
  {
   "cell_type": "code",
   "execution_count": 18,
   "metadata": {},
   "outputs": [
    {
     "name": "stdout",
     "output_type": "stream",
     "text": [
      "0      1\n",
      "1      1\n",
      "2      1\n",
      "3      1\n",
      "4      1\n",
      "      ..\n",
      "151    1\n",
      "152    1\n",
      "153    1\n",
      "154    1\n",
      "155    1\n",
      "Name: Vehicle_type_Passenger, Length: 156, dtype: uint8\n"
     ]
    }
   ],
   "source": [
    "print(car_OHE.Vehicle_type_Passenger)"
   ]
  },
  {
   "cell_type": "markdown",
   "metadata": {},
   "source": [
    "### Q 4. Drop the below mentioned variables which will not help in prediction of sales.\n",
    "``` ['Manufacturer', 'Model', 'Latest_Launch'] ```"
   ]
  },
  {
   "cell_type": "code",
   "execution_count": 19,
   "metadata": {},
   "outputs": [
    {
     "data": {
      "text/html": [
       "<div>\n",
       "<style scoped>\n",
       "    .dataframe tbody tr th:only-of-type {\n",
       "        vertical-align: middle;\n",
       "    }\n",
       "\n",
       "    .dataframe tbody tr th {\n",
       "        vertical-align: top;\n",
       "    }\n",
       "\n",
       "    .dataframe thead th {\n",
       "        text-align: right;\n",
       "    }\n",
       "</style>\n",
       "<table border=\"1\" class=\"dataframe\">\n",
       "  <thead>\n",
       "    <tr style=\"text-align: right;\">\n",
       "      <th></th>\n",
       "      <th>Manufacturer</th>\n",
       "      <th>Model</th>\n",
       "      <th>Sales_in_thousands</th>\n",
       "      <th>_year_resale_value</th>\n",
       "      <th>Vehicle_type</th>\n",
       "      <th>Price_in_thousands</th>\n",
       "      <th>Engine_size</th>\n",
       "      <th>Horsepower</th>\n",
       "      <th>Wheelbase</th>\n",
       "      <th>Width</th>\n",
       "      <th>Length</th>\n",
       "      <th>Curb_weight</th>\n",
       "      <th>Fuel_capacity</th>\n",
       "      <th>Fuel_efficiency</th>\n",
       "      <th>Latest_Launch</th>\n",
       "      <th>Power_perf_factor</th>\n",
       "    </tr>\n",
       "  </thead>\n",
       "  <tbody>\n",
       "    <tr>\n",
       "      <th>0</th>\n",
       "      <td>Acura</td>\n",
       "      <td>Integra</td>\n",
       "      <td>16.919</td>\n",
       "      <td>16.36</td>\n",
       "      <td>Passenger</td>\n",
       "      <td>21.5</td>\n",
       "      <td>1.8</td>\n",
       "      <td>140</td>\n",
       "      <td>101.2</td>\n",
       "      <td>67.3</td>\n",
       "      <td>172.4</td>\n",
       "      <td>2.639</td>\n",
       "      <td>13.2</td>\n",
       "      <td>28</td>\n",
       "      <td>2/2/2012</td>\n",
       "      <td>58.28015</td>\n",
       "    </tr>\n",
       "  </tbody>\n",
       "</table>\n",
       "</div>"
      ],
      "text/plain": [
       "  Manufacturer    Model  Sales_in_thousands  _year_resale_value Vehicle_type  \\\n",
       "0        Acura  Integra              16.919               16.36    Passenger   \n",
       "\n",
       "   Price_in_thousands  Engine_size  Horsepower  Wheelbase  Width  Length  \\\n",
       "0                21.5          1.8         140      101.2   67.3   172.4   \n",
       "\n",
       "   Curb_weight  Fuel_capacity  Fuel_efficiency Latest_Launch  \\\n",
       "0        2.639           13.2               28      2/2/2012   \n",
       "\n",
       "   Power_perf_factor  \n",
       "0           58.28015  "
      ]
     },
     "execution_count": 19,
     "metadata": {},
     "output_type": "execute_result"
    }
   ],
   "source": [
    "car.head(1)"
   ]
  },
  {
   "cell_type": "code",
   "execution_count": 20,
   "metadata": {},
   "outputs": [
    {
     "name": "stdout",
     "output_type": "stream",
     "text": [
      "     Sales_in_thousands  _year_resale_value  Price_in_thousands  Engine_size  \\\n",
      "0                16.919           16.360000               21.50          1.8   \n",
      "1                39.384           19.875000               28.40          3.2   \n",
      "2                14.114           18.225000               29.00          3.2   \n",
      "3                 8.588           29.725000               42.00          3.5   \n",
      "4                20.397           22.255000               23.99          1.8   \n",
      "..                  ...                 ...                 ...          ...   \n",
      "151               3.545           18.072975               24.40          1.9   \n",
      "152              15.245           18.072975               27.50          2.4   \n",
      "153              17.531           18.072975               28.80          2.4   \n",
      "154               3.493           18.072975               45.50          2.3   \n",
      "155              18.969           18.072975               36.00          2.9   \n",
      "\n",
      "     Horsepower  Wheelbase  Width  Length  Curb_weight  Fuel_capacity  \\\n",
      "0           140      101.2   67.3   172.4        2.639           13.2   \n",
      "1           225      108.1   70.3   192.9        3.517           17.2   \n",
      "2           225      106.9   70.6   192.0        3.470           17.2   \n",
      "3           210      114.6   71.4   196.6        3.850           18.0   \n",
      "4           150      102.6   68.2   178.0        2.998           16.4   \n",
      "..          ...        ...    ...     ...          ...            ...   \n",
      "151         160      100.5   67.6   176.6        3.042           15.8   \n",
      "152         168      104.9   69.3   185.9        3.208           17.9   \n",
      "153         168      104.9   69.3   186.2        3.259           17.9   \n",
      "154         236      104.9   71.5   185.7        3.601           18.5   \n",
      "155         201      109.9   72.1   189.8        3.600           21.1   \n",
      "\n",
      "     Fuel_efficiency  Power_perf_factor  Vehicle_type_Passenger  \n",
      "0                 28          58.280150                       1  \n",
      "1                 25          91.370778                       1  \n",
      "2                 26          90.345000                       1  \n",
      "3                 22          91.389779                       1  \n",
      "4                 27          62.777639                       1  \n",
      "..               ...                ...                     ...  \n",
      "151               25          66.498812                       1  \n",
      "152               25          70.654495                       1  \n",
      "153               25          71.155978                       1  \n",
      "154               23         101.623357                       1  \n",
      "155               24          85.735655                       1  \n",
      "\n",
      "[156 rows x 13 columns]\n"
     ]
    }
   ],
   "source": [
    "def lr(car_dummy):\n",
    "    car_drop = car_dummy.drop(car_dummy[['Manufacturer', 'Model', 'Latest_Launch']], axis=1)\n",
    "    return car_drop\n",
    "car_dummy = lr(car_dummy)\n",
    "print (car_dummy)"
   ]
  },
  {
   "cell_type": "code",
   "execution_count": 39,
   "metadata": {},
   "outputs": [
    {
     "data": {
      "text/plain": [
       "'\\ndef lr():\\n    import seaborn as sns\\n    sns.boxplot(data=car_dummy, orient=\"h\", palette=\"Set2\")\\n    return None \\nlr()\\n'"
      ]
     },
     "execution_count": 39,
     "metadata": {},
     "output_type": "execute_result"
    }
   ],
   "source": [
    "'''\n",
    "def lr():\n",
    "    import seaborn as sns\n",
    "    sns.boxplot(data=car_dummy, orient=\"h\", palette=\"Set2\")\n",
    "    return None \n",
    "lr()\n",
    "'''"
   ]
  },
  {
   "cell_type": "code",
   "execution_count": 21,
   "metadata": {},
   "outputs": [
    {
     "data": {
      "image/png": "[encoded data removed]",
      "text/plain": [
       "<Figure size 1080x1440 with 1 Axes>"
      ]
     },
     "metadata": {
      "needs_background": "light"
     },
     "output_type": "display_data"
    }
   ],
   "source": [
    "import seaborn as sns\n",
    "import matplotlib.pyplot as plt\n",
    "\n",
    "#tips = sns.load_dataset(\"tips\")\n",
    "\n",
    "\n",
    "# setting the dimensions of the plot\n",
    "fig, ax = plt.subplots(figsize=(15, 20))\n",
    "  \n",
    "# drawing the plot\n",
    "#sns.boxplot(x = y)\n",
    "b = sns.boxplot(data=car_dummy, orient=\"h\", palette=\"Set2\")\n",
    "#b = sns.boxplot(x=tips[\"total_bill\"])\n",
    "b.axes.set_title(\"Title\",fontsize=50)\n",
    "b.set_xlabel(\"X Label\",fontsize=30)\n",
    "b.set_ylabel(\"Y Label\",fontsize=20)\n",
    "b.tick_params(labelsize=5)\n",
    "#plt.show()\n",
    "#sns.plt.show()\n",
    "#for p in ax.patches:\n",
    "#    print(p)\n",
    "    #ax.annotate(str(p.get_height()), (p.get_x() + (p.get_width()/4), p.get_height()+5), rotation=0)\n"
   ]
  },
  {
   "cell_type": "markdown",
   "metadata": {},
   "source": [
    "### Q 5. Calculate the Inter quantile range and then drop off outliers for quantile values outside 5 to 95 range."
   ]
  },
  {
   "cell_type": "code",
   "execution_count": 22,
   "metadata": {},
   "outputs": [
    {
     "name": "stdout",
     "output_type": "stream",
     "text": [
      "     Sales_in_thousands  _year_resale_value  Price_in_thousands  Engine_size  \\\n",
      "0                16.919           16.360000               21.50          1.8   \n",
      "1                39.384           19.875000               28.40          3.2   \n",
      "2                14.114           18.225000               29.00          3.2   \n",
      "3                 8.588           29.725000               42.00          3.5   \n",
      "4                20.397           22.255000               23.99          1.8   \n",
      "..                  ...                 ...                 ...          ...   \n",
      "151               3.545           18.072975               24.40          1.9   \n",
      "152              15.245           18.072975               27.50          2.4   \n",
      "153              17.531           18.072975               28.80          2.4   \n",
      "154               3.493           18.072975               45.50          2.3   \n",
      "155              18.969           18.072975               36.00          2.9   \n",
      "\n",
      "     Horsepower  Wheelbase  Width  Length  Curb_weight  Fuel_capacity  \\\n",
      "0           140      101.2   67.3   172.4        2.639           13.2   \n",
      "1           225      108.1   70.3   192.9        3.517           17.2   \n",
      "2           225      106.9   70.6   192.0        3.470           17.2   \n",
      "3           210      114.6   71.4   196.6        3.850           18.0   \n",
      "4           150      102.6   68.2   178.0        2.998           16.4   \n",
      "..          ...        ...    ...     ...          ...            ...   \n",
      "151         160      100.5   67.6   176.6        3.042           15.8   \n",
      "152         168      104.9   69.3   185.9        3.208           17.9   \n",
      "153         168      104.9   69.3   186.2        3.259           17.9   \n",
      "154         236      104.9   71.5   185.7        3.601           18.5   \n",
      "155         201      109.9   72.1   189.8        3.600           21.1   \n",
      "\n",
      "     Fuel_efficiency  Power_perf_factor  Vehicle_type_Passenger  \n",
      "0                 28          58.280150                       1  \n",
      "1                 25          91.370778                       1  \n",
      "2                 26          90.345000                       1  \n",
      "3                 22          91.389779                       1  \n",
      "4                 27          62.777639                       1  \n",
      "..               ...                ...                     ...  \n",
      "151               25          66.498812                       1  \n",
      "152               25          70.654495                       1  \n",
      "153               25          71.155978                       1  \n",
      "154               23         101.623357                       1  \n",
      "155               24          85.735655                       1  \n",
      "\n",
      "[96 rows x 13 columns]\n"
     ]
    }
   ],
   "source": [
    "def lr(car_dummy):\n",
    "    import pandas as pd\n",
    "    Q1 = car_dummy.quantile(0.05)\n",
    "    Q3 = car_dummy.quantile(0.95)\n",
    "    return car_dummy[~((car_dummy < Q1)|(car_dummy > Q3)).any(axis=1)]\n",
    "    #Q_diff = Q3 - Q1\n",
    "    #print(\"Inter quantile range is:\\n\", Q_diff)\n",
    "    #not_car_out = car_dummy[~((car_dummy < Q1)|(car_dummy > Q3)).any(axis=1)]\n",
    "    #car_out\n",
    "    #print(car_dummy[((car_dummy < Q1)|(car_dummy > Q3)).any(axis=1)])\n",
    "    #return not_car_out\n",
    "car_dummy = lr(car_dummy)\n",
    "print (car_dummy)"
   ]
  },
  {
   "cell_type": "markdown",
   "metadata": {},
   "source": [
    "### Q 6. Write code to standardize the variable for model building (return value will be numpy.ndarray)."
   ]
  },
  {
   "cell_type": "code",
   "execution_count": 23,
   "metadata": {},
   "outputs": [
    {
     "name": "stdout",
     "output_type": "stream",
     "text": [
      "[ 0.5899825   0.35359816  0.35515073  1.01234914  0.17298443 -0.23940481\n",
      "  0.48064716  0.38358335 -0.09656879  0.3796632   0.91744169  0.51298918]\n"
     ]
    }
   ],
   "source": [
    "#Excluding Target Variable, for standardizing the features in Dataframe\n",
    "std = pd.DataFrame()\n",
    "car_modify = car_dummy.drop(car_dummy[['Sales_in_thousands']], axis=1)\n",
    "def lr(car_modify):\n",
    "    from sklearn.preprocessing import StandardScaler\n",
    "    scaler = StandardScaler().fit(car_modify)\n",
    "    st = scaler.transform(car_modify)\n",
    "    return st\n",
    "std = lr(car_modify)\n",
    "print(std[1])"
   ]
  },
  {
   "cell_type": "code",
   "execution_count": 24,
   "metadata": {},
   "outputs": [
    {
     "data": {
      "text/html": [
       "<div>\n",
       "<style scoped>\n",
       "    .dataframe tbody tr th:only-of-type {\n",
       "        vertical-align: middle;\n",
       "    }\n",
       "\n",
       "    .dataframe tbody tr th {\n",
       "        vertical-align: top;\n",
       "    }\n",
       "\n",
       "    .dataframe thead th {\n",
       "        text-align: right;\n",
       "    }\n",
       "</style>\n",
       "<table border=\"1\" class=\"dataframe\">\n",
       "  <thead>\n",
       "    <tr style=\"text-align: right;\">\n",
       "      <th></th>\n",
       "      <th>_year_resale_value</th>\n",
       "      <th>Price_in_thousands</th>\n",
       "      <th>Engine_size</th>\n",
       "      <th>Horsepower</th>\n",
       "      <th>Wheelbase</th>\n",
       "      <th>Width</th>\n",
       "      <th>Length</th>\n",
       "      <th>Curb_weight</th>\n",
       "      <th>Fuel_capacity</th>\n",
       "      <th>Fuel_efficiency</th>\n",
       "      <th>Power_perf_factor</th>\n",
       "      <th>Vehicle_type_Passenger</th>\n",
       "    </tr>\n",
       "  </thead>\n",
       "  <tbody>\n",
       "    <tr>\n",
       "      <th>0</th>\n",
       "      <td>16.360</td>\n",
       "      <td>21.50</td>\n",
       "      <td>1.8</td>\n",
       "      <td>140</td>\n",
       "      <td>101.2</td>\n",
       "      <td>67.3</td>\n",
       "      <td>172.4</td>\n",
       "      <td>2.639</td>\n",
       "      <td>13.2</td>\n",
       "      <td>28</td>\n",
       "      <td>58.280150</td>\n",
       "      <td>1</td>\n",
       "    </tr>\n",
       "    <tr>\n",
       "      <th>1</th>\n",
       "      <td>19.875</td>\n",
       "      <td>28.40</td>\n",
       "      <td>3.2</td>\n",
       "      <td>225</td>\n",
       "      <td>108.1</td>\n",
       "      <td>70.3</td>\n",
       "      <td>192.9</td>\n",
       "      <td>3.517</td>\n",
       "      <td>17.2</td>\n",
       "      <td>25</td>\n",
       "      <td>91.370778</td>\n",
       "      <td>1</td>\n",
       "    </tr>\n",
       "    <tr>\n",
       "      <th>2</th>\n",
       "      <td>18.225</td>\n",
       "      <td>29.00</td>\n",
       "      <td>3.2</td>\n",
       "      <td>225</td>\n",
       "      <td>106.9</td>\n",
       "      <td>70.6</td>\n",
       "      <td>192.0</td>\n",
       "      <td>3.470</td>\n",
       "      <td>17.2</td>\n",
       "      <td>26</td>\n",
       "      <td>90.345000</td>\n",
       "      <td>1</td>\n",
       "    </tr>\n",
       "    <tr>\n",
       "      <th>3</th>\n",
       "      <td>29.725</td>\n",
       "      <td>42.00</td>\n",
       "      <td>3.5</td>\n",
       "      <td>210</td>\n",
       "      <td>114.6</td>\n",
       "      <td>71.4</td>\n",
       "      <td>196.6</td>\n",
       "      <td>3.850</td>\n",
       "      <td>18.0</td>\n",
       "      <td>22</td>\n",
       "      <td>91.389779</td>\n",
       "      <td>1</td>\n",
       "    </tr>\n",
       "    <tr>\n",
       "      <th>4</th>\n",
       "      <td>22.255</td>\n",
       "      <td>23.99</td>\n",
       "      <td>1.8</td>\n",
       "      <td>150</td>\n",
       "      <td>102.6</td>\n",
       "      <td>68.2</td>\n",
       "      <td>178.0</td>\n",
       "      <td>2.998</td>\n",
       "      <td>16.4</td>\n",
       "      <td>27</td>\n",
       "      <td>62.777639</td>\n",
       "      <td>1</td>\n",
       "    </tr>\n",
       "  </tbody>\n",
       "</table>\n",
       "</div>"
      ],
      "text/plain": [
       "   _year_resale_value  Price_in_thousands  Engine_size  Horsepower  Wheelbase  \\\n",
       "0              16.360               21.50          1.8         140      101.2   \n",
       "1              19.875               28.40          3.2         225      108.1   \n",
       "2              18.225               29.00          3.2         225      106.9   \n",
       "3              29.725               42.00          3.5         210      114.6   \n",
       "4              22.255               23.99          1.8         150      102.6   \n",
       "\n",
       "   Width  Length  Curb_weight  Fuel_capacity  Fuel_efficiency  \\\n",
       "0   67.3   172.4        2.639           13.2               28   \n",
       "1   70.3   192.9        3.517           17.2               25   \n",
       "2   70.6   192.0        3.470           17.2               26   \n",
       "3   71.4   196.6        3.850           18.0               22   \n",
       "4   68.2   178.0        2.998           16.4               27   \n",
       "\n",
       "   Power_perf_factor  Vehicle_type_Passenger  \n",
       "0          58.280150                       1  \n",
       "1          91.370778                       1  \n",
       "2          90.345000                       1  \n",
       "3          91.389779                       1  \n",
       "4          62.777639                       1  "
      ]
     },
     "execution_count": 24,
     "metadata": {},
     "output_type": "execute_result"
    }
   ],
   "source": [
    "car_modify.head()"
   ]
  },
  {
   "cell_type": "markdown",
   "metadata": {},
   "source": [
    "### Q 7. Write a code to create a DataFrame from the standardized value calculated above"
   ]
  },
  {
   "cell_type": "markdown",
   "metadata": {},
   "source": [
    "### Since the standardized value is a numpy array, add the data to a dataframe with column header as mentioned below in the same order\n",
    "\n",
    "```['_year_resale_value','Price_in_thousands','Engine_size','Horsepower','Wheelbase','Width','Length','Curb_weight','Fuel_capacity','Fuel_efficiency','Power_perf_factor','Vehicle_type_Passenger'] ```"
   ]
  },
  {
   "cell_type": "code",
   "execution_count": 25,
   "metadata": {},
   "outputs": [],
   "source": [
    "columns = ['_year_resale_value','Price_in_thousands','Engine_size','Horsepower','Wheelbase','Width','Length','Curb_weight','Fuel_capacity','Fuel_efficiency','Power_perf_factor','Vehicle_type_Passenger']\n",
    "def lr(std):\n",
    "    cars= pd.DataFrame(std)\n",
    "    cars.columns = columns\n",
    "    return cars\n",
    "cars = lr(std)"
   ]
  },
  {
   "cell_type": "markdown",
   "metadata": {},
   "source": [
    "### Q 8: Now since all variable may not be of use, please extract only the following variables for training. Preparing X (independent features) for the model building.\n",
    "\n",
    "```['Price_in_thousands','Engine_size','Wheelbase','Fuel_efficiency','Vehicle_type_Passenger']```"
   ]
  },
  {
   "cell_type": "code",
   "execution_count": 28,
   "metadata": {},
   "outputs": [
    {
     "data": {
      "text/html": [
       "<div>\n",
       "<style scoped>\n",
       "    .dataframe tbody tr th:only-of-type {\n",
       "        vertical-align: middle;\n",
       "    }\n",
       "\n",
       "    .dataframe tbody tr th {\n",
       "        vertical-align: top;\n",
       "    }\n",
       "\n",
       "    .dataframe thead th {\n",
       "        text-align: right;\n",
       "    }\n",
       "</style>\n",
       "<table border=\"1\" class=\"dataframe\">\n",
       "  <thead>\n",
       "    <tr style=\"text-align: right;\">\n",
       "      <th></th>\n",
       "      <th>_year_resale_value</th>\n",
       "      <th>Price_in_thousands</th>\n",
       "      <th>Engine_size</th>\n",
       "      <th>Horsepower</th>\n",
       "      <th>Wheelbase</th>\n",
       "      <th>Width</th>\n",
       "      <th>Length</th>\n",
       "      <th>Curb_weight</th>\n",
       "      <th>Fuel_capacity</th>\n",
       "      <th>Fuel_efficiency</th>\n",
       "      <th>Power_perf_factor</th>\n",
       "      <th>Vehicle_type_Passenger</th>\n",
       "    </tr>\n",
       "  </thead>\n",
       "  <tbody>\n",
       "    <tr>\n",
       "      <th>0</th>\n",
       "      <td>-0.094988</td>\n",
       "      <td>-0.519458</td>\n",
       "      <td>-1.569537</td>\n",
       "      <td>-1.161537</td>\n",
       "      <td>-1.485263</td>\n",
       "      <td>-1.410009</td>\n",
       "      <td>-1.798663</td>\n",
       "      <td>-1.856990</td>\n",
       "      <td>-2.191620</td>\n",
       "      <td>1.518653</td>\n",
       "      <td>-1.085259</td>\n",
       "      <td>0.512989</td>\n",
       "    </tr>\n",
       "    <tr>\n",
       "      <th>1</th>\n",
       "      <td>0.589983</td>\n",
       "      <td>0.353598</td>\n",
       "      <td>0.355151</td>\n",
       "      <td>1.012349</td>\n",
       "      <td>0.172984</td>\n",
       "      <td>-0.239405</td>\n",
       "      <td>0.480647</td>\n",
       "      <td>0.383583</td>\n",
       "      <td>-0.096569</td>\n",
       "      <td>0.379663</td>\n",
       "      <td>0.917442</td>\n",
       "      <td>0.512989</td>\n",
       "    </tr>\n",
       "    <tr>\n",
       "      <th>2</th>\n",
       "      <td>0.268446</td>\n",
       "      <td>0.429516</td>\n",
       "      <td>0.355151</td>\n",
       "      <td>1.012349</td>\n",
       "      <td>-0.115406</td>\n",
       "      <td>-0.122344</td>\n",
       "      <td>0.380580</td>\n",
       "      <td>0.263644</td>\n",
       "      <td>-0.096569</td>\n",
       "      <td>0.759326</td>\n",
       "      <td>0.855360</td>\n",
       "      <td>0.512989</td>\n",
       "    </tr>\n",
       "    <tr>\n",
       "      <th>3</th>\n",
       "      <td>2.509459</td>\n",
       "      <td>2.074404</td>\n",
       "      <td>0.767584</td>\n",
       "      <td>0.628722</td>\n",
       "      <td>1.735101</td>\n",
       "      <td>0.189817</td>\n",
       "      <td>0.892035</td>\n",
       "      <td>1.233368</td>\n",
       "      <td>0.322442</td>\n",
       "      <td>-0.759326</td>\n",
       "      <td>0.918592</td>\n",
       "      <td>0.512989</td>\n",
       "    </tr>\n",
       "    <tr>\n",
       "      <th>4</th>\n",
       "      <td>1.053775</td>\n",
       "      <td>-0.204398</td>\n",
       "      <td>-1.569537</td>\n",
       "      <td>-0.905786</td>\n",
       "      <td>-1.148807</td>\n",
       "      <td>-1.058828</td>\n",
       "      <td>-1.176022</td>\n",
       "      <td>-0.940856</td>\n",
       "      <td>-0.515579</td>\n",
       "      <td>1.138990</td>\n",
       "      <td>-0.813063</td>\n",
       "      <td>0.512989</td>\n",
       "    </tr>\n",
       "  </tbody>\n",
       "</table>\n",
       "</div>"
      ],
      "text/plain": [
       "   _year_resale_value  Price_in_thousands  Engine_size  Horsepower  Wheelbase  \\\n",
       "0           -0.094988           -0.519458    -1.569537   -1.161537  -1.485263   \n",
       "1            0.589983            0.353598     0.355151    1.012349   0.172984   \n",
       "2            0.268446            0.429516     0.355151    1.012349  -0.115406   \n",
       "3            2.509459            2.074404     0.767584    0.628722   1.735101   \n",
       "4            1.053775           -0.204398    -1.569537   -0.905786  -1.148807   \n",
       "\n",
       "      Width    Length  Curb_weight  Fuel_capacity  Fuel_efficiency  \\\n",
       "0 -1.410009 -1.798663    -1.856990      -2.191620         1.518653   \n",
       "1 -0.239405  0.480647     0.383583      -0.096569         0.379663   \n",
       "2 -0.122344  0.380580     0.263644      -0.096569         0.759326   \n",
       "3  0.189817  0.892035     1.233368       0.322442        -0.759326   \n",
       "4 -1.058828 -1.176022    -0.940856      -0.515579         1.138990   \n",
       "\n",
       "   Power_perf_factor  Vehicle_type_Passenger  \n",
       "0          -1.085259                0.512989  \n",
       "1           0.917442                0.512989  \n",
       "2           0.855360                0.512989  \n",
       "3           0.918592                0.512989  \n",
       "4          -0.813063                0.512989  "
      ]
     },
     "execution_count": 28,
     "metadata": {},
     "output_type": "execute_result"
    }
   ],
   "source": [
    "cars.head()"
   ]
  },
  {
   "cell_type": "code",
   "execution_count": 26,
   "metadata": {},
   "outputs": [
    {
     "name": "stdout",
     "output_type": "stream",
     "text": [
      "    Price_in_thousands  Engine_size  Wheelbase  Fuel_efficiency  \\\n",
      "0            -0.519458    -1.569537  -1.485263         1.518653   \n",
      "1             0.353598     0.355151   0.172984         0.379663   \n",
      "2             0.429516     0.355151  -0.115406         0.759326   \n",
      "3             2.074404     0.767584   1.735101        -0.759326   \n",
      "4            -0.204398    -1.569537  -1.148807         1.138990   \n",
      "..                 ...          ...        ...              ...   \n",
      "91           -0.152521    -1.432059  -1.653491         0.379663   \n",
      "92            0.239721    -0.744671  -0.596058         0.379663   \n",
      "93            0.404210    -0.744671  -0.596058         0.379663   \n",
      "94            2.517258    -0.882149  -0.596058        -0.379663   \n",
      "95            1.315225    -0.057282   0.605571         0.000000   \n",
      "\n",
      "    Vehicle_type_Passenger  \n",
      "0                 0.512989  \n",
      "1                 0.512989  \n",
      "2                 0.512989  \n",
      "3                 0.512989  \n",
      "4                 0.512989  \n",
      "..                     ...  \n",
      "91                0.512989  \n",
      "92                0.512989  \n",
      "93                0.512989  \n",
      "94                0.512989  \n",
      "95                0.512989  \n",
      "\n",
      "[96 rows x 5 columns]\n"
     ]
    }
   ],
   "source": [
    "X = pd.DataFrame()\n",
    "feature_cols = ['Price_in_thousands','Engine_size','Wheelbase','Fuel_efficiency','Vehicle_type_Passenger']                \n",
    "def lr(cars):\n",
    "    X = cars[feature_cols]\n",
    "    return X\n",
    "X = lr(cars)\n",
    "print(X)"
   ]
  },
  {
   "cell_type": "code",
   "execution_count": 31,
   "metadata": {},
   "outputs": [
    {
     "data": {
      "text/html": [
       "<div>\n",
       "<style scoped>\n",
       "    .dataframe tbody tr th:only-of-type {\n",
       "        vertical-align: middle;\n",
       "    }\n",
       "\n",
       "    .dataframe tbody tr th {\n",
       "        vertical-align: top;\n",
       "    }\n",
       "\n",
       "    .dataframe thead th {\n",
       "        text-align: right;\n",
       "    }\n",
       "</style>\n",
       "<table border=\"1\" class=\"dataframe\">\n",
       "  <thead>\n",
       "    <tr style=\"text-align: right;\">\n",
       "      <th></th>\n",
       "      <th>0</th>\n",
       "      <th>1</th>\n",
       "      <th>2</th>\n",
       "      <th>3</th>\n",
       "      <th>4</th>\n",
       "      <th>5</th>\n",
       "      <th>6</th>\n",
       "      <th>7</th>\n",
       "      <th>8</th>\n",
       "      <th>9</th>\n",
       "      <th>10</th>\n",
       "      <th>11</th>\n",
       "    </tr>\n",
       "  </thead>\n",
       "  <tbody>\n",
       "    <tr>\n",
       "      <th>0</th>\n",
       "      <td>-0.094988</td>\n",
       "      <td>-0.519458</td>\n",
       "      <td>-1.569537</td>\n",
       "      <td>-1.161537</td>\n",
       "      <td>-1.485263</td>\n",
       "      <td>-1.410009</td>\n",
       "      <td>-1.798663</td>\n",
       "      <td>-1.856990</td>\n",
       "      <td>-2.191620</td>\n",
       "      <td>1.518653</td>\n",
       "      <td>-1.085259</td>\n",
       "      <td>0.512989</td>\n",
       "    </tr>\n",
       "    <tr>\n",
       "      <th>1</th>\n",
       "      <td>0.589983</td>\n",
       "      <td>0.353598</td>\n",
       "      <td>0.355151</td>\n",
       "      <td>1.012349</td>\n",
       "      <td>0.172984</td>\n",
       "      <td>-0.239405</td>\n",
       "      <td>0.480647</td>\n",
       "      <td>0.383583</td>\n",
       "      <td>-0.096569</td>\n",
       "      <td>0.379663</td>\n",
       "      <td>0.917442</td>\n",
       "      <td>0.512989</td>\n",
       "    </tr>\n",
       "    <tr>\n",
       "      <th>2</th>\n",
       "      <td>0.268446</td>\n",
       "      <td>0.429516</td>\n",
       "      <td>0.355151</td>\n",
       "      <td>1.012349</td>\n",
       "      <td>-0.115406</td>\n",
       "      <td>-0.122344</td>\n",
       "      <td>0.380580</td>\n",
       "      <td>0.263644</td>\n",
       "      <td>-0.096569</td>\n",
       "      <td>0.759326</td>\n",
       "      <td>0.855360</td>\n",
       "      <td>0.512989</td>\n",
       "    </tr>\n",
       "    <tr>\n",
       "      <th>3</th>\n",
       "      <td>2.509459</td>\n",
       "      <td>2.074404</td>\n",
       "      <td>0.767584</td>\n",
       "      <td>0.628722</td>\n",
       "      <td>1.735101</td>\n",
       "      <td>0.189817</td>\n",
       "      <td>0.892035</td>\n",
       "      <td>1.233368</td>\n",
       "      <td>0.322442</td>\n",
       "      <td>-0.759326</td>\n",
       "      <td>0.918592</td>\n",
       "      <td>0.512989</td>\n",
       "    </tr>\n",
       "    <tr>\n",
       "      <th>4</th>\n",
       "      <td>1.053775</td>\n",
       "      <td>-0.204398</td>\n",
       "      <td>-1.569537</td>\n",
       "      <td>-0.905786</td>\n",
       "      <td>-1.148807</td>\n",
       "      <td>-1.058828</td>\n",
       "      <td>-1.176022</td>\n",
       "      <td>-0.940856</td>\n",
       "      <td>-0.515579</td>\n",
       "      <td>1.138990</td>\n",
       "      <td>-0.813063</td>\n",
       "      <td>0.512989</td>\n",
       "    </tr>\n",
       "  </tbody>\n",
       "</table>\n",
       "</div>"
      ],
      "text/plain": [
       "         0         1         2         3         4         5         6   \\\n",
       "0 -0.094988 -0.519458 -1.569537 -1.161537 -1.485263 -1.410009 -1.798663   \n",
       "1  0.589983  0.353598  0.355151  1.012349  0.172984 -0.239405  0.480647   \n",
       "2  0.268446  0.429516  0.355151  1.012349 -0.115406 -0.122344  0.380580   \n",
       "3  2.509459  2.074404  0.767584  0.628722  1.735101  0.189817  0.892035   \n",
       "4  1.053775 -0.204398 -1.569537 -0.905786 -1.148807 -1.058828 -1.176022   \n",
       "\n",
       "         7         8         9         10        11  \n",
       "0 -1.856990 -2.191620  1.518653 -1.085259  0.512989  \n",
       "1  0.383583 -0.096569  0.379663  0.917442  0.512989  \n",
       "2  0.263644 -0.096569  0.759326  0.855360  0.512989  \n",
       "3  1.233368  0.322442 -0.759326  0.918592  0.512989  \n",
       "4 -0.940856 -0.515579  1.138990 -0.813063  0.512989  "
      ]
     },
     "execution_count": 31,
     "metadata": {},
     "output_type": "execute_result"
    }
   ],
   "source": [
    "pd.DataFrame(std).head()"
   ]
  },
  {
   "cell_type": "code",
   "execution_count": 33,
   "metadata": {},
   "outputs": [
    {
     "data": {
      "text/plain": [
       "numpy.ndarray"
      ]
     },
     "execution_count": 33,
     "metadata": {},
     "output_type": "execute_result"
    }
   ],
   "source": [
    "type(std)"
   ]
  },
  {
   "cell_type": "markdown",
   "metadata": {},
   "source": [
    "### Check for the type and shape of X."
   ]
  },
  {
   "cell_type": "code",
   "execution_count": 34,
   "metadata": {},
   "outputs": [
    {
     "name": "stdout",
     "output_type": "stream",
     "text": [
      "<class 'pandas.core.frame.DataFrame'>\n",
      "(96, 5)\n"
     ]
    }
   ],
   "source": [
    "def lr():\n",
    "    print(type(X))\n",
    "    print(X.shape)\n",
    "lr()"
   ]
  },
  {
   "cell_type": "markdown",
   "metadata": {},
   "source": [
    "### Q 9. Extract y (dependent variable) for model building.\n",
    "```['Sales_in_thousands']```"
   ]
  },
  {
   "cell_type": "code",
   "execution_count": 35,
   "metadata": {},
   "outputs": [
    {
     "name": "stdout",
     "output_type": "stream",
     "text": [
      "0    16.919\n",
      "1    39.384\n",
      "2    14.114\n",
      "3     8.588\n",
      "4    20.397\n",
      "Name: Sales_in_thousands, dtype: float64\n"
     ]
    }
   ],
   "source": [
    "y = pd.DataFrame()\n",
    "def lr(car_dummy):\n",
    "    y = car_dummy['Sales_in_thousands']\n",
    "    return y\n",
    "y = lr(car_dummy)\n",
    "print(y.head())"
   ]
  },
  {
   "cell_type": "markdown",
   "metadata": {},
   "source": [
    "### Check for the type and shape of y. "
   ]
  },
  {
   "cell_type": "code",
   "execution_count": 36,
   "metadata": {},
   "outputs": [
    {
     "name": "stdout",
     "output_type": "stream",
     "text": [
      "<class 'pandas.core.series.Series'>\n",
      "(96,)\n"
     ]
    }
   ],
   "source": [
    "def lr():\n",
    "    print(type(y))\n",
    "    print(y.shape)\n",
    "lr()"
   ]
  },
  {
   "cell_type": "markdown",
   "metadata": {},
   "source": [
    "<a id=section403></a>"
   ]
  },
  {
   "cell_type": "markdown",
   "metadata": {},
   "source": [
    "### Q 10. Split the value of X and y into train and test datasets."
   ]
  },
  {
   "cell_type": "code",
   "execution_count": 39,
   "metadata": {},
   "outputs": [],
   "source": [
    "from sklearn.model_selection import train_test_split"
   ]
  },
  {
   "cell_type": "code",
   "execution_count": 40,
   "metadata": {},
   "outputs": [],
   "source": [
    "def lr():\n",
    "    return train_test_split(X, y, test_size=0.30, random_state=1)\n",
    "X_train, X_test, y_train, y_test = lr()"
   ]
  },
  {
   "cell_type": "markdown",
   "metadata": {},
   "source": [
    "### Check the shape of  X and y of train dataset."
   ]
  },
  {
   "cell_type": "code",
   "execution_count": 41,
   "metadata": {},
   "outputs": [
    {
     "name": "stdout",
     "output_type": "stream",
     "text": [
      "(67, 5)\n",
      "(67,)\n"
     ]
    }
   ],
   "source": [
    "def lr():\n",
    "    print(X_train.shape)\n",
    "    print(y_train.shape)\n",
    "lr()"
   ]
  },
  {
   "cell_type": "markdown",
   "metadata": {},
   "source": [
    "### Check the shape of X and y of test dataset."
   ]
  },
  {
   "cell_type": "code",
   "execution_count": 42,
   "metadata": {},
   "outputs": [
    {
     "name": "stdout",
     "output_type": "stream",
     "text": [
      "(29, 5)\n",
      "(29,)\n"
     ]
    }
   ],
   "source": [
    "def lr():\n",
    "    print(X_test.shape)\n",
    "    print(y_test.shape)\n",
    "lr()"
   ]
  },
  {
   "cell_type": "markdown",
   "metadata": {},
   "source": [
    "<a id=section404></a>"
   ]
  },
  {
   "cell_type": "markdown",
   "metadata": {},
   "source": [
    "### Q 11. Instantiate Linear regression model using scikit-learn"
   ]
  },
  {
   "cell_type": "code",
   "execution_count": 43,
   "metadata": {},
   "outputs": [],
   "source": [
    "from sklearn.linear_model import LinearRegression\n",
    "def lr():\n",
    "    linreg = LinearRegression()\n",
    "    return linreg\n",
    "linreg = lr()"
   ]
  },
  {
   "cell_type": "markdown",
   "metadata": {},
   "source": [
    "### Q12. Fit the linear model on X_train and y_train."
   ]
  },
  {
   "cell_type": "code",
   "execution_count": 44,
   "metadata": {},
   "outputs": [],
   "source": [
    "def lr():\n",
    "    linreg.fit(X_train, y_train)  \n",
    "lr()"
   ]
  },
  {
   "cell_type": "markdown",
   "metadata": {},
   "source": [
    "fit(X, y[, sample_weight]) --> Fit linear model.\n",
    "\n",
    "get_params([deep]) --> Get parameters for this estimator.\n",
    "\n",
    "predict(X) --> Predict using the linear model.\n",
    "\n",
    "score(X, y[, sample_weight]) --> Return the coefficient of determination  of the prediction.\n",
    "\n",
    "set_params(**params) --> Set the parameters of this estimator."
   ]
  },
  {
   "cell_type": "markdown",
   "metadata": {},
   "source": [
    "### Q 13. Interpret the Model Coefficients."
   ]
  },
  {
   "cell_type": "code",
   "execution_count": 45,
   "metadata": {},
   "outputs": [
    {
     "name": "stdout",
     "output_type": "stream",
     "text": [
      "Intercept: 43.87522524242046\n",
      "Coefficients: [-27.00575624  12.90661213   4.27975072   1.8546483    0.78389836]\n"
     ]
    }
   ],
   "source": [
    "def lr():\n",
    "    print('Intercept:',linreg.intercept_)                                            \n",
    "    print('Coefficients:',linreg.coef_)\n",
    "lr()"
   ]
  },
  {
   "cell_type": "markdown",
   "metadata": {},
   "source": [
    "### Q.14 Zip the features to pair the feature names with the coefficients."
   ]
  },
  {
   "cell_type": "code",
   "execution_count": 47,
   "metadata": {},
   "outputs": [
    {
     "name": "stdout",
     "output_type": "stream",
     "text": [
      "Intercept 43.87522524242046\n",
      "Intercept -27.005756243837844\n",
      "Price_in_thousands 12.906612134218973\n",
      "Engine_size 4.279750718763274\n",
      "Wheelbase 1.8546482957829178\n",
      "Fuel_efficiency 0.783898363123953\n"
     ]
    }
   ],
   "source": [
    "def lr():\n",
    "    feature_cols.insert(0,'Intercept')\n",
    "    coef = linreg.coef_.tolist()\n",
    "    coef.insert(0, linreg.intercept_)\n",
    "    eq1 = zip(feature_cols, coef)\n",
    "    for c1,c2 in eq1:\n",
    "        print(c1,c2)\n",
    "lr()"
   ]
  },
  {
   "cell_type": "code",
   "execution_count": 49,
   "metadata": {},
   "outputs": [
    {
     "data": {
      "text/plain": [
       "[-27.005756243837844,\n",
       " 12.906612134218973,\n",
       " 4.279750718763274,\n",
       " 1.8546482957829178,\n",
       " 0.783898363123953]"
      ]
     },
     "execution_count": 49,
     "metadata": {},
     "output_type": "execute_result"
    }
   ],
   "source": [
    "linreg.coef_.tolist()"
   ]
  },
  {
   "cell_type": "code",
   "execution_count": 52,
   "metadata": {},
   "outputs": [],
   "source": [
    "eq2 = zip(feature_cols, linreg.coef_.tolist())"
   ]
  },
  {
   "cell_type": "code",
   "execution_count": 53,
   "metadata": {},
   "outputs": [
    {
     "data": {
      "text/plain": [
       "<zip at 0x1dfb0462408>"
      ]
     },
     "execution_count": 53,
     "metadata": {},
     "output_type": "execute_result"
    }
   ],
   "source": [
    "eq2"
   ]
  },
  {
   "cell_type": "markdown",
   "metadata": {},
   "source": [
    "###  Q 15. Predict the train value using the built model."
   ]
  },
  {
   "cell_type": "code",
   "execution_count": 54,
   "metadata": {},
   "outputs": [
    {
     "data": {
      "text/html": [
       "<div>\n",
       "<style scoped>\n",
       "    .dataframe tbody tr th:only-of-type {\n",
       "        vertical-align: middle;\n",
       "    }\n",
       "\n",
       "    .dataframe tbody tr th {\n",
       "        vertical-align: top;\n",
       "    }\n",
       "\n",
       "    .dataframe thead th {\n",
       "        text-align: right;\n",
       "    }\n",
       "</style>\n",
       "<table border=\"1\" class=\"dataframe\">\n",
       "  <thead>\n",
       "    <tr style=\"text-align: right;\">\n",
       "      <th></th>\n",
       "      <th>Sales</th>\n",
       "    </tr>\n",
       "  </thead>\n",
       "  <tbody>\n",
       "    <tr>\n",
       "      <th>0</th>\n",
       "      <td>60.119340</td>\n",
       "    </tr>\n",
       "    <tr>\n",
       "      <th>1</th>\n",
       "      <td>54.562361</td>\n",
       "    </tr>\n",
       "    <tr>\n",
       "      <th>2</th>\n",
       "      <td>39.003508</td>\n",
       "    </tr>\n",
       "    <tr>\n",
       "      <th>3</th>\n",
       "      <td>-6.887229</td>\n",
       "    </tr>\n",
       "    <tr>\n",
       "      <th>4</th>\n",
       "      <td>61.762201</td>\n",
       "    </tr>\n",
       "  </tbody>\n",
       "</table>\n",
       "</div>"
      ],
      "text/plain": [
       "       Sales\n",
       "0  60.119340\n",
       "1  54.562361\n",
       "2  39.003508\n",
       "3  -6.887229\n",
       "4  61.762201"
      ]
     },
     "execution_count": 54,
     "metadata": {},
     "output_type": "execute_result"
    }
   ],
   "source": [
    "y_pred_train = linreg.predict(X_train)\n",
    "pred= pd.DataFrame(y_pred_train)\n",
    "def lr():  \n",
    "    pred.columns = ['Sales']\n",
    "    head = pred.head()\n",
    "    return head\n",
    "lr()"
   ]
  },
  {
   "cell_type": "code",
   "execution_count": 56,
   "metadata": {},
   "outputs": [
    {
     "data": {
      "text/plain": [
       "108    38.554\n",
       "89     27.609\n",
       "59     12.855\n",
       "71      3.334\n",
       "86     26.529\n",
       "Name: Sales_in_thousands, dtype: float64"
      ]
     },
     "execution_count": 56,
     "metadata": {},
     "output_type": "execute_result"
    }
   ],
   "source": [
    "y_train.head()"
   ]
  },
  {
   "cell_type": "markdown",
   "metadata": {},
   "source": [
    "### Q 16. Predict the test value using the built model."
   ]
  },
  {
   "cell_type": "code",
   "execution_count": 57,
   "metadata": {},
   "outputs": [
    {
     "data": {
      "text/html": [
       "<div>\n",
       "<style scoped>\n",
       "    .dataframe tbody tr th:only-of-type {\n",
       "        vertical-align: middle;\n",
       "    }\n",
       "\n",
       "    .dataframe tbody tr th {\n",
       "        vertical-align: top;\n",
       "    }\n",
       "\n",
       "    .dataframe thead th {\n",
       "        text-align: right;\n",
       "    }\n",
       "</style>\n",
       "<table border=\"1\" class=\"dataframe\">\n",
       "  <thead>\n",
       "    <tr style=\"text-align: right;\">\n",
       "      <th></th>\n",
       "      <th>Sales</th>\n",
       "    </tr>\n",
       "  </thead>\n",
       "  <tbody>\n",
       "    <tr>\n",
       "      <th>0</th>\n",
       "      <td>-8.231543</td>\n",
       "    </tr>\n",
       "    <tr>\n",
       "      <th>1</th>\n",
       "      <td>59.464963</td>\n",
       "    </tr>\n",
       "    <tr>\n",
       "      <th>2</th>\n",
       "      <td>6.012677</td>\n",
       "    </tr>\n",
       "    <tr>\n",
       "      <th>3</th>\n",
       "      <td>14.710712</td>\n",
       "    </tr>\n",
       "    <tr>\n",
       "      <th>4</th>\n",
       "      <td>5.501903</td>\n",
       "    </tr>\n",
       "  </tbody>\n",
       "</table>\n",
       "</div>"
      ],
      "text/plain": [
       "       Sales\n",
       "0  -8.231543\n",
       "1  59.464963\n",
       "2   6.012677\n",
       "3  14.710712\n",
       "4   5.501903"
      ]
     },
     "execution_count": 57,
     "metadata": {},
     "output_type": "execute_result"
    }
   ],
   "source": [
    "y_pred_test = linreg.predict(X_test)    \n",
    "pred_test= pd.DataFrame(y_pred_test)\n",
    "def lr():\n",
    "    pred_test.columns=['Sales']\n",
    "    head = pred_test.head()\n",
    "    return head\n",
    "lr()"
   ]
  },
  {
   "cell_type": "markdown",
   "metadata": {},
   "source": [
    "<a id=section406></a>"
   ]
  },
  {
   "cell_type": "markdown",
   "metadata": {},
   "source": [
    "### Q 17 Evaluate the model using Mean Absolute Error metrics for both train and test."
   ]
  },
  {
   "cell_type": "code",
   "execution_count": 58,
   "metadata": {},
   "outputs": [
    {
     "name": "stdout",
     "output_type": "stream",
     "text": [
      "MAE for training set is 25.192898740260027\n",
      "MAE for test set is 36.78483978918262\n"
     ]
    }
   ],
   "source": [
    "from sklearn import metrics\n",
    "def lr():\n",
    "    MAE_train = metrics.mean_absolute_error(y_train, y_pred_train)\n",
    "    MAE_test = metrics.mean_absolute_error(y_test, y_pred_test)\n",
    "    print('MAE for training set is {}'.format(MAE_train))\n",
    "    print('MAE for test set is {}'.format(MAE_test))\n",
    "lr()"
   ]
  },
  {
   "cell_type": "markdown",
   "metadata": {},
   "source": [
    "### Q 18 Evaluate the model using Mean Squared Error for both train and test."
   ]
  },
  {
   "cell_type": "code",
   "execution_count": 59,
   "metadata": {},
   "outputs": [
    {
     "name": "stdout",
     "output_type": "stream",
     "text": [
      "MSE for training set is 1255.079007688756\n",
      "MSE for test set is 3153.991420241456\n"
     ]
    }
   ],
   "source": [
    "def lr():\n",
    "    MSE_train = metrics.mean_squared_error(y_train, y_pred_train)\n",
    "    MSE_test = metrics.mean_squared_error(y_test, y_pred_test)\n",
    "    print('MSE for training set is {}'.format(MSE_train))\n",
    "    print('MSE for test set is {}'.format(MSE_test))\n",
    "lr()"
   ]
  },
  {
   "cell_type": "markdown",
   "metadata": {},
   "source": [
    "### Q 19 Evaluate the model using Root Mean Squared Error for both train and test."
   ]
  },
  {
   "cell_type": "code",
   "execution_count": 60,
   "metadata": {},
   "outputs": [
    {
     "name": "stdout",
     "output_type": "stream",
     "text": [
      "RMSE for training set is 35.427094259743576\n",
      "RMSE for test set is 56.160407942263525\n"
     ]
    }
   ],
   "source": [
    "import numpy as np\n",
    "def lr():\n",
    "    RMSE_train = np.sqrt( metrics.mean_squared_error(y_train, y_pred_train))\n",
    "    RMSE_test = np.sqrt(metrics.mean_squared_error(y_test, y_pred_test))\n",
    "    print('RMSE for training set is {}'.format(RMSE_train))\n",
    "    print('RMSE for test set is {}'.format(RMSE_test))\n",
    "lr()"
   ]
  },
  {
   "cell_type": "markdown",
   "metadata": {},
   "source": [
    "### Q 20. Evaluate the model using R-square value for both train and test."
   ]
  },
  {
   "cell_type": "code",
   "execution_count": 61,
   "metadata": {},
   "outputs": [
    {
     "name": "stdout",
     "output_type": "stream",
     "text": [
      "R2 for training set is 0.28851656992543917\n",
      "R2 for test set is 0.16408126208636575\n"
     ]
    }
   ],
   "source": [
    "from sklearn.metrics import r2_score\n",
    "def lr():\n",
    "    R2_train = r2_score(y_train, y_pred_train) \n",
    "    R2_test = r2_score(y_test, y_pred_test) \n",
    "    print('R2 for training set is {}'.format(R2_train))\n",
    "    print('R2 for test set is {}'.format(R2_test))\n",
    "lr()"
   ]
  }
 ],
 "metadata": {
  "kernelspec": {
   "display_name": "Python 3",
   "language": "python",
   "name": "python3"
  },
  "language_info": {
   "codemirror_mode": {
    "name": "ipython",
    "version": 3
   },
   "file_extension": ".py",
   "mimetype": "text/x-python",
   "name": "python",
   "nbconvert_exporter": "python",
   "pygments_lexer": "ipython3",
   "version": "3.7.6"
  },
  "toc": {
   "base_numbering": 1,
   "nav_menu": {},
   "number_sections": true,
   "sideBar": true,
   "skip_h1_title": false,
   "title_cell": "Table of Contents",
   "title_sidebar": "Contents",
   "toc_cell": false,
   "toc_position": {
    "height": "calc(100% - 180px)",
    "left": "10px",
    "top": "150px",
    "width": "254.8px"
   },
   "toc_section_display": true,
   "toc_window_display": true
  }
 },
 "nbformat": 4,
 "nbformat_minor": 2
}
