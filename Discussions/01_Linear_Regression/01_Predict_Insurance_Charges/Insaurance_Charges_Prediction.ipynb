{
 "cells": [
  {
   "cell_type": "code",
   "execution_count": 11,
   "id": "75f60ef8",
   "metadata": {},
   "outputs": [],
   "source": [
    "import pickle\n",
    "import numpy as np"
   ]
  },
  {
   "cell_type": "code",
   "execution_count": 4,
   "id": "5fe9d3b1",
   "metadata": {},
   "outputs": [],
   "source": [
    "insuranceModel = pickle.load(open('Predict_Insurance_Charges_Model2.pkl', 'rb'))"
   ]
  },
  {
   "cell_type": "code",
   "execution_count": 22,
   "id": "e9e80431",
   "metadata": {},
   "outputs": [
    {
     "data": {
      "text/plain": [
       "array([[19.  ,  1.  , 35.53,  0.  ,  0.  ,  1.  ,  0.  ]])"
      ]
     },
     "execution_count": 22,
     "metadata": {},
     "output_type": "execute_result"
    }
   ],
   "source": [
    "inputs = [19,1,35.530,0,0,1,0]\n",
    "inputArray = np.array(inputs)\n",
    "\n",
    "# inputArray.shape (7,) \n",
    "# reshare the array to pass it on to model (signature should be matched (number_rows, number_features))\n",
    "# for one sample with 7 features the array should be of (1,7) shape\n",
    "# So reshape is needed\n",
    "\n",
    "finalArray = inputArray.reshape(1,7)\n",
    "finalArray"
   ]
  },
  {
   "cell_type": "code",
   "execution_count": 23,
   "id": "d73d4679",
   "metadata": {},
   "outputs": [
    {
     "data": {
      "text/plain": [
       "array([[2856.36618634]])"
      ]
     },
     "execution_count": 23,
     "metadata": {},
     "output_type": "execute_result"
    }
   ],
   "source": [
    "predictedCharges = insuranceModel.predict(finalArray)\n",
    "predictedCharges\n",
    "#35905.58395423"
   ]
  }
 ],
 "metadata": {
  "kernelspec": {
   "display_name": "Python 3",
   "language": "python",
   "name": "python3"
  },
  "language_info": {
   "codemirror_mode": {
    "name": "ipython",
    "version": 3
   },
   "file_extension": ".py",
   "mimetype": "text/x-python",
   "name": "python",
   "nbconvert_exporter": "python",
   "pygments_lexer": "ipython3",
   "version": "3.8.8"
  }
 },
 "nbformat": 4,
 "nbformat_minor": 5
}
