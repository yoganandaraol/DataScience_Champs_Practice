{
 "cells": [
  {
   "cell_type": "markdown",
   "metadata": {},
   "source": [
    "<img src=\"https://github.com/insaid2018/Term-1/blob/master/Images/INSAID_Full%20Logo.png?raw=true\" width=\"240\" height=\"360\" />\n",
    "\n",
    "# ASSIGNMENT\n",
    "\n",
    "###  This is a cars dataset having 156 observation and 16 different variables. You have to create a linear regression model using the provided predictor variables for the prediction of sales value of cars.\n",
    "\n",
    "#### Note: Please run your code step by step as provided in the sheet or else you may face challenges with the code."
   ]
  },
  {
   "cell_type": "markdown",
   "metadata": {},
   "source": [
    "### Import the dataset."
   ]
  },
  {
   "cell_type": "code",
   "execution_count": 19,
   "metadata": {
    "scrolled": true
   },
   "outputs": [
    {
     "data": {
      "text/html": [
       "<div>\n",
       "<style scoped>\n",
       "    .dataframe tbody tr th:only-of-type {\n",
       "        vertical-align: middle;\n",
       "    }\n",
       "\n",
       "    .dataframe tbody tr th {\n",
       "        vertical-align: top;\n",
       "    }\n",
       "\n",
       "    .dataframe thead th {\n",
       "        text-align: right;\n",
       "    }\n",
       "</style>\n",
       "<table border=\"1\" class=\"dataframe\">\n",
       "  <thead>\n",
       "    <tr style=\"text-align: right;\">\n",
       "      <th></th>\n",
       "      <th>Manufacturer</th>\n",
       "      <th>Model</th>\n",
       "      <th>Sales_in_thousands</th>\n",
       "      <th>_year_resale_value</th>\n",
       "      <th>Vehicle_type</th>\n",
       "      <th>Price_in_thousands</th>\n",
       "      <th>Engine_size</th>\n",
       "      <th>Horsepower</th>\n",
       "      <th>Wheelbase</th>\n",
       "      <th>Width</th>\n",
       "      <th>Length</th>\n",
       "      <th>Curb_weight</th>\n",
       "      <th>Fuel_capacity</th>\n",
       "      <th>Fuel_efficiency</th>\n",
       "      <th>Latest_Launch</th>\n",
       "      <th>Power_perf_factor</th>\n",
       "    </tr>\n",
       "  </thead>\n",
       "  <tbody>\n",
       "    <tr>\n",
       "      <th>0</th>\n",
       "      <td>Acura</td>\n",
       "      <td>Integra</td>\n",
       "      <td>16.919</td>\n",
       "      <td>16.360</td>\n",
       "      <td>Passenger</td>\n",
       "      <td>21.50</td>\n",
       "      <td>1.8</td>\n",
       "      <td>140</td>\n",
       "      <td>101.2</td>\n",
       "      <td>67.3</td>\n",
       "      <td>172.4</td>\n",
       "      <td>2.639</td>\n",
       "      <td>13.2</td>\n",
       "      <td>28</td>\n",
       "      <td>2/2/2012</td>\n",
       "      <td>58.280150</td>\n",
       "    </tr>\n",
       "    <tr>\n",
       "      <th>1</th>\n",
       "      <td>Acura</td>\n",
       "      <td>TL</td>\n",
       "      <td>39.384</td>\n",
       "      <td>19.875</td>\n",
       "      <td>Passenger</td>\n",
       "      <td>28.40</td>\n",
       "      <td>3.2</td>\n",
       "      <td>225</td>\n",
       "      <td>108.1</td>\n",
       "      <td>70.3</td>\n",
       "      <td>192.9</td>\n",
       "      <td>3.517</td>\n",
       "      <td>17.2</td>\n",
       "      <td>25</td>\n",
       "      <td>6/3/2011</td>\n",
       "      <td>91.370778</td>\n",
       "    </tr>\n",
       "    <tr>\n",
       "      <th>2</th>\n",
       "      <td>Acura</td>\n",
       "      <td>CL</td>\n",
       "      <td>14.114</td>\n",
       "      <td>18.225</td>\n",
       "      <td>Passenger</td>\n",
       "      <td>29.00</td>\n",
       "      <td>3.2</td>\n",
       "      <td>225</td>\n",
       "      <td>106.9</td>\n",
       "      <td>70.6</td>\n",
       "      <td>192.0</td>\n",
       "      <td>3.470</td>\n",
       "      <td>17.2</td>\n",
       "      <td>26</td>\n",
       "      <td>1/4/2012</td>\n",
       "      <td>90.345000</td>\n",
       "    </tr>\n",
       "    <tr>\n",
       "      <th>3</th>\n",
       "      <td>Acura</td>\n",
       "      <td>RL</td>\n",
       "      <td>8.588</td>\n",
       "      <td>29.725</td>\n",
       "      <td>Passenger</td>\n",
       "      <td>42.00</td>\n",
       "      <td>3.5</td>\n",
       "      <td>210</td>\n",
       "      <td>114.6</td>\n",
       "      <td>71.4</td>\n",
       "      <td>196.6</td>\n",
       "      <td>3.850</td>\n",
       "      <td>18.0</td>\n",
       "      <td>22</td>\n",
       "      <td>3/10/2011</td>\n",
       "      <td>91.389779</td>\n",
       "    </tr>\n",
       "    <tr>\n",
       "      <th>4</th>\n",
       "      <td>Audi</td>\n",
       "      <td>A4</td>\n",
       "      <td>20.397</td>\n",
       "      <td>22.255</td>\n",
       "      <td>Passenger</td>\n",
       "      <td>23.99</td>\n",
       "      <td>1.8</td>\n",
       "      <td>150</td>\n",
       "      <td>102.6</td>\n",
       "      <td>68.2</td>\n",
       "      <td>178.0</td>\n",
       "      <td>2.998</td>\n",
       "      <td>16.4</td>\n",
       "      <td>27</td>\n",
       "      <td>10/8/2011</td>\n",
       "      <td>62.777639</td>\n",
       "    </tr>\n",
       "  </tbody>\n",
       "</table>\n",
       "</div>"
      ],
      "text/plain": [
       "  Manufacturer    Model  Sales_in_thousands  _year_resale_value Vehicle_type  \\\n",
       "0        Acura  Integra              16.919              16.360    Passenger   \n",
       "1        Acura       TL              39.384              19.875    Passenger   \n",
       "2        Acura       CL              14.114              18.225    Passenger   \n",
       "3        Acura       RL               8.588              29.725    Passenger   \n",
       "4         Audi       A4              20.397              22.255    Passenger   \n",
       "\n",
       "   Price_in_thousands  Engine_size  Horsepower  Wheelbase  Width  Length  \\\n",
       "0               21.50          1.8         140      101.2   67.3   172.4   \n",
       "1               28.40          3.2         225      108.1   70.3   192.9   \n",
       "2               29.00          3.2         225      106.9   70.6   192.0   \n",
       "3               42.00          3.5         210      114.6   71.4   196.6   \n",
       "4               23.99          1.8         150      102.6   68.2   178.0   \n",
       "\n",
       "   Curb_weight  Fuel_capacity  Fuel_efficiency Latest_Launch  \\\n",
       "0        2.639           13.2               28      2/2/2012   \n",
       "1        3.517           17.2               25      6/3/2011   \n",
       "2        3.470           17.2               26      1/4/2012   \n",
       "3        3.850           18.0               22     3/10/2011   \n",
       "4        2.998           16.4               27     10/8/2011   \n",
       "\n",
       "   Power_perf_factor  \n",
       "0          58.280150  \n",
       "1          91.370778  \n",
       "2          90.345000  \n",
       "3          91.389779  \n",
       "4          62.777639  "
      ]
     },
     "execution_count": 19,
     "metadata": {},
     "output_type": "execute_result"
    }
   ],
   "source": [
    "import pandas as pd\n",
    "import numpy as np\n",
    "car = pd.read_csv(\"https://raw.githubusercontent.com/insaid2018/Term-2/master/Data/car_sales.csv\")\n",
    "car.head()"
   ]
  },
  {
   "cell_type": "markdown",
   "metadata": {},
   "source": [
    "### Check the shape of the dataset."
   ]
  },
  {
   "cell_type": "code",
   "execution_count": 20,
   "metadata": {},
   "outputs": [
    {
     "data": {
      "text/plain": [
       "(156, 16)"
      ]
     },
     "execution_count": 20,
     "metadata": {},
     "output_type": "execute_result"
    }
   ],
   "source": [
    "def lr():\n",
    "    return car.shape \n",
    "lr()"
   ]
  },
  {
   "cell_type": "markdown",
   "metadata": {},
   "source": [
    "### Check the descriptive stats of the dataset."
   ]
  },
  {
   "cell_type": "code",
   "execution_count": 21,
   "metadata": {},
   "outputs": [
    {
     "data": {
      "text/html": [
       "<div>\n",
       "<style scoped>\n",
       "    .dataframe tbody tr th:only-of-type {\n",
       "        vertical-align: middle;\n",
       "    }\n",
       "\n",
       "    .dataframe tbody tr th {\n",
       "        vertical-align: top;\n",
       "    }\n",
       "\n",
       "    .dataframe thead th {\n",
       "        text-align: right;\n",
       "    }\n",
       "</style>\n",
       "<table border=\"1\" class=\"dataframe\">\n",
       "  <thead>\n",
       "    <tr style=\"text-align: right;\">\n",
       "      <th></th>\n",
       "      <th>Sales_in_thousands</th>\n",
       "      <th>_year_resale_value</th>\n",
       "      <th>Price_in_thousands</th>\n",
       "      <th>Engine_size</th>\n",
       "      <th>Horsepower</th>\n",
       "      <th>Wheelbase</th>\n",
       "      <th>Width</th>\n",
       "      <th>Length</th>\n",
       "      <th>Curb_weight</th>\n",
       "      <th>Fuel_capacity</th>\n",
       "      <th>Fuel_efficiency</th>\n",
       "      <th>Power_perf_factor</th>\n",
       "    </tr>\n",
       "  </thead>\n",
       "  <tbody>\n",
       "    <tr>\n",
       "      <th>count</th>\n",
       "      <td>151.000000</td>\n",
       "      <td>156.000000</td>\n",
       "      <td>156.000000</td>\n",
       "      <td>156.000000</td>\n",
       "      <td>156.000000</td>\n",
       "      <td>156.000000</td>\n",
       "      <td>156.000000</td>\n",
       "      <td>156.000000</td>\n",
       "      <td>156.000000</td>\n",
       "      <td>156.000000</td>\n",
       "      <td>156.000000</td>\n",
       "      <td>156.000000</td>\n",
       "    </tr>\n",
       "    <tr>\n",
       "      <th>mean</th>\n",
       "      <td>52.051742</td>\n",
       "      <td>18.063571</td>\n",
       "      <td>27.401071</td>\n",
       "      <td>3.060897</td>\n",
       "      <td>185.948718</td>\n",
       "      <td>107.487179</td>\n",
       "      <td>71.150000</td>\n",
       "      <td>187.343590</td>\n",
       "      <td>3.380462</td>\n",
       "      <td>17.951923</td>\n",
       "      <td>23.833333</td>\n",
       "      <td>77.128857</td>\n",
       "    </tr>\n",
       "    <tr>\n",
       "      <th>std</th>\n",
       "      <td>68.907116</td>\n",
       "      <td>10.076941</td>\n",
       "      <td>14.305863</td>\n",
       "      <td>1.044653</td>\n",
       "      <td>56.700321</td>\n",
       "      <td>7.641303</td>\n",
       "      <td>3.451872</td>\n",
       "      <td>13.431754</td>\n",
       "      <td>0.629200</td>\n",
       "      <td>3.887921</td>\n",
       "      <td>4.256052</td>\n",
       "      <td>25.084045</td>\n",
       "    </tr>\n",
       "    <tr>\n",
       "      <th>min</th>\n",
       "      <td>0.110000</td>\n",
       "      <td>5.160000</td>\n",
       "      <td>9.235000</td>\n",
       "      <td>1.000000</td>\n",
       "      <td>55.000000</td>\n",
       "      <td>92.600000</td>\n",
       "      <td>62.600000</td>\n",
       "      <td>149.400000</td>\n",
       "      <td>1.895000</td>\n",
       "      <td>10.300000</td>\n",
       "      <td>15.000000</td>\n",
       "      <td>23.276272</td>\n",
       "    </tr>\n",
       "    <tr>\n",
       "      <th>25%</th>\n",
       "      <td>13.630000</td>\n",
       "      <td>12.527500</td>\n",
       "      <td>18.081250</td>\n",
       "      <td>2.300000</td>\n",
       "      <td>149.500000</td>\n",
       "      <td>103.000000</td>\n",
       "      <td>68.400000</td>\n",
       "      <td>177.575000</td>\n",
       "      <td>2.973000</td>\n",
       "      <td>15.800000</td>\n",
       "      <td>21.000000</td>\n",
       "      <td>60.567577</td>\n",
       "    </tr>\n",
       "    <tr>\n",
       "      <th>50%</th>\n",
       "      <td>27.609000</td>\n",
       "      <td>17.617500</td>\n",
       "      <td>23.099500</td>\n",
       "      <td>3.000000</td>\n",
       "      <td>177.500000</td>\n",
       "      <td>107.000000</td>\n",
       "      <td>70.550000</td>\n",
       "      <td>187.900000</td>\n",
       "      <td>3.355000</td>\n",
       "      <td>17.200000</td>\n",
       "      <td>24.000000</td>\n",
       "      <td>72.160636</td>\n",
       "    </tr>\n",
       "    <tr>\n",
       "      <th>75%</th>\n",
       "      <td>65.905500</td>\n",
       "      <td>18.089731</td>\n",
       "      <td>31.938750</td>\n",
       "      <td>3.575000</td>\n",
       "      <td>215.000000</td>\n",
       "      <td>112.200000</td>\n",
       "      <td>73.425000</td>\n",
       "      <td>196.125000</td>\n",
       "      <td>3.788750</td>\n",
       "      <td>19.575000</td>\n",
       "      <td>26.000000</td>\n",
       "      <td>89.623790</td>\n",
       "    </tr>\n",
       "    <tr>\n",
       "      <th>max</th>\n",
       "      <td>540.561000</td>\n",
       "      <td>67.550000</td>\n",
       "      <td>85.500000</td>\n",
       "      <td>8.000000</td>\n",
       "      <td>450.000000</td>\n",
       "      <td>138.700000</td>\n",
       "      <td>79.900000</td>\n",
       "      <td>224.500000</td>\n",
       "      <td>5.572000</td>\n",
       "      <td>32.000000</td>\n",
       "      <td>45.000000</td>\n",
       "      <td>188.144323</td>\n",
       "    </tr>\n",
       "  </tbody>\n",
       "</table>\n",
       "</div>"
      ],
      "text/plain": [
       "       Sales_in_thousands  _year_resale_value  Price_in_thousands  \\\n",
       "count          151.000000          156.000000          156.000000   \n",
       "mean            52.051742           18.063571           27.401071   \n",
       "std             68.907116           10.076941           14.305863   \n",
       "min              0.110000            5.160000            9.235000   \n",
       "25%             13.630000           12.527500           18.081250   \n",
       "50%             27.609000           17.617500           23.099500   \n",
       "75%             65.905500           18.089731           31.938750   \n",
       "max            540.561000           67.550000           85.500000   \n",
       "\n",
       "       Engine_size  Horsepower   Wheelbase       Width      Length  \\\n",
       "count   156.000000  156.000000  156.000000  156.000000  156.000000   \n",
       "mean      3.060897  185.948718  107.487179   71.150000  187.343590   \n",
       "std       1.044653   56.700321    7.641303    3.451872   13.431754   \n",
       "min       1.000000   55.000000   92.600000   62.600000  149.400000   \n",
       "25%       2.300000  149.500000  103.000000   68.400000  177.575000   \n",
       "50%       3.000000  177.500000  107.000000   70.550000  187.900000   \n",
       "75%       3.575000  215.000000  112.200000   73.425000  196.125000   \n",
       "max       8.000000  450.000000  138.700000   79.900000  224.500000   \n",
       "\n",
       "       Curb_weight  Fuel_capacity  Fuel_efficiency  Power_perf_factor  \n",
       "count   156.000000     156.000000       156.000000         156.000000  \n",
       "mean      3.380462      17.951923        23.833333          77.128857  \n",
       "std       0.629200       3.887921         4.256052          25.084045  \n",
       "min       1.895000      10.300000        15.000000          23.276272  \n",
       "25%       2.973000      15.800000        21.000000          60.567577  \n",
       "50%       3.355000      17.200000        24.000000          72.160636  \n",
       "75%       3.788750      19.575000        26.000000          89.623790  \n",
       "max       5.572000      32.000000        45.000000         188.144323  "
      ]
     },
     "execution_count": 21,
     "metadata": {},
     "output_type": "execute_result"
    }
   ],
   "source": [
    "def lr():\n",
    "    return car.describe()\n",
    "lr()"
   ]
  },
  {
   "cell_type": "code",
   "execution_count": 22,
   "metadata": {},
   "outputs": [],
   "source": [
    "car['Sales_in_thousands'].to_csv('Sales.csv')"
   ]
  },
  {
   "cell_type": "code",
   "execution_count": 23,
   "metadata": {},
   "outputs": [
    {
     "data": {
      "text/plain": [
       "array(['Acura', 'Audi', 'BMW', 'Buick', 'Cadillac', 'Chevrolet',\n",
       "       'Chrysler', 'Dodge', 'Ford', 'Honda', 'Hyundai', 'Infiniti',\n",
       "       'Jaguar', 'Jeep', 'Lexus', 'Lincoln', 'Mitsubishi', 'Mercury',\n",
       "       'Mercedes-B', 'Nissan', 'Oldsmobile', 'Plymouth', 'Pontiac',\n",
       "       'Porsche', 'Saab', 'Saturn', 'Subaru', 'Toyota', 'Volkswagen',\n",
       "       'Volvo'], dtype=object)"
      ]
     },
     "execution_count": 23,
     "metadata": {},
     "output_type": "execute_result"
    }
   ],
   "source": [
    "car['Manufacturer'].unique()"
   ]
  },
  {
   "cell_type": "code",
   "execution_count": 24,
   "metadata": {},
   "outputs": [
    {
     "data": {
      "text/plain": [
       "Manufacturer          0\n",
       "Model                 0\n",
       "Sales_in_thousands    5\n",
       "_year_resale_value    0\n",
       "Vehicle_type          0\n",
       "Price_in_thousands    0\n",
       "Engine_size           0\n",
       "Horsepower            0\n",
       "Wheelbase             0\n",
       "Width                 0\n",
       "Length                0\n",
       "Curb_weight           0\n",
       "Fuel_capacity         0\n",
       "Fuel_efficiency       0\n",
       "Latest_Launch         0\n",
       "Power_perf_factor     0\n",
       "dtype: int64"
      ]
     },
     "execution_count": 24,
     "metadata": {},
     "output_type": "execute_result"
    }
   ],
   "source": [
    "car.isnull().sum()"
   ]
  },
  {
   "cell_type": "code",
   "execution_count": 25,
   "metadata": {},
   "outputs": [
    {
     "data": {
      "text/plain": [
       "<AxesSubplot:>"
      ]
     },
     "execution_count": 25,
     "metadata": {},
     "output_type": "execute_result"
    },
    {
     "data": {
      "image/png": "[encoded data removed]",
      "text/plain": [
       "<Figure size 432x288 with 1 Axes>"
      ]
     },
     "metadata": {
      "needs_background": "light"
     },
     "output_type": "display_data"
    }
   ],
   "source": [
    "car['Sales_in_thousands'].hist()"
   ]
  },
  {
   "cell_type": "code",
   "execution_count": 26,
   "metadata": {},
   "outputs": [
    {
     "data": {
      "text/plain": [
       "<AxesSubplot:>"
      ]
     },
     "execution_count": 26,
     "metadata": {},
     "output_type": "execute_result"
    },
    {
     "data": {
      "image/png": "[encoded data removed]",
      "text/plain": [
       "<Figure size 432x288 with 1 Axes>"
      ]
     },
     "metadata": {
      "needs_background": "light"
     },
     "output_type": "display_data"
    }
   ],
   "source": [
    "np.log(car['Sales_in_thousands']).hist()"
   ]
  },
  {
   "cell_type": "code",
   "execution_count": 27,
   "metadata": {},
   "outputs": [],
   "source": [
    "car[car['Manufacturer']=='Toyota'].Sales_in_thousands.to_csv('Sales_Toyota.csv')"
   ]
  },
  {
   "cell_type": "markdown",
   "metadata": {},
   "source": [
    "### Q 1. Write a code to understand the total count and percentage of missing values."
   ]
  },
  {
   "cell_type": "code",
   "execution_count": 28,
   "metadata": {},
   "outputs": [
    {
     "name": "stdout",
     "output_type": "stream",
     "text": [
      "                    Total   Percent\n",
      "Sales_in_thousands      5  3.205128\n",
      "Power_perf_factor       0  0.000000\n",
      "Latest_Launch           0  0.000000\n",
      "Fuel_efficiency         0  0.000000\n",
      "Fuel_capacity           0  0.000000\n",
      "Curb_weight             0  0.000000\n",
      "Length                  0  0.000000\n",
      "Width                   0  0.000000\n",
      "Wheelbase               0  0.000000\n",
      "Horsepower              0  0.000000\n",
      "Engine_size             0  0.000000\n",
      "Price_in_thousands      0  0.000000\n",
      "Vehicle_type            0  0.000000\n",
      "_year_resale_value      0  0.000000\n",
      "Model                   0  0.000000\n",
      "Manufacturer            0  0.000000\n"
     ]
    }
   ],
   "source": [
    "def lr():\n",
    "    total = car.isnull().sum().sort_values(ascending=False)\n",
    "    percent = 100*(car.isnull().sum()/car.isnull().count()).sort_values(ascending=False)\n",
    "    missing_data = pd.concat([total, percent], axis=1, keys=['Total', 'Percent'])\n",
    "    missing_data.head(20)\n",
    "    miss = print(missing_data)\n",
    "    return miss\n",
    "lr()"
   ]
  },
  {
   "cell_type": "markdown",
   "metadata": {},
   "source": [
    "### Q 2. Impute the missing value using \"median\" groupby Manufacturer. "
   ]
  },
  {
   "cell_type": "code",
   "execution_count": 29,
   "metadata": {},
   "outputs": [
    {
     "data": {
      "text/plain": [
       "Manufacturer\n",
       "Acura          15.5165\n",
       "Audi           18.7800\n",
       "BMW            17.5270\n",
       "Buick          61.3035\n",
       "Cadillac       14.7850\n",
       "Chevrolet      32.2990\n",
       "Chrysler       30.9220\n",
       "Dodge          76.0340\n",
       "Ford          233.2325\n",
       "Honda          76.0290\n",
       "Hyundai        41.1840\n",
       "Infiniti       23.7130\n",
       "Jaguar         15.4670\n",
       "Jeep           80.5560\n",
       "Lexus          10.9120\n",
       "Lincoln        22.9250\n",
       "Mercedes-B     11.5920\n",
       "Mercury        27.0690\n",
       "Mitsubishi     26.2320\n",
       "Nissan         54.1580\n",
       "Oldsmobile     22.1890\n",
       "Plymouth       14.6975\n",
       "Pontiac        45.6085\n",
       "Porsche         1.8660\n",
       "Saab           10.6530\n",
       "Saturn         24.5460\n",
       "Subaru         40.0675\n",
       "Toyota         65.1190\n",
       "Volkswagen     29.6120\n",
       "Volvo          16.1010\n",
       "Name: Sales_in_thousands, dtype: float64"
      ]
     },
     "execution_count": 29,
     "metadata": {},
     "output_type": "execute_result"
    }
   ],
   "source": [
    "car.groupby(\"Manufacturer\")[\"Sales_in_thousands\"].median()"
   ]
  },
  {
   "cell_type": "code",
   "execution_count": 30,
   "metadata": {},
   "outputs": [
    {
     "name": "stdout",
     "output_type": "stream",
     "text": [
      "Manufacturer          0\n",
      "Model                 0\n",
      "Sales_in_thousands    0\n",
      "_year_resale_value    0\n",
      "Vehicle_type          0\n",
      "Price_in_thousands    0\n",
      "Engine_size           0\n",
      "Horsepower            0\n",
      "Wheelbase             0\n",
      "Width                 0\n",
      "Length                0\n",
      "Curb_weight           0\n",
      "Fuel_capacity         0\n",
      "Fuel_efficiency       0\n",
      "Latest_Launch         0\n",
      "Power_perf_factor     0\n",
      "dtype: int64\n"
     ]
    }
   ],
   "source": [
    "\n",
    "def lr():\n",
    "    car[\"Sales_in_thousands\"].fillna(car.groupby(\"Manufacturer\")[\"Sales_in_thousands\"].transform(\"median\"), inplace=True)\n",
    "    return\n",
    "lr()\n",
    "print (car.isnull().sum())"
   ]
  },
  {
   "cell_type": "markdown",
   "metadata": {},
   "source": [
    "### Q 3. Create a dummy variable for \"Vehicle_type\"  and  drop the original variable."
   ]
  },
  {
   "cell_type": "code",
   "execution_count": 31,
   "metadata": {},
   "outputs": [
    {
     "data": {
      "text/html": [
       "<div>\n",
       "<style scoped>\n",
       "    .dataframe tbody tr th:only-of-type {\n",
       "        vertical-align: middle;\n",
       "    }\n",
       "\n",
       "    .dataframe tbody tr th {\n",
       "        vertical-align: top;\n",
       "    }\n",
       "\n",
       "    .dataframe thead th {\n",
       "        text-align: right;\n",
       "    }\n",
       "</style>\n",
       "<table border=\"1\" class=\"dataframe\">\n",
       "  <thead>\n",
       "    <tr style=\"text-align: right;\">\n",
       "      <th></th>\n",
       "      <th>Manufacturer</th>\n",
       "      <th>Model</th>\n",
       "      <th>Sales_in_thousands</th>\n",
       "      <th>_year_resale_value</th>\n",
       "      <th>Vehicle_type</th>\n",
       "      <th>Price_in_thousands</th>\n",
       "      <th>Engine_size</th>\n",
       "      <th>Horsepower</th>\n",
       "      <th>Wheelbase</th>\n",
       "      <th>Width</th>\n",
       "      <th>Length</th>\n",
       "      <th>Curb_weight</th>\n",
       "      <th>Fuel_capacity</th>\n",
       "      <th>Fuel_efficiency</th>\n",
       "      <th>Latest_Launch</th>\n",
       "      <th>Power_perf_factor</th>\n",
       "    </tr>\n",
       "  </thead>\n",
       "  <tbody>\n",
       "    <tr>\n",
       "      <th>count</th>\n",
       "      <td>156</td>\n",
       "      <td>156</td>\n",
       "      <td>156.000000</td>\n",
       "      <td>156.000000</td>\n",
       "      <td>156</td>\n",
       "      <td>156.000000</td>\n",
       "      <td>156.000000</td>\n",
       "      <td>156.000000</td>\n",
       "      <td>156.000000</td>\n",
       "      <td>156.000000</td>\n",
       "      <td>156.000000</td>\n",
       "      <td>156.000000</td>\n",
       "      <td>156.000000</td>\n",
       "      <td>156.000000</td>\n",
       "      <td>156</td>\n",
       "      <td>156.000000</td>\n",
       "    </tr>\n",
       "    <tr>\n",
       "      <th>unique</th>\n",
       "      <td>30</td>\n",
       "      <td>155</td>\n",
       "      <td>NaN</td>\n",
       "      <td>NaN</td>\n",
       "      <td>2</td>\n",
       "      <td>NaN</td>\n",
       "      <td>NaN</td>\n",
       "      <td>NaN</td>\n",
       "      <td>NaN</td>\n",
       "      <td>NaN</td>\n",
       "      <td>NaN</td>\n",
       "      <td>NaN</td>\n",
       "      <td>NaN</td>\n",
       "      <td>NaN</td>\n",
       "      <td>129</td>\n",
       "      <td>NaN</td>\n",
       "    </tr>\n",
       "    <tr>\n",
       "      <th>top</th>\n",
       "      <td>Dodge</td>\n",
       "      <td>Neon</td>\n",
       "      <td>NaN</td>\n",
       "      <td>NaN</td>\n",
       "      <td>Passenger</td>\n",
       "      <td>NaN</td>\n",
       "      <td>NaN</td>\n",
       "      <td>NaN</td>\n",
       "      <td>NaN</td>\n",
       "      <td>NaN</td>\n",
       "      <td>NaN</td>\n",
       "      <td>NaN</td>\n",
       "      <td>NaN</td>\n",
       "      <td>NaN</td>\n",
       "      <td>1/4/2012</td>\n",
       "      <td>NaN</td>\n",
       "    </tr>\n",
       "    <tr>\n",
       "      <th>freq</th>\n",
       "      <td>11</td>\n",
       "      <td>2</td>\n",
       "      <td>NaN</td>\n",
       "      <td>NaN</td>\n",
       "      <td>116</td>\n",
       "      <td>NaN</td>\n",
       "      <td>NaN</td>\n",
       "      <td>NaN</td>\n",
       "      <td>NaN</td>\n",
       "      <td>NaN</td>\n",
       "      <td>NaN</td>\n",
       "      <td>NaN</td>\n",
       "      <td>NaN</td>\n",
       "      <td>NaN</td>\n",
       "      <td>2</td>\n",
       "      <td>NaN</td>\n",
       "    </tr>\n",
       "    <tr>\n",
       "      <th>mean</th>\n",
       "      <td>NaN</td>\n",
       "      <td>NaN</td>\n",
       "      <td>57.858817</td>\n",
       "      <td>18.063571</td>\n",
       "      <td>NaN</td>\n",
       "      <td>27.401071</td>\n",
       "      <td>3.060897</td>\n",
       "      <td>185.948718</td>\n",
       "      <td>107.487179</td>\n",
       "      <td>71.150000</td>\n",
       "      <td>187.343590</td>\n",
       "      <td>3.380462</td>\n",
       "      <td>17.951923</td>\n",
       "      <td>23.833333</td>\n",
       "      <td>NaN</td>\n",
       "      <td>77.128857</td>\n",
       "    </tr>\n",
       "    <tr>\n",
       "      <th>std</th>\n",
       "      <td>NaN</td>\n",
       "      <td>NaN</td>\n",
       "      <td>74.966671</td>\n",
       "      <td>10.076941</td>\n",
       "      <td>NaN</td>\n",
       "      <td>14.305863</td>\n",
       "      <td>1.044653</td>\n",
       "      <td>56.700321</td>\n",
       "      <td>7.641303</td>\n",
       "      <td>3.451872</td>\n",
       "      <td>13.431754</td>\n",
       "      <td>0.629200</td>\n",
       "      <td>3.887921</td>\n",
       "      <td>4.256052</td>\n",
       "      <td>NaN</td>\n",
       "      <td>25.084045</td>\n",
       "    </tr>\n",
       "    <tr>\n",
       "      <th>min</th>\n",
       "      <td>NaN</td>\n",
       "      <td>NaN</td>\n",
       "      <td>0.110000</td>\n",
       "      <td>5.160000</td>\n",
       "      <td>NaN</td>\n",
       "      <td>9.235000</td>\n",
       "      <td>1.000000</td>\n",
       "      <td>55.000000</td>\n",
       "      <td>92.600000</td>\n",
       "      <td>62.600000</td>\n",
       "      <td>149.400000</td>\n",
       "      <td>1.895000</td>\n",
       "      <td>10.300000</td>\n",
       "      <td>15.000000</td>\n",
       "      <td>NaN</td>\n",
       "      <td>23.276272</td>\n",
       "    </tr>\n",
       "    <tr>\n",
       "      <th>25%</th>\n",
       "      <td>NaN</td>\n",
       "      <td>NaN</td>\n",
       "      <td>14.035000</td>\n",
       "      <td>12.527500</td>\n",
       "      <td>NaN</td>\n",
       "      <td>18.081250</td>\n",
       "      <td>2.300000</td>\n",
       "      <td>149.500000</td>\n",
       "      <td>103.000000</td>\n",
       "      <td>68.400000</td>\n",
       "      <td>177.575000</td>\n",
       "      <td>2.973000</td>\n",
       "      <td>15.800000</td>\n",
       "      <td>21.000000</td>\n",
       "      <td>NaN</td>\n",
       "      <td>60.567577</td>\n",
       "    </tr>\n",
       "    <tr>\n",
       "      <th>50%</th>\n",
       "      <td>NaN</td>\n",
       "      <td>NaN</td>\n",
       "      <td>29.213000</td>\n",
       "      <td>17.617500</td>\n",
       "      <td>NaN</td>\n",
       "      <td>23.099500</td>\n",
       "      <td>3.000000</td>\n",
       "      <td>177.500000</td>\n",
       "      <td>107.000000</td>\n",
       "      <td>70.550000</td>\n",
       "      <td>187.900000</td>\n",
       "      <td>3.355000</td>\n",
       "      <td>17.200000</td>\n",
       "      <td>24.000000</td>\n",
       "      <td>NaN</td>\n",
       "      <td>72.160636</td>\n",
       "    </tr>\n",
       "    <tr>\n",
       "      <th>75%</th>\n",
       "      <td>NaN</td>\n",
       "      <td>NaN</td>\n",
       "      <td>71.690250</td>\n",
       "      <td>18.089731</td>\n",
       "      <td>NaN</td>\n",
       "      <td>31.938750</td>\n",
       "      <td>3.575000</td>\n",
       "      <td>215.000000</td>\n",
       "      <td>112.200000</td>\n",
       "      <td>73.425000</td>\n",
       "      <td>196.125000</td>\n",
       "      <td>3.788750</td>\n",
       "      <td>19.575000</td>\n",
       "      <td>26.000000</td>\n",
       "      <td>NaN</td>\n",
       "      <td>89.623790</td>\n",
       "    </tr>\n",
       "    <tr>\n",
       "      <th>max</th>\n",
       "      <td>NaN</td>\n",
       "      <td>NaN</td>\n",
       "      <td>540.561000</td>\n",
       "      <td>67.550000</td>\n",
       "      <td>NaN</td>\n",
       "      <td>85.500000</td>\n",
       "      <td>8.000000</td>\n",
       "      <td>450.000000</td>\n",
       "      <td>138.700000</td>\n",
       "      <td>79.900000</td>\n",
       "      <td>224.500000</td>\n",
       "      <td>5.572000</td>\n",
       "      <td>32.000000</td>\n",
       "      <td>45.000000</td>\n",
       "      <td>NaN</td>\n",
       "      <td>188.144323</td>\n",
       "    </tr>\n",
       "  </tbody>\n",
       "</table>\n",
       "</div>"
      ],
      "text/plain": [
       "       Manufacturer Model  Sales_in_thousands  _year_resale_value  \\\n",
       "count           156   156          156.000000          156.000000   \n",
       "unique           30   155                 NaN                 NaN   \n",
       "top           Dodge  Neon                 NaN                 NaN   \n",
       "freq             11     2                 NaN                 NaN   \n",
       "mean            NaN   NaN           57.858817           18.063571   \n",
       "std             NaN   NaN           74.966671           10.076941   \n",
       "min             NaN   NaN            0.110000            5.160000   \n",
       "25%             NaN   NaN           14.035000           12.527500   \n",
       "50%             NaN   NaN           29.213000           17.617500   \n",
       "75%             NaN   NaN           71.690250           18.089731   \n",
       "max             NaN   NaN          540.561000           67.550000   \n",
       "\n",
       "       Vehicle_type  Price_in_thousands  Engine_size  Horsepower   Wheelbase  \\\n",
       "count           156          156.000000   156.000000  156.000000  156.000000   \n",
       "unique            2                 NaN          NaN         NaN         NaN   \n",
       "top       Passenger                 NaN          NaN         NaN         NaN   \n",
       "freq            116                 NaN          NaN         NaN         NaN   \n",
       "mean            NaN           27.401071     3.060897  185.948718  107.487179   \n",
       "std             NaN           14.305863     1.044653   56.700321    7.641303   \n",
       "min             NaN            9.235000     1.000000   55.000000   92.600000   \n",
       "25%             NaN           18.081250     2.300000  149.500000  103.000000   \n",
       "50%             NaN           23.099500     3.000000  177.500000  107.000000   \n",
       "75%             NaN           31.938750     3.575000  215.000000  112.200000   \n",
       "max             NaN           85.500000     8.000000  450.000000  138.700000   \n",
       "\n",
       "             Width      Length  Curb_weight  Fuel_capacity  Fuel_efficiency  \\\n",
       "count   156.000000  156.000000   156.000000     156.000000       156.000000   \n",
       "unique         NaN         NaN          NaN            NaN              NaN   \n",
       "top            NaN         NaN          NaN            NaN              NaN   \n",
       "freq           NaN         NaN          NaN            NaN              NaN   \n",
       "mean     71.150000  187.343590     3.380462      17.951923        23.833333   \n",
       "std       3.451872   13.431754     0.629200       3.887921         4.256052   \n",
       "min      62.600000  149.400000     1.895000      10.300000        15.000000   \n",
       "25%      68.400000  177.575000     2.973000      15.800000        21.000000   \n",
       "50%      70.550000  187.900000     3.355000      17.200000        24.000000   \n",
       "75%      73.425000  196.125000     3.788750      19.575000        26.000000   \n",
       "max      79.900000  224.500000     5.572000      32.000000        45.000000   \n",
       "\n",
       "       Latest_Launch  Power_perf_factor  \n",
       "count            156         156.000000  \n",
       "unique           129                NaN  \n",
       "top         1/4/2012                NaN  \n",
       "freq               2                NaN  \n",
       "mean             NaN          77.128857  \n",
       "std              NaN          25.084045  \n",
       "min              NaN          23.276272  \n",
       "25%              NaN          60.567577  \n",
       "50%              NaN          72.160636  \n",
       "75%              NaN          89.623790  \n",
       "max              NaN         188.144323  "
      ]
     },
     "execution_count": 31,
     "metadata": {},
     "output_type": "execute_result"
    }
   ],
   "source": [
    "car.describe(include='all')"
   ]
  },
  {
   "cell_type": "code",
   "execution_count": 32,
   "metadata": {},
   "outputs": [
    {
     "data": {
      "text/plain": [
       "array(['Passenger', 'Car'], dtype=object)"
      ]
     },
     "execution_count": 32,
     "metadata": {},
     "output_type": "execute_result"
    }
   ],
   "source": [
    "car.Vehicle_type.unique()"
   ]
  },
  {
   "cell_type": "code",
   "execution_count": 33,
   "metadata": {
    "scrolled": true
   },
   "outputs": [
    {
     "name": "stdout",
     "output_type": "stream",
     "text": [
      "    Manufacturer    Model  Sales_in_thousands  _year_resale_value  \\\n",
      "0          Acura  Integra              16.919           16.360000   \n",
      "1          Acura       TL              39.384           19.875000   \n",
      "2          Acura       CL              14.114           18.225000   \n",
      "3          Acura       RL               8.588           29.725000   \n",
      "4           Audi       A4              20.397           22.255000   \n",
      "..           ...      ...                 ...                 ...   \n",
      "151        Volvo      V40               3.545           18.072975   \n",
      "152        Volvo      S70              15.245           18.072975   \n",
      "153        Volvo      V70              17.531           18.072975   \n",
      "154        Volvo      C70               3.493           18.072975   \n",
      "155        Volvo      S80              18.969           18.072975   \n",
      "\n",
      "     Price_in_thousands  Engine_size  Horsepower  Wheelbase  Width  Length  \\\n",
      "0                 21.50          1.8         140      101.2   67.3   172.4   \n",
      "1                 28.40          3.2         225      108.1   70.3   192.9   \n",
      "2                 29.00          3.2         225      106.9   70.6   192.0   \n",
      "3                 42.00          3.5         210      114.6   71.4   196.6   \n",
      "4                 23.99          1.8         150      102.6   68.2   178.0   \n",
      "..                  ...          ...         ...        ...    ...     ...   \n",
      "151               24.40          1.9         160      100.5   67.6   176.6   \n",
      "152               27.50          2.4         168      104.9   69.3   185.9   \n",
      "153               28.80          2.4         168      104.9   69.3   186.2   \n",
      "154               45.50          2.3         236      104.9   71.5   185.7   \n",
      "155               36.00          2.9         201      109.9   72.1   189.8   \n",
      "\n",
      "     Curb_weight  Fuel_capacity  Fuel_efficiency Latest_Launch  \\\n",
      "0          2.639           13.2               28      2/2/2012   \n",
      "1          3.517           17.2               25      6/3/2011   \n",
      "2          3.470           17.2               26      1/4/2012   \n",
      "3          3.850           18.0               22     3/10/2011   \n",
      "4          2.998           16.4               27     10/8/2011   \n",
      "..           ...            ...              ...           ...   \n",
      "151        3.042           15.8               25     9/21/2011   \n",
      "152        3.208           17.9               25    11/24/2012   \n",
      "153        3.259           17.9               25     6/25/2011   \n",
      "154        3.601           18.5               23     4/26/2011   \n",
      "155        3.600           21.1               24    11/14/2011   \n",
      "\n",
      "     Power_perf_factor  Vehicle_type_Passenger  \n",
      "0            58.280150                       1  \n",
      "1            91.370778                       1  \n",
      "2            90.345000                       1  \n",
      "3            91.389779                       1  \n",
      "4            62.777639                       1  \n",
      "..                 ...                     ...  \n",
      "151          66.498812                       1  \n",
      "152          70.654495                       1  \n",
      "153          71.155978                       1  \n",
      "154         101.623357                       1  \n",
      "155          85.735655                       1  \n",
      "\n",
      "[156 rows x 16 columns]\n"
     ]
    }
   ],
   "source": [
    "#OHE\n",
    "car_dummy =pd.DataFrame()                                             # Creating an empty data frame\n",
    "def lr(car):\n",
    "    dummies = pd.get_dummies(car, columns=['Vehicle_type'], drop_first=True)\n",
    "    return dummies\n",
    "car_dummy = lr(car)\n",
    "print(car_dummy)\n"
   ]
  },
  {
   "cell_type": "code",
   "execution_count": 34,
   "metadata": {},
   "outputs": [
    {
     "name": "stdout",
     "output_type": "stream",
     "text": [
      "    Manufacturer    Model  Sales_in_thousands  _year_resale_value  \\\n",
      "0          Acura  Integra              16.919           16.360000   \n",
      "1          Acura       TL              39.384           19.875000   \n",
      "2          Acura       CL              14.114           18.225000   \n",
      "3          Acura       RL               8.588           29.725000   \n",
      "4           Audi       A4              20.397           22.255000   \n",
      "..           ...      ...                 ...                 ...   \n",
      "151        Volvo      V40               3.545           18.072975   \n",
      "152        Volvo      S70              15.245           18.072975   \n",
      "153        Volvo      V70              17.531           18.072975   \n",
      "154        Volvo      C70               3.493           18.072975   \n",
      "155        Volvo      S80              18.969           18.072975   \n",
      "\n",
      "     Price_in_thousands  Engine_size  Horsepower  Wheelbase  Width  Length  \\\n",
      "0                 21.50          1.8         140      101.2   67.3   172.4   \n",
      "1                 28.40          3.2         225      108.1   70.3   192.9   \n",
      "2                 29.00          3.2         225      106.9   70.6   192.0   \n",
      "3                 42.00          3.5         210      114.6   71.4   196.6   \n",
      "4                 23.99          1.8         150      102.6   68.2   178.0   \n",
      "..                  ...          ...         ...        ...    ...     ...   \n",
      "151               24.40          1.9         160      100.5   67.6   176.6   \n",
      "152               27.50          2.4         168      104.9   69.3   185.9   \n",
      "153               28.80          2.4         168      104.9   69.3   186.2   \n",
      "154               45.50          2.3         236      104.9   71.5   185.7   \n",
      "155               36.00          2.9         201      109.9   72.1   189.8   \n",
      "\n",
      "     Curb_weight  Fuel_capacity  Fuel_efficiency Latest_Launch  \\\n",
      "0          2.639           13.2               28      2/2/2012   \n",
      "1          3.517           17.2               25      6/3/2011   \n",
      "2          3.470           17.2               26      1/4/2012   \n",
      "3          3.850           18.0               22     3/10/2011   \n",
      "4          2.998           16.4               27     10/8/2011   \n",
      "..           ...            ...              ...           ...   \n",
      "151        3.042           15.8               25     9/21/2011   \n",
      "152        3.208           17.9               25    11/24/2012   \n",
      "153        3.259           17.9               25     6/25/2011   \n",
      "154        3.601           18.5               23     4/26/2011   \n",
      "155        3.600           21.1               24    11/14/2011   \n",
      "\n",
      "     Power_perf_factor  Vehicle_type_Passenger  \n",
      "0            58.280150                       1  \n",
      "1            91.370778                       1  \n",
      "2            90.345000                       1  \n",
      "3            91.389779                       1  \n",
      "4            62.777639                       1  \n",
      "..                 ...                     ...  \n",
      "151          66.498812                       1  \n",
      "152          70.654495                       1  \n",
      "153          71.155978                       1  \n",
      "154         101.623357                       1  \n",
      "155          85.735655                       1  \n",
      "\n",
      "[156 rows x 16 columns]\n"
     ]
    },
    {
     "data": {
      "text/plain": [
       "pandas.core.frame.DataFrame"
      ]
     },
     "execution_count": 34,
     "metadata": {},
     "output_type": "execute_result"
    }
   ],
   "source": [
    "# Same OHE done without Function. just to check\n",
    "car_OHE = pd.get_dummies(car, columns=['Vehicle_type'], drop_first=True)\n",
    "print(car_OHE)\n",
    "type(car_OHE)"
   ]
  },
  {
   "cell_type": "code",
   "execution_count": 35,
   "metadata": {},
   "outputs": [
    {
     "name": "stdout",
     "output_type": "stream",
     "text": [
      "[1 0]\n"
     ]
    }
   ],
   "source": [
    "print(car_OHE.Vehicle_type_Passenger.unique())"
   ]
  },
  {
   "cell_type": "code",
   "execution_count": 36,
   "metadata": {},
   "outputs": [
    {
     "name": "stdout",
     "output_type": "stream",
     "text": [
      "0      1\n",
      "1      1\n",
      "2      1\n",
      "3      1\n",
      "4      1\n",
      "      ..\n",
      "151    1\n",
      "152    1\n",
      "153    1\n",
      "154    1\n",
      "155    1\n",
      "Name: Vehicle_type_Passenger, Length: 156, dtype: uint8\n"
     ]
    }
   ],
   "source": [
    "print(car_OHE.Vehicle_type_Passenger)"
   ]
  },
  {
   "cell_type": "markdown",
   "metadata": {},
   "source": [
    "### Q 4. Drop the below mentioned variables which will not help in prediction of sales.\n",
    "``` ['Manufacturer', 'Model', 'Latest_Launch'] ```"
   ]
  },
  {
   "cell_type": "code",
   "execution_count": 37,
   "metadata": {},
   "outputs": [
    {
     "data": {
      "text/html": [
       "<div>\n",
       "<style scoped>\n",
       "    .dataframe tbody tr th:only-of-type {\n",
       "        vertical-align: middle;\n",
       "    }\n",
       "\n",
       "    .dataframe tbody tr th {\n",
       "        vertical-align: top;\n",
       "    }\n",
       "\n",
       "    .dataframe thead th {\n",
       "        text-align: right;\n",
       "    }\n",
       "</style>\n",
       "<table border=\"1\" class=\"dataframe\">\n",
       "  <thead>\n",
       "    <tr style=\"text-align: right;\">\n",
       "      <th></th>\n",
       "      <th>Manufacturer</th>\n",
       "      <th>Model</th>\n",
       "      <th>Sales_in_thousands</th>\n",
       "      <th>_year_resale_value</th>\n",
       "      <th>Vehicle_type</th>\n",
       "      <th>Price_in_thousands</th>\n",
       "      <th>Engine_size</th>\n",
       "      <th>Horsepower</th>\n",
       "      <th>Wheelbase</th>\n",
       "      <th>Width</th>\n",
       "      <th>Length</th>\n",
       "      <th>Curb_weight</th>\n",
       "      <th>Fuel_capacity</th>\n",
       "      <th>Fuel_efficiency</th>\n",
       "      <th>Latest_Launch</th>\n",
       "      <th>Power_perf_factor</th>\n",
       "    </tr>\n",
       "  </thead>\n",
       "  <tbody>\n",
       "    <tr>\n",
       "      <th>0</th>\n",
       "      <td>Acura</td>\n",
       "      <td>Integra</td>\n",
       "      <td>16.919</td>\n",
       "      <td>16.36</td>\n",
       "      <td>Passenger</td>\n",
       "      <td>21.5</td>\n",
       "      <td>1.8</td>\n",
       "      <td>140</td>\n",
       "      <td>101.2</td>\n",
       "      <td>67.3</td>\n",
       "      <td>172.4</td>\n",
       "      <td>2.639</td>\n",
       "      <td>13.2</td>\n",
       "      <td>28</td>\n",
       "      <td>2/2/2012</td>\n",
       "      <td>58.28015</td>\n",
       "    </tr>\n",
       "  </tbody>\n",
       "</table>\n",
       "</div>"
      ],
      "text/plain": [
       "  Manufacturer    Model  Sales_in_thousands  _year_resale_value Vehicle_type  \\\n",
       "0        Acura  Integra              16.919               16.36    Passenger   \n",
       "\n",
       "   Price_in_thousands  Engine_size  Horsepower  Wheelbase  Width  Length  \\\n",
       "0                21.5          1.8         140      101.2   67.3   172.4   \n",
       "\n",
       "   Curb_weight  Fuel_capacity  Fuel_efficiency Latest_Launch  \\\n",
       "0        2.639           13.2               28      2/2/2012   \n",
       "\n",
       "   Power_perf_factor  \n",
       "0           58.28015  "
      ]
     },
     "execution_count": 37,
     "metadata": {},
     "output_type": "execute_result"
    }
   ],
   "source": [
    "car.head(1)"
   ]
  },
  {
   "cell_type": "code",
   "execution_count": 38,
   "metadata": {},
   "outputs": [
    {
     "name": "stdout",
     "output_type": "stream",
     "text": [
      "     Sales_in_thousands  _year_resale_value  Price_in_thousands  Engine_size  \\\n",
      "0                16.919           16.360000               21.50          1.8   \n",
      "1                39.384           19.875000               28.40          3.2   \n",
      "2                14.114           18.225000               29.00          3.2   \n",
      "3                 8.588           29.725000               42.00          3.5   \n",
      "4                20.397           22.255000               23.99          1.8   \n",
      "..                  ...                 ...                 ...          ...   \n",
      "151               3.545           18.072975               24.40          1.9   \n",
      "152              15.245           18.072975               27.50          2.4   \n",
      "153              17.531           18.072975               28.80          2.4   \n",
      "154               3.493           18.072975               45.50          2.3   \n",
      "155              18.969           18.072975               36.00          2.9   \n",
      "\n",
      "     Horsepower  Wheelbase  Width  Length  Curb_weight  Fuel_capacity  \\\n",
      "0           140      101.2   67.3   172.4        2.639           13.2   \n",
      "1           225      108.1   70.3   192.9        3.517           17.2   \n",
      "2           225      106.9   70.6   192.0        3.470           17.2   \n",
      "3           210      114.6   71.4   196.6        3.850           18.0   \n",
      "4           150      102.6   68.2   178.0        2.998           16.4   \n",
      "..          ...        ...    ...     ...          ...            ...   \n",
      "151         160      100.5   67.6   176.6        3.042           15.8   \n",
      "152         168      104.9   69.3   185.9        3.208           17.9   \n",
      "153         168      104.9   69.3   186.2        3.259           17.9   \n",
      "154         236      104.9   71.5   185.7        3.601           18.5   \n",
      "155         201      109.9   72.1   189.8        3.600           21.1   \n",
      "\n",
      "     Fuel_efficiency  Power_perf_factor  Vehicle_type_Passenger  \n",
      "0                 28          58.280150                       1  \n",
      "1                 25          91.370778                       1  \n",
      "2                 26          90.345000                       1  \n",
      "3                 22          91.389779                       1  \n",
      "4                 27          62.777639                       1  \n",
      "..               ...                ...                     ...  \n",
      "151               25          66.498812                       1  \n",
      "152               25          70.654495                       1  \n",
      "153               25          71.155978                       1  \n",
      "154               23         101.623357                       1  \n",
      "155               24          85.735655                       1  \n",
      "\n",
      "[156 rows x 13 columns]\n"
     ]
    }
   ],
   "source": [
    "def lr(car_dummy):\n",
    "    car_drop = car_dummy.drop(car_dummy[['Manufacturer', 'Model', 'Latest_Launch']], axis=1)\n",
    "    return car_drop\n",
    "car_dummy = lr(car_dummy)\n",
    "print (car_dummy)"
   ]
  },
  {
   "cell_type": "code",
   "execution_count": 39,
   "metadata": {},
   "outputs": [
    {
     "data": {
      "text/plain": [
       "'\\ndef lr():\\n    import seaborn as sns\\n    sns.boxplot(data=car_dummy, orient=\"h\", palette=\"Set2\")\\n    return None \\nlr()\\n'"
      ]
     },
     "execution_count": 39,
     "metadata": {},
     "output_type": "execute_result"
    }
   ],
   "source": [
    "'''\n",
    "def lr():\n",
    "    import seaborn as sns\n",
    "    sns.boxplot(data=car_dummy, orient=\"h\", palette=\"Set2\")\n",
    "    return None \n",
    "lr()\n",
    "'''"
   ]
  },
  {
   "cell_type": "code",
   "execution_count": 40,
   "metadata": {},
   "outputs": [
    {
     "data": {
      "image/png": "[encoded data removed]",
      "text/plain": [
       "<Figure size 1080x1440 with 1 Axes>"
      ]
     },
     "metadata": {
      "needs_background": "light"
     },
     "output_type": "display_data"
    }
   ],
   "source": [
    "import seaborn as sns\n",
    "import matplotlib.pyplot as plt\n",
    "\n",
    "#tips = sns.load_dataset(\"tips\")\n",
    "\n",
    "\n",
    "# setting the dimensions of the plot\n",
    "fig, ax = plt.subplots(figsize=(15, 20))\n",
    "  \n",
    "# drawing the plot\n",
    "#sns.boxplot(x = y)\n",
    "b = sns.boxplot(data=car_dummy, orient=\"h\", palette=\"Set2\")\n",
    "#b = sns.boxplot(x=tips[\"total_bill\"])\n",
    "b.axes.set_title(\"Title\",fontsize=50)\n",
    "b.set_xlabel(\"X Label\",fontsize=30)\n",
    "b.set_ylabel(\"Y Label\",fontsize=20)\n",
    "b.tick_params(labelsize=5)\n",
    "#plt.show()\n",
    "#sns.plt.show()\n",
    "#for p in ax.patches:\n",
    "#    print(p)\n",
    "    #ax.annotate(str(p.get_height()), (p.get_x() + (p.get_width()/4), p.get_height()+5), rotation=0)\n"
   ]
  },
  {
   "cell_type": "markdown",
   "metadata": {},
   "source": [
    "### Q 5. Calculate the Inter quantile range and then drop off outliers for quantile values outside 5 to 95 range."
   ]
  },
  {
   "cell_type": "code",
   "execution_count": 42,
   "metadata": {},
   "outputs": [
    {
     "name": "stdout",
     "output_type": "stream",
     "text": [
      "     Sales_in_thousands  _year_resale_value  Price_in_thousands  Engine_size  \\\n",
      "1                39.384           19.875000              28.400          3.2   \n",
      "2                14.114           18.225000              29.000          3.2   \n",
      "7                19.747           18.072975              26.990          2.5   \n",
      "10               91.561           12.475000              21.975          3.1   \n",
      "11               39.350           13.740000              25.300          3.8   \n",
      "13               83.257           13.360000              27.885          3.8   \n",
      "17               11.185           18.225000              31.010          3.0   \n",
      "20              135.126           11.225000              16.535          3.1   \n",
      "21               24.629           10.310000              18.890          3.1   \n",
      "22               42.593           11.525000              19.390          3.4   \n",
      "23               26.402           13.025000              24.340          3.8   \n",
      "27              107.995           18.072975              18.890          3.4   \n",
      "28                7.854           12.360000              19.840          2.5   \n",
      "29               32.775           14.180000              24.495          2.5   \n",
      "31               32.306           12.640000              16.480          2.0   \n",
      "33               30.696           18.072975              29.185          3.5   \n",
      "36               71.186           10.185000              20.230          2.5   \n",
      "37               88.028           12.275000              22.505          2.7   \n",
      "58               73.203           17.710000              20.550          2.0   \n",
      "64               23.713           19.690000              29.465          3.0   \n",
      "69               24.072           26.975000              31.505          3.0   \n",
      "74               51.238           18.072975              34.605          3.0   \n",
      "79               42.541           10.395000              19.047          2.4   \n",
      "80               55.616           10.595000              17.357          2.4   \n",
      "81                5.711           16.575000              24.997          3.5   \n",
      "87               67.956           11.030000              19.035          3.0   \n",
      "90               20.380           14.795000              22.510          3.3   \n",
      "91               18.392           26.050000              31.750          2.3   \n",
      "97               11.592           18.072975              41.600          3.2   \n",
      "101              88.094           11.295000              20.390          2.4   \n",
      "102              79.853           15.125000              26.249          3.0   \n",
      "108              38.554           18.072975              24.150          3.5   \n",
      "109              80.255           18.072975              18.270          2.4   \n",
      "117              51.645           13.790000              21.610          2.4   \n",
      "118             131.097           10.290000              19.720          3.4   \n",
      "119              19.911           17.805000              25.310          3.8   \n",
      "120              92.364           14.010000              21.665          3.8   \n",
      "121              35.945           13.225000              23.755          3.8   \n",
      "126               9.191           18.072975              33.120          2.3   \n",
      "127              12.115           18.072975              26.100          2.0   \n",
      "133              47.107           18.072975              22.695          2.5   \n",
      "137              63.849           18.140000              25.545          3.0   \n",
      "152              15.245           18.072975              27.500          2.4   \n",
      "153              17.531           18.072975              28.800          2.4   \n",
      "\n",
      "     Horsepower  Wheelbase  Width  Length  Curb_weight  Fuel_capacity  \\\n",
      "1           225      108.1   70.3   192.9        3.517           17.2   \n",
      "2           225      106.9   70.6   192.0        3.470           17.2   \n",
      "7           170      107.3   68.4   176.0        3.179           16.6   \n",
      "10          175      109.0   72.7   194.6        3.368           17.5   \n",
      "11          240      109.0   72.7   196.2        3.543           17.5   \n",
      "13          205      112.2   73.5   200.0        3.591           17.5   \n",
      "17          200      107.4   70.3   194.8        3.770           18.0   \n",
      "20          170      107.0   69.4   190.4        3.051           15.0   \n",
      "21          175      107.5   72.5   200.9        3.330           16.6   \n",
      "22          180      110.5   72.7   197.9        3.340           17.0   \n",
      "23          200      101.1   74.1   193.2        3.500           16.8   \n",
      "27          180      110.5   73.0   200.0        3.389           17.0   \n",
      "28          163      103.7   69.7   190.9        2.967           15.9   \n",
      "29          168      106.0   69.2   193.0        3.332           16.0   \n",
      "31          132      108.0   71.0   186.0        2.911           16.0   \n",
      "33          253      113.0   74.4   197.8        3.567           17.0   \n",
      "36          168      108.0   71.0   186.0        3.058           16.0   \n",
      "37          202      113.0   74.7   203.7        3.489           17.0   \n",
      "58          146      103.2   68.9   177.6        3.219           15.3   \n",
      "64          227      108.3   70.2   193.7        3.342           18.5   \n",
      "69          210      105.1   70.5   190.2        3.373           18.5   \n",
      "74          220      103.0   71.5   180.1        3.900           17.2   \n",
      "79          154      100.8   68.9   175.4        2.910           15.9   \n",
      "80          145      103.7   68.5   187.8        2.945           16.3   \n",
      "81          210      107.1   70.3   194.1        3.443           19.0   \n",
      "87          153      108.5   73.0   199.7        3.379           16.0   \n",
      "90          170      112.2   74.9   194.7        3.944           20.0   \n",
      "91          185      105.9   67.7   177.4        3.250           16.4   \n",
      "97          215      105.9   67.8   180.3        3.213           16.4   \n",
      "101         155      103.1   69.1   183.5        3.012           15.9   \n",
      "102         222      108.3   70.3   190.5        3.294           18.5   \n",
      "108         215      109.0   73.6   195.9        3.455           18.0   \n",
      "109         150      107.0   70.1   186.7        2.958           15.0   \n",
      "117         150      104.1   68.4   181.9        2.906           15.0   \n",
      "118         175      107.0   70.4   186.3        3.091           15.2   \n",
      "119         200      101.1   74.5   193.4        3.492           16.8   \n",
      "120         195      110.5   72.7   196.5        3.396           18.0   \n",
      "121         205      112.2   72.6   202.5        3.590           17.5   \n",
      "126         170      106.4   70.6   189.2        3.280           18.5   \n",
      "127         185      102.6   67.4   182.2        2.990           16.9   \n",
      "133         165      103.5   67.5   185.8        3.415           16.9   \n",
      "137         210      107.1   71.7   191.9        3.417           18.5   \n",
      "152         168      104.9   69.3   185.9        3.208           17.9   \n",
      "153         168      104.9   69.3   186.2        3.259           17.9   \n",
      "\n",
      "     Fuel_efficiency  Power_perf_factor  Vehicle_type_Passenger  \n",
      "1                 25          91.370778                       1  \n",
      "2                 26          90.345000                       1  \n",
      "7                 26          71.191207                       1  \n",
      "10                25          71.181451                       1  \n",
      "11                23          95.636703                       1  \n",
      "13                25          84.254526                       1  \n",
      "17                22          83.483094                       1  \n",
      "20                25          67.314462                       1  \n",
      "21                25          69.991396                       1  \n",
      "22                27          72.030917                       1  \n",
      "23                25          81.118543                       1  \n",
      "27                27          71.838039                       1  \n",
      "28                24          65.957184                       1  \n",
      "29                24          69.521355                       1  \n",
      "31                27          53.566200                       1  \n",
      "33                23         101.655244                       1  \n",
      "36                24          67.876108                       1  \n",
      "37                23          80.831470                       1  \n",
      "58                24          60.087967                       0  \n",
      "64                25          92.436889                       1  \n",
      "69                23          87.211001                       1  \n",
      "74                21          91.943802                       0  \n",
      "79                24          62.441962                       1  \n",
      "80                25          58.606773                       1  \n",
      "81                22          84.830779                       1  \n",
      "87                24          62.239967                       1  \n",
      "90                21          69.671461                       0  \n",
      "91                26          78.280731                       1  \n",
      "97                26          92.925792                       1  \n",
      "101               25          63.313728                       1  \n",
      "102               25          89.427820                       1  \n",
      "108               23          86.272523                       1  \n",
      "109               27          60.727447                       1  \n",
      "117               27          62.015870                       1  \n",
      "118               25          70.389737                       1  \n",
      "119               25          81.492726                       1  \n",
      "120               25          78.318168                       1  \n",
      "121               24          82.661356                       1  \n",
      "126               23          73.503778                       1  \n",
      "127               23          76.023048                       1  \n",
      "133               25          67.765908                       1  \n",
      "137               26          84.911898                       1  \n",
      "152               25          70.654495                       1  \n",
      "153               25          71.155978                       1  \n"
     ]
    }
   ],
   "source": [
    "def lr(car_dummy):\n",
    "    import pandas as pd\n",
    "    Q1 = car_dummy.quantile(0.05)\n",
    "    Q3 = car_dummy.quantile(0.95)\n",
    "    return car_dummy[~((car_dummy < Q1)|(car_dummy > Q3)).any(axis=1)]\n",
    "    #Q_diff = Q3 - Q1\n",
    "    #print(\"Inter quantile range is:\\n\", Q_diff)\n",
    "    #not_car_out = car_dummy[~((car_dummy < Q1)|(car_dummy > Q3)).any(axis=1)]\n",
    "    #car_out\n",
    "    #print(car_dummy[((car_dummy < Q1)|(car_dummy > Q3)).any(axis=1)])\n",
    "    #return not_car_out\n",
    "car_dummy = lr(car_dummy)\n",
    "print (car_dummy)"
   ]
  },
  {
   "cell_type": "markdown",
   "metadata": {},
   "source": [
    "### Q 6. Write code to standardize the variable for model building (return value will be numpy.ndarray)."
   ]
  },
  {
   "cell_type": "code",
   "execution_count": 45,
   "metadata": {},
   "outputs": [
    {
     "name": "stdout",
     "output_type": "stream",
     "text": [
      "[ 6.68532016e-01  8.43402008e-01  4.81129435e-01  1.36638054e+00\n",
      "  4.48105305e-15 -1.45294483e-01  2.25888236e-01  5.99791231e-01\n",
      "  1.79118045e-01  9.60480360e-01  1.24668928e+00  2.70500890e-01]\n"
     ]
    }
   ],
   "source": [
    "#Excluding Target Variable, for standardizing the features in Dataframe\n",
    "std = pd.DataFrame()\n",
    "car_modify = car_dummy.drop(car_dummy[['Sales_in_thousands']], axis=1)\n",
    "def lr(car_modify):\n",
    "    from sklearn.preprocessing import StandardScaler\n",
    "    scaler = StandardScaler().fit(car_modify)\n",
    "    st = scaler.transform(car_modify)\n",
    "    return st\n",
    "std = lr(car_modify)\n",
    "print(std[1])"
   ]
  },
  {
   "cell_type": "code",
   "execution_count": 46,
   "metadata": {},
   "outputs": [
    {
     "data": {
      "text/html": [
       "<div>\n",
       "<style scoped>\n",
       "    .dataframe tbody tr th:only-of-type {\n",
       "        vertical-align: middle;\n",
       "    }\n",
       "\n",
       "    .dataframe tbody tr th {\n",
       "        vertical-align: top;\n",
       "    }\n",
       "\n",
       "    .dataframe thead th {\n",
       "        text-align: right;\n",
       "    }\n",
       "</style>\n",
       "<table border=\"1\" class=\"dataframe\">\n",
       "  <thead>\n",
       "    <tr style=\"text-align: right;\">\n",
       "      <th></th>\n",
       "      <th>_year_resale_value</th>\n",
       "      <th>Price_in_thousands</th>\n",
       "      <th>Engine_size</th>\n",
       "      <th>Horsepower</th>\n",
       "      <th>Wheelbase</th>\n",
       "      <th>Width</th>\n",
       "      <th>Length</th>\n",
       "      <th>Curb_weight</th>\n",
       "      <th>Fuel_capacity</th>\n",
       "      <th>Fuel_efficiency</th>\n",
       "      <th>Power_perf_factor</th>\n",
       "      <th>Vehicle_type_Passenger</th>\n",
       "    </tr>\n",
       "  </thead>\n",
       "  <tbody>\n",
       "    <tr>\n",
       "      <th>1</th>\n",
       "      <td>19.875000</td>\n",
       "      <td>28.400</td>\n",
       "      <td>3.2</td>\n",
       "      <td>225</td>\n",
       "      <td>108.1</td>\n",
       "      <td>70.3</td>\n",
       "      <td>192.9</td>\n",
       "      <td>3.517</td>\n",
       "      <td>17.2</td>\n",
       "      <td>25</td>\n",
       "      <td>91.370778</td>\n",
       "      <td>1</td>\n",
       "    </tr>\n",
       "    <tr>\n",
       "      <th>2</th>\n",
       "      <td>18.225000</td>\n",
       "      <td>29.000</td>\n",
       "      <td>3.2</td>\n",
       "      <td>225</td>\n",
       "      <td>106.9</td>\n",
       "      <td>70.6</td>\n",
       "      <td>192.0</td>\n",
       "      <td>3.470</td>\n",
       "      <td>17.2</td>\n",
       "      <td>26</td>\n",
       "      <td>90.345000</td>\n",
       "      <td>1</td>\n",
       "    </tr>\n",
       "    <tr>\n",
       "      <th>7</th>\n",
       "      <td>18.072975</td>\n",
       "      <td>26.990</td>\n",
       "      <td>2.5</td>\n",
       "      <td>170</td>\n",
       "      <td>107.3</td>\n",
       "      <td>68.4</td>\n",
       "      <td>176.0</td>\n",
       "      <td>3.179</td>\n",
       "      <td>16.6</td>\n",
       "      <td>26</td>\n",
       "      <td>71.191207</td>\n",
       "      <td>1</td>\n",
       "    </tr>\n",
       "    <tr>\n",
       "      <th>10</th>\n",
       "      <td>12.475000</td>\n",
       "      <td>21.975</td>\n",
       "      <td>3.1</td>\n",
       "      <td>175</td>\n",
       "      <td>109.0</td>\n",
       "      <td>72.7</td>\n",
       "      <td>194.6</td>\n",
       "      <td>3.368</td>\n",
       "      <td>17.5</td>\n",
       "      <td>25</td>\n",
       "      <td>71.181451</td>\n",
       "      <td>1</td>\n",
       "    </tr>\n",
       "    <tr>\n",
       "      <th>11</th>\n",
       "      <td>13.740000</td>\n",
       "      <td>25.300</td>\n",
       "      <td>3.8</td>\n",
       "      <td>240</td>\n",
       "      <td>109.0</td>\n",
       "      <td>72.7</td>\n",
       "      <td>196.2</td>\n",
       "      <td>3.543</td>\n",
       "      <td>17.5</td>\n",
       "      <td>23</td>\n",
       "      <td>95.636703</td>\n",
       "      <td>1</td>\n",
       "    </tr>\n",
       "  </tbody>\n",
       "</table>\n",
       "</div>"
      ],
      "text/plain": [
       "    _year_resale_value  Price_in_thousands  Engine_size  Horsepower  \\\n",
       "1            19.875000              28.400          3.2         225   \n",
       "2            18.225000              29.000          3.2         225   \n",
       "7            18.072975              26.990          2.5         170   \n",
       "10           12.475000              21.975          3.1         175   \n",
       "11           13.740000              25.300          3.8         240   \n",
       "\n",
       "    Wheelbase  Width  Length  Curb_weight  Fuel_capacity  Fuel_efficiency  \\\n",
       "1       108.1   70.3   192.9        3.517           17.2               25   \n",
       "2       106.9   70.6   192.0        3.470           17.2               26   \n",
       "7       107.3   68.4   176.0        3.179           16.6               26   \n",
       "10      109.0   72.7   194.6        3.368           17.5               25   \n",
       "11      109.0   72.7   196.2        3.543           17.5               23   \n",
       "\n",
       "    Power_perf_factor  Vehicle_type_Passenger  \n",
       "1           91.370778                       1  \n",
       "2           90.345000                       1  \n",
       "7           71.191207                       1  \n",
       "10          71.181451                       1  \n",
       "11          95.636703                       1  "
      ]
     },
     "execution_count": 46,
     "metadata": {},
     "output_type": "execute_result"
    }
   ],
   "source": [
    "car_modify.head()"
   ]
  },
  {
   "cell_type": "markdown",
   "metadata": {},
   "source": [
    "### Q 7. Write a code to create a DataFrame from the standardized value calculated above"
   ]
  },
  {
   "cell_type": "markdown",
   "metadata": {},
   "source": [
    "### Since the standardized value is a numpy array, add the data to a dataframe with column header as mentioned below in the same order\n",
    "\n",
    "```['_year_resale_value','Price_in_thousands','Engine_size','Horsepower','Wheelbase','Width','Length','Curb_weight','Fuel_capacity','Fuel_efficiency','Power_perf_factor','Vehicle_type_Passenger'] ```"
   ]
  },
  {
   "cell_type": "code",
   "execution_count": null,
   "metadata": {},
   "outputs": [],
   "source": [
    "columns = ['_year_resale_value','Price_in_thousands','Engine_size','Horsepower','Wheelbase','Width','Length','Curb_weight','Fuel_capacity','Fuel_efficiency','Power_perf_factor','Vehicle_type_Passenger']\n",
    "def lr(std):\n",
    "    cars= pd.DataFrame(std)\n",
    "    cars.columns = columns\n",
    "    return cars\n",
    "cars = lr(std)"
   ]
  },
  {
   "cell_type": "markdown",
   "metadata": {},
   "source": [
    "### Q 8: Now since all variable may not be of use, please extract only the following variables for training. Preparing X (independent features) for the model building.\n",
    "\n",
    "```['Price_in_thousands','Engine_size','Wheelbase','Fuel_efficiency','Vehicle_type_Passenger']```"
   ]
  },
  {
   "cell_type": "code",
   "execution_count": null,
   "metadata": {},
   "outputs": [],
   "source": [
    "X = pd.DataFrame()\n",
    "feature_cols = ['Price_in_thousands','Engine_size','Wheelbase','Fuel_efficiency','Vehicle_type_Passenger']                \n",
    "def lr(cars):\n",
    "    X = cars[feature_cols]\n",
    "    return X\n",
    "X = lr(cars)\n",
    "print(X)"
   ]
  },
  {
   "cell_type": "markdown",
   "metadata": {},
   "source": [
    "### Check for the type and shape of X."
   ]
  },
  {
   "cell_type": "code",
   "execution_count": null,
   "metadata": {},
   "outputs": [],
   "source": [
    "def lr():\n",
    "    print(type(X))\n",
    "    print(X.shape)\n",
    "lr()"
   ]
  },
  {
   "cell_type": "markdown",
   "metadata": {},
   "source": [
    "### Q 9. Extract y (dependent variable) for model building.\n",
    "```['Sales_in_thousands']```"
   ]
  },
  {
   "cell_type": "code",
   "execution_count": null,
   "metadata": {},
   "outputs": [],
   "source": [
    "y = pd.DataFrame()\n",
    "def lr(car_dummy):\n",
    "    y = car_dummy['Sales_in_thousands']\n",
    "    return y\n",
    "y = lr(car_dummy)\n",
    "print(y.head())"
   ]
  },
  {
   "cell_type": "markdown",
   "metadata": {},
   "source": [
    "### Check for the type and shape of y. "
   ]
  },
  {
   "cell_type": "code",
   "execution_count": null,
   "metadata": {},
   "outputs": [],
   "source": [
    "def lr():\n",
    "    print(type(y))\n",
    "    print(y.shape)\n",
    "lr()"
   ]
  },
  {
   "cell_type": "markdown",
   "metadata": {},
   "source": [
    "<a id=section403></a>"
   ]
  },
  {
   "cell_type": "markdown",
   "metadata": {},
   "source": [
    "### Q 10. Split the value of X and y into train and test datasets."
   ]
  },
  {
   "cell_type": "code",
   "execution_count": null,
   "metadata": {},
   "outputs": [],
   "source": [
    "from sklearn.cross_validation import train_test_split\n",
    "def lr():\n",
    "    return train_test_split(X, y, test_size=0.30, random_state=1)\n",
    "X_train, X_test, y_train, y_test = lr()"
   ]
  },
  {
   "cell_type": "markdown",
   "metadata": {},
   "source": [
    "### Check the shape of  X and y of train dataset."
   ]
  },
  {
   "cell_type": "code",
   "execution_count": null,
   "metadata": {},
   "outputs": [],
   "source": [
    "def lr():\n",
    "    print(X_train.shape)\n",
    "    print(y_train.shape)\n",
    "lr()"
   ]
  },
  {
   "cell_type": "markdown",
   "metadata": {},
   "source": [
    "### Check the shape of X and y of test dataset."
   ]
  },
  {
   "cell_type": "code",
   "execution_count": null,
   "metadata": {},
   "outputs": [],
   "source": [
    "def lr():\n",
    "    print(X_test.shape)\n",
    "    print(y_test.shape)\n",
    "lr()"
   ]
  },
  {
   "cell_type": "markdown",
   "metadata": {},
   "source": [
    "<a id=section404></a>"
   ]
  },
  {
   "cell_type": "markdown",
   "metadata": {},
   "source": [
    "### Q 11. Instantiate Linear regression model using scikit-learn"
   ]
  },
  {
   "cell_type": "code",
   "execution_count": null,
   "metadata": {},
   "outputs": [],
   "source": [
    "from sklearn.linear_model import LinearRegression\n",
    "def lr():\n",
    "    linreg = LinearRegression()\n",
    "    return linreg\n",
    "linreg = lr()"
   ]
  },
  {
   "cell_type": "markdown",
   "metadata": {},
   "source": [
    "### Q12. Fit the linear model on X_train and y_train."
   ]
  },
  {
   "cell_type": "code",
   "execution_count": null,
   "metadata": {},
   "outputs": [],
   "source": [
    "def lr():\n",
    "    linreg.fit(X_train, y_train)  \n",
    "lr()"
   ]
  },
  {
   "cell_type": "markdown",
   "metadata": {},
   "source": [
    "<a id=section405></a>"
   ]
  },
  {
   "cell_type": "markdown",
   "metadata": {},
   "source": [
    "### Q 13. Interpret the Model Coefficients."
   ]
  },
  {
   "cell_type": "code",
   "execution_count": null,
   "metadata": {},
   "outputs": [],
   "source": [
    "def lr():\n",
    "    print('Intercept:',linreg.intercept_)                                            \n",
    "    print('Coefficients:',linreg.coef_)\n",
    "lr()"
   ]
  },
  {
   "cell_type": "markdown",
   "metadata": {},
   "source": [
    "### Q.14 Zip the features to pair the feature names with the coefficients."
   ]
  },
  {
   "cell_type": "code",
   "execution_count": null,
   "metadata": {},
   "outputs": [],
   "source": [
    "def lr():\n",
    "    feature_cols.insert(0,'Intercept')\n",
    "    coef = linreg.coef_.tolist()\n",
    "    coef.insert(0, linreg.intercept_)\n",
    "    eq1 = zip(feature_cols, coef)\n",
    "    for c1,c2 in eq1:\n",
    "        print(c1,c2)\n",
    "lr()"
   ]
  },
  {
   "cell_type": "markdown",
   "metadata": {},
   "source": [
    "###  Q 15. Predict the train value using the built model."
   ]
  },
  {
   "cell_type": "code",
   "execution_count": null,
   "metadata": {},
   "outputs": [],
   "source": [
    "y_pred_train = linreg.predict(X_train)\n",
    "pred= pd.DataFrame(y_pred_train)\n",
    "def lr():  \n",
    "    pred.columns = ['Sales']\n",
    "    head = pred.head()\n",
    "    return head\n",
    "lr()"
   ]
  },
  {
   "cell_type": "markdown",
   "metadata": {},
   "source": [
    "### Q 16. Predict the test value using the built model."
   ]
  },
  {
   "cell_type": "code",
   "execution_count": null,
   "metadata": {},
   "outputs": [],
   "source": [
    "y_pred_test = linreg.predict(X_test)    \n",
    "pred_test= pd.DataFrame(y_pred_test)\n",
    "def lr():\n",
    "    pred_test.columns=['Sales']\n",
    "    head = pred_test.head()\n",
    "    return head\n",
    "lr()"
   ]
  },
  {
   "cell_type": "markdown",
   "metadata": {},
   "source": [
    "<a id=section406></a>"
   ]
  },
  {
   "cell_type": "markdown",
   "metadata": {},
   "source": [
    "### Q 17 Evaluate the model using Mean Absolute Error metrics for both train and test."
   ]
  },
  {
   "cell_type": "code",
   "execution_count": null,
   "metadata": {},
   "outputs": [],
   "source": [
    "from sklearn import metrics\n",
    "def lr():\n",
    "    MAE_train = metrics.mean_absolute_error(y_train, y_pred_train)\n",
    "    MAE_test = metrics.mean_absolute_error(y_test, y_pred_test)\n",
    "    print('MAE for training set is {}'.format(MAE_train))\n",
    "    print('MAE for test set is {}'.format(MAE_test))\n",
    "lr()"
   ]
  },
  {
   "cell_type": "markdown",
   "metadata": {},
   "source": [
    "### Q 18 Evaluate the model using Mean Squared Error for both train and test."
   ]
  },
  {
   "cell_type": "code",
   "execution_count": null,
   "metadata": {},
   "outputs": [],
   "source": [
    "def lr():\n",
    "    MSE_train = metrics.mean_squared_error(y_train, y_pred_train)\n",
    "    MSE_test = metrics.mean_squared_error(y_test, y_pred_test)\n",
    "    print('MSE for training set is {}'.format(MSE_train))\n",
    "    print('MSE for test set is {}'.format(MSE_test))\n",
    "lr()"
   ]
  },
  {
   "cell_type": "markdown",
   "metadata": {},
   "source": [
    "### Q 19 Evaluate the model using Root Mean Squared Error for both train and test."
   ]
  },
  {
   "cell_type": "code",
   "execution_count": null,
   "metadata": {},
   "outputs": [],
   "source": [
    "import numpy as np\n",
    "def lr():\n",
    "    RMSE_train = np.sqrt( metrics.mean_squared_error(y_train, y_pred_train))\n",
    "    RMSE_test = np.sqrt(metrics.mean_squared_error(y_test, y_pred_test))\n",
    "    print('RMSE for training set is {}'.format(RMSE_train))\n",
    "    print('RMSE for test set is {}'.format(RMSE_test))\n",
    "lr()"
   ]
  },
  {
   "cell_type": "markdown",
   "metadata": {},
   "source": [
    "### Q 20. Evaluate the model using R-square value for both train and test."
   ]
  },
  {
   "cell_type": "code",
   "execution_count": null,
   "metadata": {},
   "outputs": [],
   "source": [
    "from sklearn.metrics import r2_score\n",
    "def lr():\n",
    "    R2_train = r2_score(y_train, y_pred_train) \n",
    "    R2_test = r2_score(y_test, y_pred_test) \n",
    "    print('R2 for training set is {}'.format(R2_train))\n",
    "    print('R2 for test set is {}'.format(R2_test))\n",
    "lr()"
   ]
  }
 ],
 "metadata": {
  "kernelspec": {
   "display_name": "Python 3",
   "language": "python",
   "name": "python3"
  },
  "language_info": {
   "codemirror_mode": {
    "name": "ipython",
    "version": 3
   },
   "file_extension": ".py",
   "mimetype": "text/x-python",
   "name": "python",
   "nbconvert_exporter": "python",
   "pygments_lexer": "ipython3",
   "version": "3.8.5"
  },
  "toc": {
   "base_numbering": 1,
   "nav_menu": {},
   "number_sections": true,
   "sideBar": true,
   "skip_h1_title": false,
   "title_cell": "Table of Contents",
   "title_sidebar": "Contents",
   "toc_cell": false,
   "toc_position": {
    "height": "calc(100% - 180px)",
    "left": "10px",
    "top": "150px",
    "width": "254.8px"
   },
   "toc_section_display": true,
   "toc_window_display": true
  }
 },
 "nbformat": 4,
 "nbformat_minor": 2
}
